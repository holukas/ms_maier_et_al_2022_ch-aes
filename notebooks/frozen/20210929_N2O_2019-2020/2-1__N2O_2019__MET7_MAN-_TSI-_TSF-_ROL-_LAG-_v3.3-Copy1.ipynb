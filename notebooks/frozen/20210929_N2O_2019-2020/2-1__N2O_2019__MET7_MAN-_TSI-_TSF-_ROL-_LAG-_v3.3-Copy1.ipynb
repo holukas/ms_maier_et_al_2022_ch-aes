{
 "cells": [
  {
   "cell_type": "markdown",
   "id": "d72d77d0",
   "metadata": {},
   "source": [
    "# **N2O Feature Reduction And Gap-filling 2020**\n",
    "\n",
    "- Half-hourly fluxes and meteo data from CH-AES\n",
    "- Measurements 2019: 2019051011.X52 to 2019072307.X00\n",
    "- Measurements 2020: 2020051215.X15 to 2020110307.X00"
   ]
  },
  {
   "cell_type": "markdown",
   "id": "ed768a47-7524-473d-9a3f-a10e3fcf3a0b",
   "metadata": {},
   "source": [
    "# Settings"
   ]
  },
  {
   "cell_type": "code",
   "execution_count": 1,
   "id": "39cc1520",
   "metadata": {},
   "outputs": [],
   "source": [
    "DATAFILE = \"/work/ms-ch-aes/data/ch-aes_2019_2020_data_for_analysis_20210927/CH-AES_2019_2020_data_for_analysis_20210927.csv\"\n",
    "OUTFILE = \"gapfilled_N2O_CH-AES_2019.csv\"\n",
    "SELECT_YEAR = 2019\n",
    "\n",
    "target = 'N2O_flag0_ustar'\n",
    "dropcols = ['CH4_flag01', 'CH4_flag0', 'CH4_flag0_ustar', 'N2O_flag01', 'N2O_flag0', 'PA', 'TA', 'RH', 'Reco', 'GPP', 'NEE', 'VPD', 'Rg']  # Not used in analysis\n",
    "# dropcols = ['CH4_flag01', 'CH4_flag0', 'CH4_flag0_ustar', 'N2O_flag01', 'N2O_flag0', 'PA', 'TA', 'RH', 'Reco', 'GPP', 'NEE', 'VPD', 'Rg', 'WFPS_0.15', 'WFPS_0.30', 'TS_0.15', 'TS_0.30']  # Not used in analysis\n",
    "keep_mgmt = 'none'  # Options: 'all' keeps all management, 'bulk' keeps combined .MGMT column, 'none' removes all management, 'combos' keeps combined e.g. Nmin+Norg and also harvest\n",
    "use_timesince_vars = False\n",
    "\n",
    "# Random forest\n",
    "timestamp_as_features = False\n",
    "include_rolling_variants = False\n",
    "include_lagged_variants = False"
   ]
  },
  {
   "cell_type": "markdown",
   "id": "680669a1",
   "metadata": {},
   "source": [
    "# Setup"
   ]
  },
  {
   "cell_type": "markdown",
   "id": "5223a349",
   "metadata": {},
   "source": [
    "## Imports"
   ]
  },
  {
   "cell_type": "code",
   "execution_count": 2,
   "id": "19efd9d9",
   "metadata": {
    "tags": []
   },
   "outputs": [],
   "source": [
    "import os\n",
    "import datetime as dt\n",
    "\n",
    "import numpy as np\n",
    "import matplotlib.pyplot as plt\n",
    "import pandas as pd\n",
    "pd.set_option('display.max_columns', 99)\n",
    "pd.set_option('display.max_rows', 99)\n",
    "\n",
    "import warnings\n",
    "warnings.filterwarnings('ignore')\n",
    "\n",
    "from pkgs.randomforest_ts import RandomForestTS  # From DIIVE"
   ]
  },
  {
   "cell_type": "code",
   "execution_count": 3,
   "id": "c65cb489",
   "metadata": {},
   "outputs": [
    {
     "name": "stdout",
     "output_type": "stream",
     "text": [
      "Working directory: /work/ms-ch-aes/notebooks\n"
     ]
    }
   ],
   "source": [
    "print(f\"Working directory: {os.getcwd()}\")"
   ]
  },
  {
   "cell_type": "markdown",
   "id": "22b1f769",
   "metadata": {},
   "source": [
    "## Load data from file\n",
    "Load the original data file."
   ]
  },
  {
   "cell_type": "code",
   "execution_count": 4,
   "id": "312041de",
   "metadata": {},
   "outputs": [
    {
     "data": {
      "text/html": [
       "<div>\n",
       "<style scoped>\n",
       "    .dataframe tbody tr th:only-of-type {\n",
       "        vertical-align: middle;\n",
       "    }\n",
       "\n",
       "    .dataframe tbody tr th {\n",
       "        vertical-align: top;\n",
       "    }\n",
       "\n",
       "    .dataframe thead th {\n",
       "        text-align: right;\n",
       "    }\n",
       "</style>\n",
       "<table border=\"1\" class=\"dataframe\">\n",
       "  <thead>\n",
       "    <tr style=\"text-align: right;\">\n",
       "      <th></th>\n",
       "      <th>TA</th>\n",
       "      <th>RH</th>\n",
       "      <th>PA</th>\n",
       "      <th>Rg</th>\n",
       "      <th>TS_0.05</th>\n",
       "      <th>TS_0.15</th>\n",
       "      <th>...</th>\n",
       "      <th>harvest</th>\n",
       "      <th>Nmin</th>\n",
       "      <th>Norg</th>\n",
       "      <th>Nfert</th>\n",
       "      <th>soil</th>\n",
       "      <th>sow</th>\n",
       "    </tr>\n",
       "    <tr>\n",
       "      <th>TIMESTAMP</th>\n",
       "      <th></th>\n",
       "      <th></th>\n",
       "      <th></th>\n",
       "      <th></th>\n",
       "      <th></th>\n",
       "      <th></th>\n",
       "      <th></th>\n",
       "      <th></th>\n",
       "      <th></th>\n",
       "      <th></th>\n",
       "      <th></th>\n",
       "      <th></th>\n",
       "      <th></th>\n",
       "    </tr>\n",
       "  </thead>\n",
       "  <tbody>\n",
       "    <tr>\n",
       "      <th>2019-05-08 15:45:00</th>\n",
       "      <td>10.233333</td>\n",
       "      <td>94.266667</td>\n",
       "      <td>94.953333</td>\n",
       "      <td>45.000000</td>\n",
       "      <td>11.933333</td>\n",
       "      <td>11.800000</td>\n",
       "      <td>...</td>\n",
       "      <td>0</td>\n",
       "      <td>0</td>\n",
       "      <td>0</td>\n",
       "      <td>0</td>\n",
       "      <td>0</td>\n",
       "      <td>0</td>\n",
       "    </tr>\n",
       "    <tr>\n",
       "      <th>2019-05-08 16:15:00</th>\n",
       "      <td>10.100000</td>\n",
       "      <td>95.333333</td>\n",
       "      <td>94.940000</td>\n",
       "      <td>45.000000</td>\n",
       "      <td>11.900000</td>\n",
       "      <td>11.800000</td>\n",
       "      <td>...</td>\n",
       "      <td>0</td>\n",
       "      <td>0</td>\n",
       "      <td>0</td>\n",
       "      <td>0</td>\n",
       "      <td>0</td>\n",
       "      <td>0</td>\n",
       "    </tr>\n",
       "    <tr>\n",
       "      <th>2019-05-08 16:45:00</th>\n",
       "      <td>10.133333</td>\n",
       "      <td>96.033333</td>\n",
       "      <td>94.956667</td>\n",
       "      <td>39.666667</td>\n",
       "      <td>11.866667</td>\n",
       "      <td>11.700000</td>\n",
       "      <td>...</td>\n",
       "      <td>0</td>\n",
       "      <td>0</td>\n",
       "      <td>0</td>\n",
       "      <td>0</td>\n",
       "      <td>0</td>\n",
       "      <td>0</td>\n",
       "    </tr>\n",
       "    <tr>\n",
       "      <th>2019-05-08 17:15:00</th>\n",
       "      <td>10.133333</td>\n",
       "      <td>96.200000</td>\n",
       "      <td>95.003333</td>\n",
       "      <td>36.666667</td>\n",
       "      <td>11.766667</td>\n",
       "      <td>11.700000</td>\n",
       "      <td>...</td>\n",
       "      <td>0</td>\n",
       "      <td>0</td>\n",
       "      <td>0</td>\n",
       "      <td>0</td>\n",
       "      <td>0</td>\n",
       "      <td>0</td>\n",
       "    </tr>\n",
       "    <tr>\n",
       "      <th>2019-05-08 17:45:00</th>\n",
       "      <td>10.166667</td>\n",
       "      <td>96.000003</td>\n",
       "      <td>95.063333</td>\n",
       "      <td>21.333333</td>\n",
       "      <td>11.700000</td>\n",
       "      <td>11.633333</td>\n",
       "      <td>...</td>\n",
       "      <td>0</td>\n",
       "      <td>0</td>\n",
       "      <td>0</td>\n",
       "      <td>0</td>\n",
       "      <td>0</td>\n",
       "      <td>0</td>\n",
       "    </tr>\n",
       "    <tr>\n",
       "      <th>...</th>\n",
       "      <td>...</td>\n",
       "      <td>...</td>\n",
       "      <td>...</td>\n",
       "      <td>...</td>\n",
       "      <td>...</td>\n",
       "      <td>...</td>\n",
       "      <td>...</td>\n",
       "      <td>...</td>\n",
       "      <td>...</td>\n",
       "      <td>...</td>\n",
       "      <td>...</td>\n",
       "      <td>...</td>\n",
       "      <td>...</td>\n",
       "    </tr>\n",
       "    <tr>\n",
       "      <th>2020-11-03 10:45:00</th>\n",
       "      <td>NaN</td>\n",
       "      <td>NaN</td>\n",
       "      <td>NaN</td>\n",
       "      <td>NaN</td>\n",
       "      <td>NaN</td>\n",
       "      <td>NaN</td>\n",
       "      <td>...</td>\n",
       "      <td>0</td>\n",
       "      <td>0</td>\n",
       "      <td>0</td>\n",
       "      <td>0</td>\n",
       "      <td>0</td>\n",
       "      <td>0</td>\n",
       "    </tr>\n",
       "    <tr>\n",
       "      <th>2020-11-03 11:15:00</th>\n",
       "      <td>NaN</td>\n",
       "      <td>NaN</td>\n",
       "      <td>NaN</td>\n",
       "      <td>NaN</td>\n",
       "      <td>NaN</td>\n",
       "      <td>NaN</td>\n",
       "      <td>...</td>\n",
       "      <td>0</td>\n",
       "      <td>0</td>\n",
       "      <td>0</td>\n",
       "      <td>0</td>\n",
       "      <td>0</td>\n",
       "      <td>0</td>\n",
       "    </tr>\n",
       "    <tr>\n",
       "      <th>2020-11-03 11:45:00</th>\n",
       "      <td>NaN</td>\n",
       "      <td>NaN</td>\n",
       "      <td>NaN</td>\n",
       "      <td>NaN</td>\n",
       "      <td>NaN</td>\n",
       "      <td>NaN</td>\n",
       "      <td>...</td>\n",
       "      <td>0</td>\n",
       "      <td>0</td>\n",
       "      <td>0</td>\n",
       "      <td>0</td>\n",
       "      <td>0</td>\n",
       "      <td>0</td>\n",
       "    </tr>\n",
       "    <tr>\n",
       "      <th>2020-11-03 12:15:00</th>\n",
       "      <td>NaN</td>\n",
       "      <td>NaN</td>\n",
       "      <td>NaN</td>\n",
       "      <td>NaN</td>\n",
       "      <td>NaN</td>\n",
       "      <td>NaN</td>\n",
       "      <td>...</td>\n",
       "      <td>0</td>\n",
       "      <td>0</td>\n",
       "      <td>0</td>\n",
       "      <td>0</td>\n",
       "      <td>0</td>\n",
       "      <td>0</td>\n",
       "    </tr>\n",
       "    <tr>\n",
       "      <th>2020-11-03 12:45:00</th>\n",
       "      <td>NaN</td>\n",
       "      <td>NaN</td>\n",
       "      <td>NaN</td>\n",
       "      <td>NaN</td>\n",
       "      <td>NaN</td>\n",
       "      <td>NaN</td>\n",
       "      <td>...</td>\n",
       "      <td>0</td>\n",
       "      <td>0</td>\n",
       "      <td>0</td>\n",
       "      <td>0</td>\n",
       "      <td>0</td>\n",
       "      <td>0</td>\n",
       "    </tr>\n",
       "  </tbody>\n",
       "</table>\n",
       "<p>26155 rows × 28 columns</p>\n",
       "</div>"
      ],
      "text/plain": [
       "                            TA         RH         PA         Rg    TS_0.05    TS_0.15  ...  harvest  Nmin  Norg  Nfert  soil  sow\n",
       "TIMESTAMP                                                                              ...                                       \n",
       "2019-05-08 15:45:00  10.233333  94.266667  94.953333  45.000000  11.933333  11.800000  ...        0     0     0      0     0    0\n",
       "2019-05-08 16:15:00  10.100000  95.333333  94.940000  45.000000  11.900000  11.800000  ...        0     0     0      0     0    0\n",
       "2019-05-08 16:45:00  10.133333  96.033333  94.956667  39.666667  11.866667  11.700000  ...        0     0     0      0     0    0\n",
       "2019-05-08 17:15:00  10.133333  96.200000  95.003333  36.666667  11.766667  11.700000  ...        0     0     0      0     0    0\n",
       "2019-05-08 17:45:00  10.166667  96.000003  95.063333  21.333333  11.700000  11.633333  ...        0     0     0      0     0    0\n",
       "...                        ...        ...        ...        ...        ...        ...  ...      ...   ...   ...    ...   ...  ...\n",
       "2020-11-03 10:45:00        NaN        NaN        NaN        NaN        NaN        NaN  ...        0     0     0      0     0    0\n",
       "2020-11-03 11:15:00        NaN        NaN        NaN        NaN        NaN        NaN  ...        0     0     0      0     0    0\n",
       "2020-11-03 11:45:00        NaN        NaN        NaN        NaN        NaN        NaN  ...        0     0     0      0     0    0\n",
       "2020-11-03 12:15:00        NaN        NaN        NaN        NaN        NaN        NaN  ...        0     0     0      0     0    0\n",
       "2020-11-03 12:45:00        NaN        NaN        NaN        NaN        NaN        NaN  ...        0     0     0      0     0    0\n",
       "\n",
       "[26155 rows x 28 columns]"
      ]
     },
     "metadata": {},
     "output_type": "display_data"
    },
    {
     "data": {
      "text/plain": [
       "Index(['TA', 'RH', 'PA', 'Rg', 'TS_0.05', 'TS_0.15', 'TS_0.30', 'WFPS_0.05', 'WFPS_0.15', 'WFPS_0.30', 'PREC', 'VPD', 'NEE', 'GPP', 'Reco', 'CH4_flag01', 'CH4_flag0', 'CH4_flag0_ustar', 'N2O_flag01', 'N2O_flag0', 'N2O_flag0_ustar', 'herb', 'harvest', 'Nmin', 'Norg', 'Nfert', 'soil', 'sow'], dtype='object')"
      ]
     },
     "metadata": {},
     "output_type": "display_data"
    }
   ],
   "source": [
    "date_parser = lambda c: pd.to_datetime(c, format='%Y-%m-%d %H:%M:%S', errors='coerce')\n",
    "source_df = pd.read_csv(DATAFILE, index_col=0, parse_dates=True, na_values=[-9999, 'NA'], date_parser=date_parser)\n",
    "display(source_df)\n",
    "display(source_df.columns)"
   ]
  },
  {
   "cell_type": "code",
   "execution_count": 5,
   "id": "996ec7bc",
   "metadata": {},
   "outputs": [
    {
     "name": "stdout",
     "output_type": "stream",
     "text": [
      "Found duplicates in index: 1\n",
      "Found duplicates in index: 1\n"
     ]
    }
   ],
   "source": [
    "# Check timestamp index for duplicates and timestamp NaTs\n",
    "\n",
    "locs_duplicates = source_df.index.duplicated(keep='first')\n",
    "print(f\"Found duplicates in index: {locs_duplicates.sum()}\")\n",
    "source_df = source_df[~locs_duplicates]\n",
    "\n",
    "locs_nats = source_df.index.isnull()\n",
    "print(f\"Found duplicates in index: {locs_nats.sum()}\")\n",
    "source_df = source_df[~locs_nats]"
   ]
  },
  {
   "cell_type": "code",
   "execution_count": 6,
   "id": "15666dc2",
   "metadata": {},
   "outputs": [],
   "source": [
    "# Sort timestamp index\n",
    "source_df = source_df.sort_index(ascending=True)"
   ]
  },
  {
   "cell_type": "code",
   "execution_count": 7,
   "id": "c376f390",
   "metadata": {},
   "outputs": [
    {
     "data": {
      "text/html": [
       "<div>\n",
       "<style scoped>\n",
       "    .dataframe tbody tr th:only-of-type {\n",
       "        vertical-align: middle;\n",
       "    }\n",
       "\n",
       "    .dataframe tbody tr th {\n",
       "        vertical-align: top;\n",
       "    }\n",
       "\n",
       "    .dataframe thead th {\n",
       "        text-align: right;\n",
       "    }\n",
       "</style>\n",
       "<table border=\"1\" class=\"dataframe\">\n",
       "  <thead>\n",
       "    <tr style=\"text-align: right;\">\n",
       "      <th></th>\n",
       "      <th>TA</th>\n",
       "      <th>RH</th>\n",
       "      <th>PA</th>\n",
       "      <th>Rg</th>\n",
       "      <th>TS_0.05</th>\n",
       "      <th>TS_0.15</th>\n",
       "      <th>...</th>\n",
       "      <th>harvest</th>\n",
       "      <th>Nmin</th>\n",
       "      <th>Norg</th>\n",
       "      <th>Nfert</th>\n",
       "      <th>soil</th>\n",
       "      <th>sow</th>\n",
       "    </tr>\n",
       "  </thead>\n",
       "  <tbody>\n",
       "    <tr>\n",
       "      <th>count</th>\n",
       "      <td>24461.000000</td>\n",
       "      <td>24475.000000</td>\n",
       "      <td>24465.000000</td>\n",
       "      <td>24513.000000</td>\n",
       "      <td>23939.000000</td>\n",
       "      <td>23939.000000</td>\n",
       "      <td>...</td>\n",
       "      <td>26153.000000</td>\n",
       "      <td>26153.000000</td>\n",
       "      <td>26153.000000</td>\n",
       "      <td>26153.000000</td>\n",
       "      <td>26153.000000</td>\n",
       "      <td>26153.000000</td>\n",
       "    </tr>\n",
       "    <tr>\n",
       "      <th>mean</th>\n",
       "      <td>12.936030</td>\n",
       "      <td>76.026378</td>\n",
       "      <td>96.175843</td>\n",
       "      <td>160.765543</td>\n",
       "      <td>15.239136</td>\n",
       "      <td>15.135057</td>\n",
       "      <td>...</td>\n",
       "      <td>0.005544</td>\n",
       "      <td>0.000918</td>\n",
       "      <td>0.001835</td>\n",
       "      <td>0.002753</td>\n",
       "      <td>0.003671</td>\n",
       "      <td>0.001835</td>\n",
       "    </tr>\n",
       "    <tr>\n",
       "      <th>std</th>\n",
       "      <td>7.459213</td>\n",
       "      <td>17.023136</td>\n",
       "      <td>0.683389</td>\n",
       "      <td>239.514489</td>\n",
       "      <td>6.817599</td>\n",
       "      <td>6.160020</td>\n",
       "      <td>...</td>\n",
       "      <td>0.074255</td>\n",
       "      <td>0.030280</td>\n",
       "      <td>0.042803</td>\n",
       "      <td>0.052398</td>\n",
       "      <td>0.060476</td>\n",
       "      <td>0.042803</td>\n",
       "    </tr>\n",
       "    <tr>\n",
       "      <th>min</th>\n",
       "      <td>-5.333333</td>\n",
       "      <td>24.966667</td>\n",
       "      <td>92.886667</td>\n",
       "      <td>0.000000</td>\n",
       "      <td>1.900000</td>\n",
       "      <td>3.002778</td>\n",
       "      <td>...</td>\n",
       "      <td>0.000000</td>\n",
       "      <td>0.000000</td>\n",
       "      <td>0.000000</td>\n",
       "      <td>0.000000</td>\n",
       "      <td>0.000000</td>\n",
       "      <td>0.000000</td>\n",
       "    </tr>\n",
       "    <tr>\n",
       "      <th>25%</th>\n",
       "      <td>7.466667</td>\n",
       "      <td>63.266667</td>\n",
       "      <td>95.846667</td>\n",
       "      <td>0.000000</td>\n",
       "      <td>10.216389</td>\n",
       "      <td>10.465834</td>\n",
       "      <td>...</td>\n",
       "      <td>0.000000</td>\n",
       "      <td>0.000000</td>\n",
       "      <td>0.000000</td>\n",
       "      <td>0.000000</td>\n",
       "      <td>0.000000</td>\n",
       "      <td>0.000000</td>\n",
       "    </tr>\n",
       "    <tr>\n",
       "      <th>50%</th>\n",
       "      <td>12.665000</td>\n",
       "      <td>81.100000</td>\n",
       "      <td>96.248277</td>\n",
       "      <td>14.333333</td>\n",
       "      <td>15.233333</td>\n",
       "      <td>15.500000</td>\n",
       "      <td>...</td>\n",
       "      <td>0.000000</td>\n",
       "      <td>0.000000</td>\n",
       "      <td>0.000000</td>\n",
       "      <td>0.000000</td>\n",
       "      <td>0.000000</td>\n",
       "      <td>0.000000</td>\n",
       "    </tr>\n",
       "    <tr>\n",
       "      <th>75%</th>\n",
       "      <td>18.017778</td>\n",
       "      <td>90.382222</td>\n",
       "      <td>96.580504</td>\n",
       "      <td>252.961103</td>\n",
       "      <td>20.100556</td>\n",
       "      <td>20.233611</td>\n",
       "      <td>...</td>\n",
       "      <td>0.000000</td>\n",
       "      <td>0.000000</td>\n",
       "      <td>0.000000</td>\n",
       "      <td>0.000000</td>\n",
       "      <td>0.000000</td>\n",
       "      <td>0.000000</td>\n",
       "    </tr>\n",
       "    <tr>\n",
       "      <th>max</th>\n",
       "      <td>36.200000</td>\n",
       "      <td>100.400000</td>\n",
       "      <td>98.096667</td>\n",
       "      <td>959.649957</td>\n",
       "      <td>38.166667</td>\n",
       "      <td>31.100000</td>\n",
       "      <td>...</td>\n",
       "      <td>1.000000</td>\n",
       "      <td>1.000000</td>\n",
       "      <td>1.000000</td>\n",
       "      <td>1.000000</td>\n",
       "      <td>1.000000</td>\n",
       "      <td>1.000000</td>\n",
       "    </tr>\n",
       "  </tbody>\n",
       "</table>\n",
       "<p>8 rows × 28 columns</p>\n",
       "</div>"
      ],
      "text/plain": [
       "                 TA            RH            PA            Rg       TS_0.05       TS_0.15  ...       harvest          Nmin          Norg         Nfert          soil           sow\n",
       "count  24461.000000  24475.000000  24465.000000  24513.000000  23939.000000  23939.000000  ...  26153.000000  26153.000000  26153.000000  26153.000000  26153.000000  26153.000000\n",
       "mean      12.936030     76.026378     96.175843    160.765543     15.239136     15.135057  ...      0.005544      0.000918      0.001835      0.002753      0.003671      0.001835\n",
       "std        7.459213     17.023136      0.683389    239.514489      6.817599      6.160020  ...      0.074255      0.030280      0.042803      0.052398      0.060476      0.042803\n",
       "min       -5.333333     24.966667     92.886667      0.000000      1.900000      3.002778  ...      0.000000      0.000000      0.000000      0.000000      0.000000      0.000000\n",
       "25%        7.466667     63.266667     95.846667      0.000000     10.216389     10.465834  ...      0.000000      0.000000      0.000000      0.000000      0.000000      0.000000\n",
       "50%       12.665000     81.100000     96.248277     14.333333     15.233333     15.500000  ...      0.000000      0.000000      0.000000      0.000000      0.000000      0.000000\n",
       "75%       18.017778     90.382222     96.580504    252.961103     20.100556     20.233611  ...      0.000000      0.000000      0.000000      0.000000      0.000000      0.000000\n",
       "max       36.200000    100.400000     98.096667    959.649957     38.166667     31.100000  ...      1.000000      1.000000      1.000000      1.000000      1.000000      1.000000\n",
       "\n",
       "[8 rows x 28 columns]"
      ]
     },
     "execution_count": 7,
     "metadata": {},
     "output_type": "execute_result"
    }
   ],
   "source": [
    "source_df.describe()"
   ]
  },
  {
   "cell_type": "code",
   "execution_count": 8,
   "id": "74daff71",
   "metadata": {},
   "outputs": [
    {
     "data": {
      "text/html": [
       "<div>\n",
       "<style scoped>\n",
       "    .dataframe tbody tr th:only-of-type {\n",
       "        vertical-align: middle;\n",
       "    }\n",
       "\n",
       "    .dataframe tbody tr th {\n",
       "        vertical-align: top;\n",
       "    }\n",
       "\n",
       "    .dataframe thead th {\n",
       "        text-align: right;\n",
       "    }\n",
       "</style>\n",
       "<table border=\"1\" class=\"dataframe\">\n",
       "  <thead>\n",
       "    <tr style=\"text-align: right;\">\n",
       "      <th></th>\n",
       "      <th>TA</th>\n",
       "      <th>RH</th>\n",
       "      <th>PA</th>\n",
       "      <th>Rg</th>\n",
       "      <th>TS_0.05</th>\n",
       "      <th>TS_0.15</th>\n",
       "      <th>...</th>\n",
       "      <th>harvest</th>\n",
       "      <th>Nmin</th>\n",
       "      <th>Norg</th>\n",
       "      <th>Nfert</th>\n",
       "      <th>soil</th>\n",
       "      <th>sow</th>\n",
       "    </tr>\n",
       "    <tr>\n",
       "      <th>TIMESTAMP</th>\n",
       "      <th></th>\n",
       "      <th></th>\n",
       "      <th></th>\n",
       "      <th></th>\n",
       "      <th></th>\n",
       "      <th></th>\n",
       "      <th></th>\n",
       "      <th></th>\n",
       "      <th></th>\n",
       "      <th></th>\n",
       "      <th></th>\n",
       "      <th></th>\n",
       "      <th></th>\n",
       "    </tr>\n",
       "  </thead>\n",
       "  <tbody>\n",
       "    <tr>\n",
       "      <th>2019</th>\n",
       "      <td>11305</td>\n",
       "      <td>11305</td>\n",
       "      <td>11305</td>\n",
       "      <td>11319</td>\n",
       "      <td>11246</td>\n",
       "      <td>11246</td>\n",
       "      <td>...</td>\n",
       "      <td>11393</td>\n",
       "      <td>11393</td>\n",
       "      <td>11393</td>\n",
       "      <td>11393</td>\n",
       "      <td>11393</td>\n",
       "      <td>11393</td>\n",
       "    </tr>\n",
       "    <tr>\n",
       "      <th>2020</th>\n",
       "      <td>13156</td>\n",
       "      <td>13170</td>\n",
       "      <td>13160</td>\n",
       "      <td>13194</td>\n",
       "      <td>12693</td>\n",
       "      <td>12693</td>\n",
       "      <td>...</td>\n",
       "      <td>14760</td>\n",
       "      <td>14760</td>\n",
       "      <td>14760</td>\n",
       "      <td>14760</td>\n",
       "      <td>14760</td>\n",
       "      <td>14760</td>\n",
       "    </tr>\n",
       "  </tbody>\n",
       "</table>\n",
       "<p>2 rows × 28 columns</p>\n",
       "</div>"
      ],
      "text/plain": [
       "              TA     RH     PA     Rg  TS_0.05  TS_0.15  ...  harvest   Nmin   Norg  Nfert   soil    sow\n",
       "TIMESTAMP                                                ...                                            \n",
       "2019       11305  11305  11305  11319    11246    11246  ...    11393  11393  11393  11393  11393  11393\n",
       "2020       13156  13170  13160  13194    12693    12693  ...    14760  14760  14760  14760  14760  14760\n",
       "\n",
       "[2 rows x 28 columns]"
      ]
     },
     "execution_count": 8,
     "metadata": {},
     "output_type": "execute_result"
    }
   ],
   "source": [
    "source_df.groupby(source_df.index.year).count()"
   ]
  },
  {
   "cell_type": "code",
   "execution_count": 9,
   "id": "ee828b98-12d8-447c-9fe9-1496b32ab871",
   "metadata": {},
   "outputs": [],
   "source": [
    "# source_df['N2O_flag0_ustar'][10000:].plot()\n",
    "# # plt.ylim(0,0.008)"
   ]
  },
  {
   "cell_type": "markdown",
   "id": "b2b96c17",
   "metadata": {},
   "source": [
    "## Prepare work dataset\n",
    "Dataset with reduced number of variables.  "
   ]
  },
  {
   "cell_type": "code",
   "execution_count": 10,
   "id": "416b4638",
   "metadata": {},
   "outputs": [],
   "source": [
    "df = source_df.copy()"
   ]
  },
  {
   "cell_type": "code",
   "execution_count": 11,
   "id": "5e0b5810",
   "metadata": {},
   "outputs": [],
   "source": [
    "# Define and rename target column\n",
    "df.rename(columns={target: 'target'}, inplace=True)"
   ]
  },
  {
   "cell_type": "code",
   "execution_count": 12,
   "id": "6b2d1e78",
   "metadata": {},
   "outputs": [],
   "source": [
    "# Remove unneeded columns\n",
    "df.drop(dropcols, axis=1, inplace=True)"
   ]
  },
  {
   "cell_type": "code",
   "execution_count": 13,
   "id": "e2c33b52",
   "metadata": {},
   "outputs": [],
   "source": [
    "# Convert flux umol m-2 s-1 to nmol m-2 s-1\n",
    "df['target'] = df['target'].multiply(1000)  "
   ]
  },
  {
   "cell_type": "code",
   "execution_count": 14,
   "id": "5524e943",
   "metadata": {},
   "outputs": [
    {
     "name": "stdout",
     "output_type": "stream",
     "text": [
      "First measured value of target: 2019-05-10 13:15:00\n",
      "Last measured value of target: 2020-11-03 08:15:00\n",
      "Maximum value in target: 18.4327\n",
      "Minimum value in target: -7.71953\n"
     ]
    }
   ],
   "source": [
    "# Datetime of first and last available measurement of target\n",
    "_first_target_value_dt = df['target'].dropna().index[0]\n",
    "_last_target_value_dt = df['target'].dropna().index[-1]\n",
    "print(f\"First measured value of target: {_first_target_value_dt}\")\n",
    "print(f\"Last measured value of target: {_last_target_value_dt}\")\n",
    "print(f\"Maximum value in target: {df['target'].max()}\")\n",
    "print(f\"Minimum value in target: {df['target'].min()}\")"
   ]
  },
  {
   "cell_type": "markdown",
   "id": "8c2d6e68",
   "metadata": {},
   "source": [
    "### Outliers"
   ]
  },
  {
   "cell_type": "code",
   "execution_count": 15,
   "id": "95ffc6df",
   "metadata": {},
   "outputs": [
    {
     "data": {
      "text/plain": [
       "TIMESTAMP\n",
       "2019-06-01 05:15:00   -7.71953\n",
       "2020-08-11 03:45:00   -2.25100\n",
       "2020-07-23 13:45:00   -1.28848\n",
       "2020-08-26 09:45:00   -1.25867\n",
       "2020-08-12 00:15:00   -1.19992\n",
       "Name: target, dtype: float64"
      ]
     },
     "execution_count": 15,
     "metadata": {},
     "output_type": "execute_result"
    }
   ],
   "source": [
    "# Let's look at the 5 lowest values in target, to spot problematic outliers\n",
    "df['target'].sort_values(ascending=True).head(5)"
   ]
  },
  {
   "cell_type": "code",
   "execution_count": 16,
   "id": "659b083a",
   "metadata": {},
   "outputs": [],
   "source": [
    "# Remove still existing problematic outliers\n",
    "df.loc[df['target'] < -2, ['target']] = np.nan"
   ]
  },
  {
   "cell_type": "code",
   "execution_count": 17,
   "id": "5a3e136f",
   "metadata": {},
   "outputs": [
    {
     "data": {
      "text/plain": [
       "TIMESTAMP\n",
       "2020-07-23 13:45:00   -1.28848\n",
       "2020-08-26 09:45:00   -1.25867\n",
       "2020-08-12 00:15:00   -1.19992\n",
       "2020-07-26 14:15:00   -1.16799\n",
       "2020-07-27 14:15:00   -1.15264\n",
       "Name: target, dtype: float64"
      ]
     },
     "execution_count": 17,
     "metadata": {},
     "output_type": "execute_result"
    }
   ],
   "source": [
    "# Check again\n",
    "df['target'].sort_values(ascending=True).head(5)"
   ]
  },
  {
   "cell_type": "markdown",
   "id": "f598c668",
   "metadata": {},
   "source": [
    "### Add Management Info\n",
    "Since management was taking place before the first flux measurements, the date range  \n",
    "of the dataset is expanded and management dates are filled in. This way certain parameters  \n",
    "can be calcualted, e.g. time since last fertilization (before flux measurements).\n",
    "\n",
    "- Management info is inserted for daytime between 8:15 and 19:45."
   ]
  },
  {
   "cell_type": "markdown",
   "id": "9002a753",
   "metadata": {},
   "source": [
    "#### Expand date range\n",
    "to also include management before the first flux measurement"
   ]
  },
  {
   "cell_type": "code",
   "execution_count": 18,
   "id": "3044972a",
   "metadata": {},
   "outputs": [
    {
     "data": {
      "text/html": [
       "<div>\n",
       "<style scoped>\n",
       "    .dataframe tbody tr th:only-of-type {\n",
       "        vertical-align: middle;\n",
       "    }\n",
       "\n",
       "    .dataframe tbody tr th {\n",
       "        vertical-align: top;\n",
       "    }\n",
       "\n",
       "    .dataframe thead th {\n",
       "        text-align: right;\n",
       "    }\n",
       "</style>\n",
       "<table border=\"1\" class=\"dataframe\">\n",
       "  <thead>\n",
       "    <tr style=\"text-align: right;\">\n",
       "      <th></th>\n",
       "      <th>TS_0.05</th>\n",
       "      <th>TS_0.15</th>\n",
       "      <th>TS_0.30</th>\n",
       "      <th>WFPS_0.05</th>\n",
       "      <th>WFPS_0.15</th>\n",
       "      <th>WFPS_0.30</th>\n",
       "      <th>...</th>\n",
       "      <th>harvest</th>\n",
       "      <th>Nmin</th>\n",
       "      <th>Norg</th>\n",
       "      <th>Nfert</th>\n",
       "      <th>soil</th>\n",
       "      <th>sow</th>\n",
       "    </tr>\n",
       "  </thead>\n",
       "  <tbody>\n",
       "    <tr>\n",
       "      <th>2019-04-23 08:15:00</th>\n",
       "      <td>NaN</td>\n",
       "      <td>NaN</td>\n",
       "      <td>NaN</td>\n",
       "      <td>NaN</td>\n",
       "      <td>NaN</td>\n",
       "      <td>NaN</td>\n",
       "      <td>...</td>\n",
       "      <td>NaN</td>\n",
       "      <td>NaN</td>\n",
       "      <td>NaN</td>\n",
       "      <td>NaN</td>\n",
       "      <td>NaN</td>\n",
       "      <td>NaN</td>\n",
       "    </tr>\n",
       "    <tr>\n",
       "      <th>2019-04-23 08:45:00</th>\n",
       "      <td>NaN</td>\n",
       "      <td>NaN</td>\n",
       "      <td>NaN</td>\n",
       "      <td>NaN</td>\n",
       "      <td>NaN</td>\n",
       "      <td>NaN</td>\n",
       "      <td>...</td>\n",
       "      <td>NaN</td>\n",
       "      <td>NaN</td>\n",
       "      <td>NaN</td>\n",
       "      <td>NaN</td>\n",
       "      <td>NaN</td>\n",
       "      <td>NaN</td>\n",
       "    </tr>\n",
       "    <tr>\n",
       "      <th>2019-04-23 09:15:00</th>\n",
       "      <td>NaN</td>\n",
       "      <td>NaN</td>\n",
       "      <td>NaN</td>\n",
       "      <td>NaN</td>\n",
       "      <td>NaN</td>\n",
       "      <td>NaN</td>\n",
       "      <td>...</td>\n",
       "      <td>NaN</td>\n",
       "      <td>NaN</td>\n",
       "      <td>NaN</td>\n",
       "      <td>NaN</td>\n",
       "      <td>NaN</td>\n",
       "      <td>NaN</td>\n",
       "    </tr>\n",
       "    <tr>\n",
       "      <th>2019-04-23 09:45:00</th>\n",
       "      <td>NaN</td>\n",
       "      <td>NaN</td>\n",
       "      <td>NaN</td>\n",
       "      <td>NaN</td>\n",
       "      <td>NaN</td>\n",
       "      <td>NaN</td>\n",
       "      <td>...</td>\n",
       "      <td>NaN</td>\n",
       "      <td>NaN</td>\n",
       "      <td>NaN</td>\n",
       "      <td>NaN</td>\n",
       "      <td>NaN</td>\n",
       "      <td>NaN</td>\n",
       "    </tr>\n",
       "    <tr>\n",
       "      <th>2019-04-23 10:15:00</th>\n",
       "      <td>NaN</td>\n",
       "      <td>NaN</td>\n",
       "      <td>NaN</td>\n",
       "      <td>NaN</td>\n",
       "      <td>NaN</td>\n",
       "      <td>NaN</td>\n",
       "      <td>...</td>\n",
       "      <td>NaN</td>\n",
       "      <td>NaN</td>\n",
       "      <td>NaN</td>\n",
       "      <td>NaN</td>\n",
       "      <td>NaN</td>\n",
       "      <td>NaN</td>\n",
       "    </tr>\n",
       "    <tr>\n",
       "      <th>...</th>\n",
       "      <td>...</td>\n",
       "      <td>...</td>\n",
       "      <td>...</td>\n",
       "      <td>...</td>\n",
       "      <td>...</td>\n",
       "      <td>...</td>\n",
       "      <td>...</td>\n",
       "      <td>...</td>\n",
       "      <td>...</td>\n",
       "      <td>...</td>\n",
       "      <td>...</td>\n",
       "      <td>...</td>\n",
       "      <td>...</td>\n",
       "    </tr>\n",
       "    <tr>\n",
       "      <th>2019-05-08 13:15:00</th>\n",
       "      <td>NaN</td>\n",
       "      <td>NaN</td>\n",
       "      <td>NaN</td>\n",
       "      <td>NaN</td>\n",
       "      <td>NaN</td>\n",
       "      <td>NaN</td>\n",
       "      <td>...</td>\n",
       "      <td>NaN</td>\n",
       "      <td>NaN</td>\n",
       "      <td>NaN</td>\n",
       "      <td>NaN</td>\n",
       "      <td>NaN</td>\n",
       "      <td>NaN</td>\n",
       "    </tr>\n",
       "    <tr>\n",
       "      <th>2019-05-08 13:45:00</th>\n",
       "      <td>NaN</td>\n",
       "      <td>NaN</td>\n",
       "      <td>NaN</td>\n",
       "      <td>NaN</td>\n",
       "      <td>NaN</td>\n",
       "      <td>NaN</td>\n",
       "      <td>...</td>\n",
       "      <td>NaN</td>\n",
       "      <td>NaN</td>\n",
       "      <td>NaN</td>\n",
       "      <td>NaN</td>\n",
       "      <td>NaN</td>\n",
       "      <td>NaN</td>\n",
       "    </tr>\n",
       "    <tr>\n",
       "      <th>2019-05-08 14:15:00</th>\n",
       "      <td>NaN</td>\n",
       "      <td>NaN</td>\n",
       "      <td>NaN</td>\n",
       "      <td>NaN</td>\n",
       "      <td>NaN</td>\n",
       "      <td>NaN</td>\n",
       "      <td>...</td>\n",
       "      <td>NaN</td>\n",
       "      <td>NaN</td>\n",
       "      <td>NaN</td>\n",
       "      <td>NaN</td>\n",
       "      <td>NaN</td>\n",
       "      <td>NaN</td>\n",
       "    </tr>\n",
       "    <tr>\n",
       "      <th>2019-05-08 14:45:00</th>\n",
       "      <td>NaN</td>\n",
       "      <td>NaN</td>\n",
       "      <td>NaN</td>\n",
       "      <td>NaN</td>\n",
       "      <td>NaN</td>\n",
       "      <td>NaN</td>\n",
       "      <td>...</td>\n",
       "      <td>NaN</td>\n",
       "      <td>NaN</td>\n",
       "      <td>NaN</td>\n",
       "      <td>NaN</td>\n",
       "      <td>NaN</td>\n",
       "      <td>NaN</td>\n",
       "    </tr>\n",
       "    <tr>\n",
       "      <th>2019-05-08 15:15:00</th>\n",
       "      <td>NaN</td>\n",
       "      <td>NaN</td>\n",
       "      <td>NaN</td>\n",
       "      <td>NaN</td>\n",
       "      <td>NaN</td>\n",
       "      <td>NaN</td>\n",
       "      <td>...</td>\n",
       "      <td>NaN</td>\n",
       "      <td>NaN</td>\n",
       "      <td>NaN</td>\n",
       "      <td>NaN</td>\n",
       "      <td>NaN</td>\n",
       "      <td>NaN</td>\n",
       "    </tr>\n",
       "  </tbody>\n",
       "</table>\n",
       "<p>735 rows × 15 columns</p>\n",
       "</div>"
      ],
      "text/plain": [
       "                    TS_0.05 TS_0.15 TS_0.30 WFPS_0.05 WFPS_0.15 WFPS_0.30  ... harvest Nmin Norg Nfert soil  sow\n",
       "2019-04-23 08:15:00     NaN     NaN     NaN       NaN       NaN       NaN  ...     NaN  NaN  NaN   NaN  NaN  NaN\n",
       "2019-04-23 08:45:00     NaN     NaN     NaN       NaN       NaN       NaN  ...     NaN  NaN  NaN   NaN  NaN  NaN\n",
       "2019-04-23 09:15:00     NaN     NaN     NaN       NaN       NaN       NaN  ...     NaN  NaN  NaN   NaN  NaN  NaN\n",
       "2019-04-23 09:45:00     NaN     NaN     NaN       NaN       NaN       NaN  ...     NaN  NaN  NaN   NaN  NaN  NaN\n",
       "2019-04-23 10:15:00     NaN     NaN     NaN       NaN       NaN       NaN  ...     NaN  NaN  NaN   NaN  NaN  NaN\n",
       "...                     ...     ...     ...       ...       ...       ...  ...     ...  ...  ...   ...  ...  ...\n",
       "2019-05-08 13:15:00     NaN     NaN     NaN       NaN       NaN       NaN  ...     NaN  NaN  NaN   NaN  NaN  NaN\n",
       "2019-05-08 13:45:00     NaN     NaN     NaN       NaN       NaN       NaN  ...     NaN  NaN  NaN   NaN  NaN  NaN\n",
       "2019-05-08 14:15:00     NaN     NaN     NaN       NaN       NaN       NaN  ...     NaN  NaN  NaN   NaN  NaN  NaN\n",
       "2019-05-08 14:45:00     NaN     NaN     NaN       NaN       NaN       NaN  ...     NaN  NaN  NaN   NaN  NaN  NaN\n",
       "2019-05-08 15:15:00     NaN     NaN     NaN       NaN       NaN       NaN  ...     NaN  NaN  NaN   NaN  NaN  NaN\n",
       "\n",
       "[735 rows x 15 columns]"
      ]
     },
     "execution_count": 18,
     "metadata": {},
     "output_type": "execute_result"
    }
   ],
   "source": [
    "# Create date range for start of dataset\n",
    "_start = dt.datetime(2019, 4, 23, 8, 15)  # Date of first known management at the site\n",
    "_end = df.index[0]\n",
    "_index = pd.date_range(_start, _end, freq='30T')\n",
    "_index = _index[0:-1]  # Remove last entry, already in df.index\n",
    "\n",
    "# Use created date range to build an empty dataframe with the same columns as the available data\n",
    "_expansion_df = pd.DataFrame(index=_index, columns=df.columns)\n",
    "_expansion_df"
   ]
  },
  {
   "cell_type": "code",
   "execution_count": 19,
   "id": "58a2f161",
   "metadata": {},
   "outputs": [],
   "source": [
    "# Add the new df to the main data\n",
    "df = pd.concat([df, _expansion_df], axis=0).sort_index()"
   ]
  },
  {
   "cell_type": "code",
   "execution_count": 20,
   "id": "ec9b2f97",
   "metadata": {},
   "outputs": [
    {
     "data": {
      "text/html": [
       "<div>\n",
       "<style scoped>\n",
       "    .dataframe tbody tr th:only-of-type {\n",
       "        vertical-align: middle;\n",
       "    }\n",
       "\n",
       "    .dataframe tbody tr th {\n",
       "        vertical-align: top;\n",
       "    }\n",
       "\n",
       "    .dataframe thead th {\n",
       "        text-align: right;\n",
       "    }\n",
       "</style>\n",
       "<table border=\"1\" class=\"dataframe\">\n",
       "  <thead>\n",
       "    <tr style=\"text-align: right;\">\n",
       "      <th></th>\n",
       "      <th>TS_0.05</th>\n",
       "      <th>TS_0.15</th>\n",
       "      <th>TS_0.30</th>\n",
       "      <th>WFPS_0.05</th>\n",
       "      <th>WFPS_0.15</th>\n",
       "      <th>WFPS_0.30</th>\n",
       "      <th>...</th>\n",
       "      <th>harvest</th>\n",
       "      <th>Nmin</th>\n",
       "      <th>Norg</th>\n",
       "      <th>Nfert</th>\n",
       "      <th>soil</th>\n",
       "      <th>sow</th>\n",
       "    </tr>\n",
       "  </thead>\n",
       "  <tbody>\n",
       "    <tr>\n",
       "      <th>2019-04-23 08:15:00</th>\n",
       "      <td>NaN</td>\n",
       "      <td>NaN</td>\n",
       "      <td>NaN</td>\n",
       "      <td>NaN</td>\n",
       "      <td>NaN</td>\n",
       "      <td>NaN</td>\n",
       "      <td>...</td>\n",
       "      <td>NaN</td>\n",
       "      <td>NaN</td>\n",
       "      <td>NaN</td>\n",
       "      <td>NaN</td>\n",
       "      <td>NaN</td>\n",
       "      <td>NaN</td>\n",
       "    </tr>\n",
       "    <tr>\n",
       "      <th>2019-04-23 08:45:00</th>\n",
       "      <td>NaN</td>\n",
       "      <td>NaN</td>\n",
       "      <td>NaN</td>\n",
       "      <td>NaN</td>\n",
       "      <td>NaN</td>\n",
       "      <td>NaN</td>\n",
       "      <td>...</td>\n",
       "      <td>NaN</td>\n",
       "      <td>NaN</td>\n",
       "      <td>NaN</td>\n",
       "      <td>NaN</td>\n",
       "      <td>NaN</td>\n",
       "      <td>NaN</td>\n",
       "    </tr>\n",
       "    <tr>\n",
       "      <th>2019-04-23 09:15:00</th>\n",
       "      <td>NaN</td>\n",
       "      <td>NaN</td>\n",
       "      <td>NaN</td>\n",
       "      <td>NaN</td>\n",
       "      <td>NaN</td>\n",
       "      <td>NaN</td>\n",
       "      <td>...</td>\n",
       "      <td>NaN</td>\n",
       "      <td>NaN</td>\n",
       "      <td>NaN</td>\n",
       "      <td>NaN</td>\n",
       "      <td>NaN</td>\n",
       "      <td>NaN</td>\n",
       "    </tr>\n",
       "  </tbody>\n",
       "</table>\n",
       "<p>3 rows × 15 columns</p>\n",
       "</div>"
      ],
      "text/plain": [
       "                     TS_0.05  TS_0.15  TS_0.30  WFPS_0.05  WFPS_0.15  WFPS_0.30  ...  harvest  Nmin Norg Nfert soil  sow\n",
       "2019-04-23 08:15:00      NaN      NaN      NaN        NaN        NaN        NaN  ...      NaN   NaN  NaN   NaN  NaN  NaN\n",
       "2019-04-23 08:45:00      NaN      NaN      NaN        NaN        NaN        NaN  ...      NaN   NaN  NaN   NaN  NaN  NaN\n",
       "2019-04-23 09:15:00      NaN      NaN      NaN        NaN        NaN        NaN  ...      NaN   NaN  NaN   NaN  NaN  NaN\n",
       "\n",
       "[3 rows x 15 columns]"
      ]
     },
     "metadata": {},
     "output_type": "display_data"
    },
    {
     "data": {
      "text/html": [
       "<div>\n",
       "<style scoped>\n",
       "    .dataframe tbody tr th:only-of-type {\n",
       "        vertical-align: middle;\n",
       "    }\n",
       "\n",
       "    .dataframe tbody tr th {\n",
       "        vertical-align: top;\n",
       "    }\n",
       "\n",
       "    .dataframe thead th {\n",
       "        text-align: right;\n",
       "    }\n",
       "</style>\n",
       "<table border=\"1\" class=\"dataframe\">\n",
       "  <thead>\n",
       "    <tr style=\"text-align: right;\">\n",
       "      <th></th>\n",
       "      <th>TS_0.05</th>\n",
       "      <th>TS_0.15</th>\n",
       "      <th>TS_0.30</th>\n",
       "      <th>WFPS_0.05</th>\n",
       "      <th>WFPS_0.15</th>\n",
       "      <th>WFPS_0.30</th>\n",
       "      <th>...</th>\n",
       "      <th>harvest</th>\n",
       "      <th>Nmin</th>\n",
       "      <th>Norg</th>\n",
       "      <th>Nfert</th>\n",
       "      <th>soil</th>\n",
       "      <th>sow</th>\n",
       "    </tr>\n",
       "  </thead>\n",
       "  <tbody>\n",
       "    <tr>\n",
       "      <th>2020-11-03 11:45:00</th>\n",
       "      <td>NaN</td>\n",
       "      <td>NaN</td>\n",
       "      <td>NaN</td>\n",
       "      <td>NaN</td>\n",
       "      <td>NaN</td>\n",
       "      <td>NaN</td>\n",
       "      <td>...</td>\n",
       "      <td>0</td>\n",
       "      <td>0</td>\n",
       "      <td>0</td>\n",
       "      <td>0</td>\n",
       "      <td>0</td>\n",
       "      <td>0</td>\n",
       "    </tr>\n",
       "    <tr>\n",
       "      <th>2020-11-03 12:15:00</th>\n",
       "      <td>NaN</td>\n",
       "      <td>NaN</td>\n",
       "      <td>NaN</td>\n",
       "      <td>NaN</td>\n",
       "      <td>NaN</td>\n",
       "      <td>NaN</td>\n",
       "      <td>...</td>\n",
       "      <td>0</td>\n",
       "      <td>0</td>\n",
       "      <td>0</td>\n",
       "      <td>0</td>\n",
       "      <td>0</td>\n",
       "      <td>0</td>\n",
       "    </tr>\n",
       "    <tr>\n",
       "      <th>2020-11-03 12:45:00</th>\n",
       "      <td>NaN</td>\n",
       "      <td>NaN</td>\n",
       "      <td>NaN</td>\n",
       "      <td>NaN</td>\n",
       "      <td>NaN</td>\n",
       "      <td>NaN</td>\n",
       "      <td>...</td>\n",
       "      <td>0</td>\n",
       "      <td>0</td>\n",
       "      <td>0</td>\n",
       "      <td>0</td>\n",
       "      <td>0</td>\n",
       "      <td>0</td>\n",
       "    </tr>\n",
       "  </tbody>\n",
       "</table>\n",
       "<p>3 rows × 15 columns</p>\n",
       "</div>"
      ],
      "text/plain": [
       "                     TS_0.05  TS_0.15  TS_0.30  WFPS_0.05  WFPS_0.15  WFPS_0.30  ...  harvest  Nmin Norg Nfert soil sow\n",
       "2020-11-03 11:45:00      NaN      NaN      NaN        NaN        NaN        NaN  ...        0     0    0     0    0   0\n",
       "2020-11-03 12:15:00      NaN      NaN      NaN        NaN        NaN        NaN  ...        0     0    0     0    0   0\n",
       "2020-11-03 12:45:00      NaN      NaN      NaN        NaN        NaN        NaN  ...        0     0    0     0    0   0\n",
       "\n",
       "[3 rows x 15 columns]"
      ]
     },
     "metadata": {},
     "output_type": "display_data"
    }
   ],
   "source": [
    "# Check\n",
    "display(df.head(3))\n",
    "display(df.tail(3))"
   ]
  },
  {
   "cell_type": "markdown",
   "id": "ea684a06",
   "metadata": {},
   "source": [
    "#### Soil Management\n",
    "- Ploughing\n",
    "- Soil preparation"
   ]
  },
  {
   "cell_type": "code",
   "execution_count": 21,
   "id": "ec91fdae",
   "metadata": {},
   "outputs": [],
   "source": [
    "# Remove current soil column\n",
    "df = df.drop(['soil'], axis=1)\n",
    "\n",
    "# Ploughing\n",
    "df['.ploughing'] = 0  # New column\n",
    "df.loc['2020-05-08 08:15:00':'2020-05-08 19:45:00', '.ploughing'] = 1  # Ploughing on 8 May 2020\n",
    "\n",
    "# Soil preparation\n",
    "df['.soilprep'] = 0  # New column\n",
    "df.loc['2019-08-03 08:15:00':'2019-08-03 19:45:00', '.soilprep'] = 1  # Soil preparation on 3 Aug 2019\n",
    "df.loc['2020-05-09 08:15:00':'2020-05-09 19:45:00', '.soilprep'] = 1  # Soil preparation on 9 May 2020\n",
    "df.loc['2020-10-21 08:15:00':'2020-10-21 19:45:00', '.soilprep'] = 1  # Soil preparation on 21 Oct 2020\n",
    "\n",
    "# Combined ploughing and soil preparation (they don't overlap)\n",
    "df['.ploughing+soilprep'] = df['.ploughing'] + df['.soilprep']"
   ]
  },
  {
   "cell_type": "markdown",
   "id": "93e2550c",
   "metadata": {},
   "source": [
    "#### Fertilization\n",
    "- Organic fertilizer\n",
    "- Mineral fertilizer"
   ]
  },
  {
   "cell_type": "code",
   "execution_count": 22,
   "id": "00c4ff8c",
   "metadata": {},
   "outputs": [],
   "source": [
    "# Remove current fertilizer columns\n",
    "df = df.drop(['Nfert'], axis=1)\n",
    "df = df.drop(['Norg'], axis=1)\n",
    "df = df.drop(['Nmin'], axis=1)\n",
    "\n",
    "# Organic fertilizer\n",
    "df['.Norg'] = 0  # New column\n",
    "df.loc['2020-05-08 08:15:00':'2020-05-08 19:45:00', '.Norg'] = 1  # Solid manure on 8 May 2020\n",
    "df.loc['2020-10-20 08:15:00':'2020-10-20 19:45:00', '.Norg'] = 1  # Liquid manure on 20 Oct 2020\n",
    "\n",
    "# Mineral fertilizer\n",
    "df['.Nmin'] = 0  # New column\n",
    "df.loc['2020-05-22 08:15:00':'2020-05-22 19:45:00', '.Nmin'] = 1  # Urea on 22 May 2020\n",
    "\n",
    "# Combined organic and mineral fertilizer (they don't overlap)\n",
    "df['.Norg+Nmin'] = df['.Norg'] + df['.Nmin']  # Overrides the column that is already in df"
   ]
  },
  {
   "cell_type": "markdown",
   "id": "3ad97ca2",
   "metadata": {},
   "source": [
    "#### Harvest"
   ]
  },
  {
   "cell_type": "code",
   "execution_count": 23,
   "id": "23907829",
   "metadata": {},
   "outputs": [],
   "source": [
    "# Remove current harvest column\n",
    "df = df.drop(['harvest'], axis=1)\n",
    "\n",
    "# Harvest\n",
    "df['.harvest'] = 0  # Sets the column that is already in df to zero\n",
    "df.loc['2019-07-03 08:15:00':'2019-07-03 19:45:00', '.harvest'] = 1  # Harvest on 3 Jul 2019\n",
    "df.loc['2019-09-15 08:15:00':'2019-09-15 19:45:00', '.harvest'] = 1  # Harvest on 15 Sep 2019\n",
    "df.loc['2019-10-30 08:15:00':'2019-10-30 19:45:00', '.harvest'] = 1  # Harvest on 30 Oct 2019\n",
    "df.loc['2020-05-06 08:15:00':'2020-05-06 19:45:00', '.harvest'] = 1  # Harvest on 6 May 2020\n",
    "df.loc['2020-09-15 08:15:00':'2020-09-16 19:45:00', '.harvest'] = 1  # Harvest on 15 and 16 Sep 2020, harvest took place over two days"
   ]
  },
  {
   "cell_type": "markdown",
   "id": "3c6ca1fe",
   "metadata": {},
   "source": [
    "#### Sowing"
   ]
  },
  {
   "cell_type": "code",
   "execution_count": 24,
   "id": "e6676bd0",
   "metadata": {},
   "outputs": [],
   "source": [
    "# Remove current sowing column\n",
    "df = df.drop(['sow'], axis=1)\n",
    "\n",
    "df['.sowing'] = 0  # New column\n",
    "df.loc['2019-04-23 08:15:00':'2019-04-23 19:45:00', '.sowing'] = 1  # Sowing on 23 Apr 2019\n",
    "df.loc['2019-08-04 08:15:00':'2019-08-04 19:45:00', '.sowing'] = 1  # Sowing on 4 Aug 2019\n",
    "df.loc['2020-05-09 08:15:00':'2020-05-09 19:45:00', '.sowing'] = 1  # Sowing on 9 May 2020"
   ]
  },
  {
   "cell_type": "markdown",
   "id": "0d33618b",
   "metadata": {},
   "source": [
    "#### Herbicide / Insecticide"
   ]
  },
  {
   "cell_type": "code",
   "execution_count": 25,
   "id": "f0fe30aa",
   "metadata": {},
   "outputs": [],
   "source": [
    "# Remove current herbicide / Insecticide column\n",
    "df = df.drop(['herb'], axis=1)\n",
    "\n",
    "# df['herb'] = 0  # Sets the column that is already in df to zero\n",
    "# df.loc['2020-05-22 08:15:00':'2020-05-22 19:45:00', 'herb'] = 1  # Herbicide/insecticide on 22 May 2020"
   ]
  },
  {
   "cell_type": "markdown",
   "id": "19f4a732",
   "metadata": {},
   "source": [
    "#### Combined Management"
   ]
  },
  {
   "cell_type": "code",
   "execution_count": 26,
   "id": "9c00d737",
   "metadata": {},
   "outputs": [],
   "source": [
    "df['.MGMT'] = df['.ploughing'] + df['.soilprep'] + df['.Norg'] + df['.Nmin'] + df['.harvest'] + df['.sowing']  # Without 'herb'"
   ]
  },
  {
   "cell_type": "markdown",
   "id": "8d80e1bc",
   "metadata": {},
   "source": [
    "#### Plot"
   ]
  },
  {
   "cell_type": "code",
   "execution_count": 27,
   "id": "59ba226a",
   "metadata": {},
   "outputs": [],
   "source": [
    "# df[['.MGMT', '.ploughing',  '.soilprep', '.Norg', '.Nmin', '.harvest', '.sowing']].plot(figsize=(22,9), subplots=True, title=\"Management Activities\");"
   ]
  },
  {
   "cell_type": "markdown",
   "id": "2ebddb6d-eaf8-4b74-988b-0d74e54d1bd7",
   "metadata": {},
   "source": [
    "#### Keep Management?"
   ]
  },
  {
   "cell_type": "code",
   "execution_count": 28,
   "id": "85e1b7b6-a26c-4c83-a2b5-c379a9c28cca",
   "metadata": {},
   "outputs": [
    {
     "name": "stdout",
     "output_type": "stream",
     "text": [
      "Removing all management from dataset.\n"
     ]
    }
   ],
   "source": [
    "# List of management columns:\n",
    "# ['.MGMT', '.ploughing',  '.soilprep', '.Norg', '.Nmin', '.harvest', '.sowing', '.ploughing+soilprep', '.Norg+Nmin']\n",
    "\n",
    "if keep_mgmt == 'all':\n",
    "    print(\"Keeping all management in dataset.\")\n",
    "    pass\n",
    "\n",
    "elif keep_mgmt == 'bulk':  # Keep .MGMT only\n",
    "    print(\"Keeping .MGMT column only.\")\n",
    "    df.drop(['.ploughing',  '.soilprep', '.Norg', '.Nmin', '.harvest', '.sowing', '.ploughing+soilprep', '.Norg+Nmin'], axis=1, inplace=True)\n",
    "\n",
    "elif keep_mgmt == 'none':\n",
    "    print(\"Removing all management from dataset.\")\n",
    "    df.drop(['.MGMT', '.ploughing',  '.soilprep', '.Norg', '.Nmin', '.harvest', '.sowing', '.ploughing+soilprep', '.Norg+Nmin'], axis=1, inplace=True)\n",
    "\n",
    "elif keep_mgmt == 'combos':\n",
    "    print(\"Keeping combos.\")\n",
    "    df.drop(['.MGMT', '.ploughing',  '.soilprep', '.Norg', '.Nmin', '.sowing'], axis=1, inplace=True)    "
   ]
  },
  {
   "cell_type": "code",
   "execution_count": 29,
   "id": "b19886db",
   "metadata": {},
   "outputs": [
    {
     "data": {
      "text/plain": [
       "Index(['TS_0.05', 'TS_0.15', 'TS_0.30', 'WFPS_0.05', 'WFPS_0.15', 'WFPS_0.30', 'PREC', 'target'], dtype='object')"
      ]
     },
     "execution_count": 29,
     "metadata": {},
     "output_type": "execute_result"
    }
   ],
   "source": [
    "df.columns"
   ]
  },
  {
   "cell_type": "markdown",
   "id": "0fc530bd",
   "metadata": {},
   "source": [
    "### Calculate Additional Variables"
   ]
  },
  {
   "cell_type": "markdown",
   "id": "611ccc58",
   "metadata": {},
   "source": [
    "#### Add Day/Night Groups\n",
    "To make sure each day and night have the same amount of potential values:\n",
    "- Day is between 08:15 and 19:45\n",
    "- Night is between 20:15 and 07:45 the following day  \n",
    "\n",
    "Accordingly, each day has 24 half-hourly values, and each night has 24 half-hourly values.\n",
    "\n",
    "- kudos: https://stackoverflow.com/questions/26911851/how-to-use-pandas-to-find-consecutive-same-data-in-time-series\n",
    "- https://bambielli.com/til/2018-02-11-one-hot-encoding/\n",
    "- https://www.educative.io/blog/one-hot-encoding#sklearn"
   ]
  },
  {
   "cell_type": "code",
   "execution_count": 30,
   "id": "04cd0bf3",
   "metadata": {
    "tags": []
   },
   "outputs": [],
   "source": [
    "# New df to assemble day/night info, will be merged with main data later\n",
    "_daynight_grps_df = pd.DataFrame(index=df.index)\n",
    "\n",
    "# Determine day and night (1=day, 0=night)\n",
    "_mask_daytime_rows = (df.index.hour >= 8) & (df.index.hour <= 19)\n",
    "_daynight_grps_df.loc[_mask_daytime_rows, '.daynight'] = 1\n",
    "_daynight_grps_df.loc[~_mask_daytime_rows, '.daynight'] = 0\n",
    "\n",
    "# Consecutive days/nights\n",
    "_daynight_grps_df['.grp'] = (_daynight_grps_df['.daynight'].diff(1) != 0).astype('int').cumsum()\n",
    "\n",
    "# # One Hot Encoding\n",
    "# _daynight_grps_df = pd.get_dummies(_daynight_grps_df, columns=[\"_daynight\"], prefix=\"_daynight\")"
   ]
  },
  {
   "cell_type": "code",
   "execution_count": 31,
   "id": "9632a413",
   "metadata": {},
   "outputs": [
    {
     "data": {
      "image/png": "[encoded data removed]",
      "text/plain": [
       "<Figure size 1584x648 with 2 Axes>"
      ]
     },
     "metadata": {
      "needs_background": "light"
     },
     "output_type": "display_data"
    }
   ],
   "source": [
    "_daynight_grps_df.iloc[0:1000].plot(subplots=True, figsize=(22,9), title=\"Day/night info: first 1000 records\");"
   ]
  },
  {
   "cell_type": "markdown",
   "id": "123ca7d8",
   "metadata": {
    "tags": []
   },
   "source": [
    "#### Add Group Start Times\n",
    "Add starting datetime, month and week for each group."
   ]
  },
  {
   "cell_type": "code",
   "execution_count": 32,
   "id": "545ad803",
   "metadata": {},
   "outputs": [],
   "source": [
    "# New df to assemble time info, will be merged with main data later\n",
    "_timeinfo_df = pd.DataFrame(index=df.index)\n",
    "\n",
    "# Add timestamp index as data column\n",
    "_timeinfo_df['.TIMESTAMP'] = _timeinfo_df.index\n",
    "_timeinfo_df['.grp'] = _daynight_grps_df['.grp'].copy()"
   ]
  },
  {
   "cell_type": "code",
   "execution_count": 33,
   "id": "5c756f54",
   "metadata": {},
   "outputs": [
    {
     "name": "stdout",
     "output_type": "stream",
     "text": [
      "First 10 keys and values in mapping dict:\n",
      "key: 1, value: 2019-04-23 08:15:00\n",
      "key: 2, value: 2019-04-23 20:15:00\n",
      "key: 3, value: 2019-04-24 08:15:00\n",
      "key: 4, value: 2019-04-24 20:15:00\n",
      "key: 5, value: 2019-04-25 08:15:00\n",
      "key: 6, value: 2019-04-25 20:15:00\n",
      "key: 7, value: 2019-04-26 08:15:00\n",
      "key: 8, value: 2019-04-26 20:15:00\n",
      "key: 9, value: 2019-04-27 08:15:00\n",
      "key: 10, value: 2019-04-27 20:15:00\n"
     ]
    }
   ],
   "source": [
    "# Mapping\n",
    "# For each _daynight_id, add its starting datetime\n",
    "# Create mapping dict that is used to assign the start datetime to each _daynight_id\n",
    "_grp_start = _timeinfo_df.groupby('.grp')['.TIMESTAMP'].idxmin()\n",
    "_map_grp_start = _grp_start.to_dict()\n",
    "\n",
    "print(\"First 10 keys and values in mapping dict:\")\n",
    "for x in list(_map_grp_start)[0:10]:\n",
    "    print(f\"key: {x}, value: {_map_grp_start[x]}\")"
   ]
  },
  {
   "cell_type": "code",
   "execution_count": 34,
   "id": "2678d5c7",
   "metadata": {
    "tags": []
   },
   "outputs": [],
   "source": [
    "# Use mapping dict to assign the start datetime to each _grp\n",
    "_timeinfo_df['.grp_start'] = _timeinfo_df['.grp'].map(_map_grp_start)  \n",
    "\n",
    "# Add start month and week for groups\n",
    "_timeinfo_df['.grp_start_month'] = _timeinfo_df['.grp_start'].dt.month\n",
    "_timeinfo_df['.grp_start_week'] = _timeinfo_df['.grp_start'].dt.isocalendar()['week']"
   ]
  },
  {
   "cell_type": "code",
   "execution_count": 35,
   "id": "836b3bdb",
   "metadata": {},
   "outputs": [
    {
     "data": {
      "image/png": "[encoded data removed]",
      "text/plain": [
       "<Figure size 1584x648 with 5 Axes>"
      ]
     },
     "metadata": {
      "needs_background": "light"
     },
     "output_type": "display_data"
    }
   ],
   "source": [
    "_timeinfo_df.iloc[0:1000].plot(subplots=True, figsize=(22,9), title=\"Group time info: first 1000 records\");"
   ]
  },
  {
   "cell_type": "markdown",
   "id": "a114ad09",
   "metadata": {
    "tags": []
   },
   "source": [
    "#### Add Time Since\n",
    "Count time (records) since last occurrence, e.g. time since last precipitation."
   ]
  },
  {
   "cell_type": "code",
   "execution_count": 36,
   "id": "e1f8eb0a",
   "metadata": {
    "tags": []
   },
   "outputs": [],
   "source": [
    "_list_timesince_vars = ['PREC', '.MGMT', '.ploughing',  '.soilprep', '.Norg', '.Nmin', '.harvest', '.sowing', '.ploughing+soilprep', '.Norg+Nmin']\n",
    "\n",
    "# New df to assemble timesince, will be merged with main data later\n",
    "_timesince_df = pd.DataFrame()\n",
    "\n",
    "# Function\n",
    "def timesince(series):\n",
    "    flag = series.copy()\n",
    "    flag.loc[series > 0] = 0  # Set flag to zero where series > 0, for correct timesince counting\n",
    "    flag.loc[series == 0] = 1  # Set flag to one where series = 0\n",
    "    flag.loc[series.isnull()] = 1  # Set flag to one where series is missing\n",
    "    # kudos, fantastic: https://stackoverflow.com/questions/27626542/counting-consecutive-positive-value-in-python-array\n",
    "    timesince = flag * (flag.groupby((flag != flag.shift()).cumsum()).cumcount() + 1)\n",
    "    return timesince\n",
    "\n",
    "if use_timesince_vars:\n",
    "    for v in _list_timesince_vars:\n",
    "        if v in df.columns:\n",
    "            print(v)\n",
    "            _timesince_df[v] = df[v].copy()        \n",
    "\n",
    "    # Calculate timesince for selected vars\n",
    "    for v in _timesince_df.columns:\n",
    "        var_timesince = f'.timesince_{v}'\n",
    "        _timesince_df[var_timesince] = timesince(series=_timesince_df[v])    \n",
    "\n",
    "    # Get list of timesince vars\n",
    "    _timesince_cols = [x for x in _timesince_df.columns if '.timesince_' in x]    \n",
    "    print(_timesince_cols)\n",
    "\n",
    "    # Plot\n",
    "    plt.figure(figsize=(24, 9))\n",
    "    plt.title(\"Timesince Variables\")\n",
    "    for col in _timesince_cols:\n",
    "        label = col.replace('_', '')  # Matplotlib legend cannot show variables starting with an _underscore\n",
    "        plt.plot_date(_timesince_df.index, _timesince_df[col], label=label)\n",
    "    plt.legend();"
   ]
  },
  {
   "cell_type": "markdown",
   "id": "5fd1446f",
   "metadata": {},
   "source": [
    "#### Add To Subset\n",
    "Add created additional variables to subset."
   ]
  },
  {
   "cell_type": "code",
   "execution_count": 37,
   "id": "a5ed2147",
   "metadata": {},
   "outputs": [],
   "source": [
    "# Add to main data\n",
    "df = pd.concat([df, _daynight_grps_df, _timeinfo_df, _timesince_df], axis=1)\n",
    "df = df.loc[:,~df.columns.duplicated()]  # Some columns are now duplicated due to the merging, remove them\n",
    "df = df.drop(['.TIMESTAMP', '.grp_start', '.grp', '.grp_start_month', '.grp_start_week'], axis=1)  # Remove for now"
   ]
  },
  {
   "cell_type": "markdown",
   "id": "0d169a98-d138-45da-9c61-0b5eb3ca7dd7",
   "metadata": {},
   "source": [
    "#### Check"
   ]
  },
  {
   "cell_type": "code",
   "execution_count": 38,
   "id": "91dfbfe4",
   "metadata": {},
   "outputs": [
    {
     "data": {
      "text/html": [
       "<div>\n",
       "<style scoped>\n",
       "    .dataframe tbody tr th:only-of-type {\n",
       "        vertical-align: middle;\n",
       "    }\n",
       "\n",
       "    .dataframe tbody tr th {\n",
       "        vertical-align: top;\n",
       "    }\n",
       "\n",
       "    .dataframe thead th {\n",
       "        text-align: right;\n",
       "    }\n",
       "</style>\n",
       "<table border=\"1\" class=\"dataframe\">\n",
       "  <thead>\n",
       "    <tr style=\"text-align: right;\">\n",
       "      <th></th>\n",
       "      <th>TS_0.05</th>\n",
       "      <th>TS_0.15</th>\n",
       "      <th>TS_0.30</th>\n",
       "      <th>WFPS_0.05</th>\n",
       "      <th>WFPS_0.15</th>\n",
       "      <th>WFPS_0.30</th>\n",
       "      <th>PREC</th>\n",
       "      <th>target</th>\n",
       "      <th>.daynight</th>\n",
       "    </tr>\n",
       "  </thead>\n",
       "  <tbody>\n",
       "    <tr>\n",
       "      <th>2019-04-23 08:15:00</th>\n",
       "      <td>NaN</td>\n",
       "      <td>NaN</td>\n",
       "      <td>NaN</td>\n",
       "      <td>NaN</td>\n",
       "      <td>NaN</td>\n",
       "      <td>NaN</td>\n",
       "      <td>NaN</td>\n",
       "      <td>NaN</td>\n",
       "      <td>1.0</td>\n",
       "    </tr>\n",
       "    <tr>\n",
       "      <th>2019-04-23 08:45:00</th>\n",
       "      <td>NaN</td>\n",
       "      <td>NaN</td>\n",
       "      <td>NaN</td>\n",
       "      <td>NaN</td>\n",
       "      <td>NaN</td>\n",
       "      <td>NaN</td>\n",
       "      <td>NaN</td>\n",
       "      <td>NaN</td>\n",
       "      <td>1.0</td>\n",
       "    </tr>\n",
       "    <tr>\n",
       "      <th>2019-04-23 09:15:00</th>\n",
       "      <td>NaN</td>\n",
       "      <td>NaN</td>\n",
       "      <td>NaN</td>\n",
       "      <td>NaN</td>\n",
       "      <td>NaN</td>\n",
       "      <td>NaN</td>\n",
       "      <td>NaN</td>\n",
       "      <td>NaN</td>\n",
       "      <td>1.0</td>\n",
       "    </tr>\n",
       "  </tbody>\n",
       "</table>\n",
       "</div>"
      ],
      "text/plain": [
       "                     TS_0.05  TS_0.15  TS_0.30  WFPS_0.05  WFPS_0.15  WFPS_0.30  PREC  target  .daynight\n",
       "2019-04-23 08:15:00      NaN      NaN      NaN        NaN        NaN        NaN   NaN     NaN        1.0\n",
       "2019-04-23 08:45:00      NaN      NaN      NaN        NaN        NaN        NaN   NaN     NaN        1.0\n",
       "2019-04-23 09:15:00      NaN      NaN      NaN        NaN        NaN        NaN   NaN     NaN        1.0"
      ]
     },
     "metadata": {},
     "output_type": "display_data"
    },
    {
     "data": {
      "text/plain": [
       "Index(['TS_0.05', 'TS_0.15', 'TS_0.30', 'WFPS_0.05', 'WFPS_0.15', 'WFPS_0.30', 'PREC', 'target', '.daynight'], dtype='object')"
      ]
     },
     "metadata": {},
     "output_type": "display_data"
    }
   ],
   "source": [
    "pd.set_option('display.max_columns', 99)\n",
    "pd.set_option('display.max_rows', 99)\n",
    "display(df.head(3))\n",
    "display(df.columns)"
   ]
  },
  {
   "cell_type": "markdown",
   "id": "dbbba365",
   "metadata": {},
   "source": [
    "# Random Forest"
   ]
  },
  {
   "cell_type": "markdown",
   "id": "689d760d",
   "metadata": {},
   "source": [
    "## Prepare Data Subset\n",
    "Make subset of data that is used in RF."
   ]
  },
  {
   "cell_type": "code",
   "execution_count": 39,
   "id": "47e008d9",
   "metadata": {},
   "outputs": [],
   "source": [
    "# Make copy to work with\n",
    "subset_df = df.copy()"
   ]
  },
  {
   "cell_type": "code",
   "execution_count": 40,
   "id": "0793d322",
   "metadata": {},
   "outputs": [
    {
     "name": "stdout",
     "output_type": "stream",
     "text": [
      "First measured value of target: 2019-05-10 13:15:00\n",
      "Last measured value of target: 2019-07-22 20:15:00\n"
     ]
    }
   ],
   "source": [
    "# Select year\n",
    "subset_df = subset_df.loc[subset_df.index.year == SELECT_YEAR]\n",
    "\n",
    "if SELECT_YEAR == 2020:\n",
    "    start_date = pd.to_datetime('2020-01-01 00:15:00')\n",
    "    end_date = pd.to_datetime('2020-09-16 23:45')    \n",
    "elif SELECT_YEAR == 2019:\n",
    "    start_date = pd.to_datetime('2019-01-01 00:15:00')\n",
    "    end_date = pd.to_datetime('2019-10-30 23:45')    \n",
    "\n",
    "subset_df['temp_datetime_col'] = subset_df.index\n",
    "subset_df.loc[(subset_df['temp_datetime_col'] > start_date) & (subset_df['temp_datetime_col'] < end_date)]  \n",
    "subset_df = subset_df[subset_df['temp_datetime_col'].between(start_date, end_date)]\n",
    "subset_df = subset_df.drop('temp_datetime_col', axis=1)\n",
    "\n",
    "# Datetime of first and last available measurement of target\n",
    "_first_target_value_dt = subset_df['target'].dropna().index[0]\n",
    "_last_target_value_dt = subset_df['target'].dropna().index[-1]\n",
    "print(f\"First measured value of target: {_first_target_value_dt}\")\n",
    "print(f\"Last measured value of target: {_last_target_value_dt}\")\n",
    "\n",
    "# Restrict time range to first and last available data point of target\n",
    "subset_df = subset_df.loc[_first_target_value_dt:_last_target_value_dt]"
   ]
  },
  {
   "cell_type": "code",
   "execution_count": 41,
   "id": "cd545ad1",
   "metadata": {},
   "outputs": [],
   "source": [
    "# Add second header row, needed for RandomForestTS class\n",
    "lst_for_empty_units = []\n",
    "for e in range(len(subset_df.columns)):  ## generate entry for all cols in df\n",
    "    lst_for_empty_units.append('-')\n",
    "subset_df.columns = [subset_df.columns, lst_for_empty_units]  ## conv column index to multiindex"
   ]
  },
  {
   "cell_type": "code",
   "execution_count": 42,
   "id": "a0b0c1b3-fda4-4c60-84e0-02b168a10e90",
   "metadata": {},
   "outputs": [],
   "source": [
    "# # subset_df.to_csv(\"test.csv\")\n",
    "# DAY_df = subset_df.copy()\n",
    "# daynight_col = ('.daynight', '-')\n",
    "# DAY_df = DAY_df.loc[DAY_df[daynight_col] == 0, :]\n",
    "# DAY_df\n",
    "# subset_df = DAY_df.copy()"
   ]
  },
  {
   "cell_type": "markdown",
   "id": "fa444b89",
   "metadata": {},
   "source": [
    "## Model setup"
   ]
  },
  {
   "cell_type": "code",
   "execution_count": 43,
   "id": "ed762c28",
   "metadata": {},
   "outputs": [],
   "source": [
    "target_col = ('target', '-')\n",
    "rfts = RandomForestTS(df=subset_df,\n",
    "                      target_col=target_col,\n",
    "                      verbose=1,\n",
    "                      random_state=42,\n",
    "                      rfecv_step=1,\n",
    "                      rfecv_min_features_to_select=20,\n",
    "                      rf_rfecv_n_estimators=100,\n",
    "                      rf_n_estimators=1000,\n",
    "                      bootstrap=True)"
   ]
  },
  {
   "cell_type": "markdown",
   "id": "d3ba3c45-1f49-455a-bbf8-81db556300d1",
   "metadata": {},
   "source": [
    "## Rolling Variants"
   ]
  },
  {
   "cell_type": "code",
   "execution_count": 44,
   "id": "08de6f18-db79-4647-88e2-29b4d0dedef4",
   "metadata": {},
   "outputs": [
    {
     "name": "stdout",
     "output_type": "stream",
     "text": [
      "No rolling variants calculated.\n"
     ]
    }
   ],
   "source": [
    "if include_rolling_variants:\n",
    "    \n",
    "    # No rolling variants for some vars\n",
    "    _donotroll_ids = ['.timesince', '.MGMT', '.ploughing',  '.soilprep', '.Norg', '.Nmin', '.harvest', '.sowing', '.daynight']\n",
    "    donotroll_cols = [target_col]\n",
    "    for col in rfts.df.columns:\n",
    "        if any(_donotroll_id in col[0] for _donotroll_id in _donotroll_ids):\n",
    "            donotroll_cols.append(col)\n",
    "    \n",
    "    rfts.rolling_variants(records=6,\n",
    "                          aggtypes=['mean'],\n",
    "                          exclude_cols=donotroll_cols)    \n",
    "else:\n",
    "    print(\"No rolling variants calculated.\")"
   ]
  },
  {
   "cell_type": "code",
   "execution_count": 45,
   "id": "9a149190-3cc5-4ad6-9309-ee6805c86903",
   "metadata": {},
   "outputs": [
    {
     "data": {
      "text/plain": [
       "MultiIndex([(  'TS_0.05', '-'),\n",
       "            (  'TS_0.15', '-'),\n",
       "            (  'TS_0.30', '-'),\n",
       "            ('WFPS_0.05', '-'),\n",
       "            ('WFPS_0.15', '-'),\n",
       "            ('WFPS_0.30', '-'),\n",
       "            (     'PREC', '-'),\n",
       "            (   'target', '-'),\n",
       "            ('.daynight', '-')],\n",
       "           )"
      ]
     },
     "execution_count": 45,
     "metadata": {},
     "output_type": "execute_result"
    }
   ],
   "source": [
    "rfts.df.columns"
   ]
  },
  {
   "cell_type": "markdown",
   "id": "c266dda1-38d1-46c1-b293-9985a09e24b6",
   "metadata": {},
   "source": [
    "## Lagged Variants"
   ]
  },
  {
   "cell_type": "code",
   "execution_count": 46,
   "id": "b78afaf9-e308-4a57-82c2-cd39da549578",
   "metadata": {},
   "outputs": [
    {
     "name": "stdout",
     "output_type": "stream",
     "text": [
      "No lagged variants calculated.\n"
     ]
    }
   ],
   "source": [
    "if include_lagged_variants:       \n",
    "    \n",
    "    if include_rolling_variants:\n",
    "        # Create lagged variants for rolling variants only\n",
    "        exclude_cols = []\n",
    "        [exclude_cols.append(col) for col in rfts.df.columns if 'r-' not in col[0]]\n",
    "        print(f\"No lagged variants will be created for the following columns:{exclude_cols}\\n\")\n",
    "    \n",
    "    rfts.steplagged_variants(stepsize=6,\n",
    "                             stepmax=24,\n",
    "                             exclude_cols=exclude_cols)\n",
    "else:\n",
    "    print(\"No lagged variants calculated.\")"
   ]
  },
  {
   "cell_type": "code",
   "execution_count": 47,
   "id": "eee698e9-2574-462a-b161-1c123cb5c32d",
   "metadata": {},
   "outputs": [
    {
     "data": {
      "text/plain": [
       "[('TS_0.05', '-'),\n",
       " ('TS_0.15', '-'),\n",
       " ('TS_0.30', '-'),\n",
       " ('WFPS_0.05', '-'),\n",
       " ('WFPS_0.15', '-'),\n",
       " ('WFPS_0.30', '-'),\n",
       " ('PREC', '-'),\n",
       " ('target', '-'),\n",
       " ('.daynight', '-')]"
      ]
     },
     "execution_count": 47,
     "metadata": {},
     "output_type": "execute_result"
    }
   ],
   "source": [
    "list(rfts.df.columns)"
   ]
  },
  {
   "cell_type": "markdown",
   "id": "c0bd689a-d64d-457b-871a-698faf57c5e1",
   "metadata": {},
   "source": [
    "## Add Timestamp As Features"
   ]
  },
  {
   "cell_type": "code",
   "execution_count": 48,
   "id": "2020b765-f7d6-41d0-8b3d-b44585458913",
   "metadata": {},
   "outputs": [],
   "source": [
    "if timestamp_as_features:\n",
    "    rfts.include_timestamp_as_features(doy_as_feature=True,\n",
    "                                       week_as_feature=True,\n",
    "                                       month_as_feature=True,\n",
    "                                       hour_as_feature=True)"
   ]
  },
  {
   "cell_type": "markdown",
   "id": "95d37701-cb9f-4775-a60b-8c734fb7d84b",
   "metadata": {},
   "source": [
    "## Check"
   ]
  },
  {
   "cell_type": "code",
   "execution_count": 49,
   "id": "2429ee79-59a8-4805-8012-151cb28573d4",
   "metadata": {
    "tags": []
   },
   "outputs": [
    {
     "data": {
      "text/html": [
       "<div>\n",
       "<style scoped>\n",
       "    .dataframe tbody tr th:only-of-type {\n",
       "        vertical-align: middle;\n",
       "    }\n",
       "\n",
       "    .dataframe tbody tr th {\n",
       "        vertical-align: top;\n",
       "    }\n",
       "\n",
       "    .dataframe thead tr th {\n",
       "        text-align: left;\n",
       "    }\n",
       "</style>\n",
       "<table border=\"1\" class=\"dataframe\">\n",
       "  <thead>\n",
       "    <tr>\n",
       "      <th></th>\n",
       "      <th>TS_0.05</th>\n",
       "      <th>TS_0.15</th>\n",
       "      <th>TS_0.30</th>\n",
       "      <th>WFPS_0.05</th>\n",
       "      <th>WFPS_0.15</th>\n",
       "      <th>WFPS_0.30</th>\n",
       "      <th>PREC</th>\n",
       "      <th>target</th>\n",
       "      <th>.daynight</th>\n",
       "    </tr>\n",
       "    <tr>\n",
       "      <th></th>\n",
       "      <th>-</th>\n",
       "      <th>-</th>\n",
       "      <th>-</th>\n",
       "      <th>-</th>\n",
       "      <th>-</th>\n",
       "      <th>-</th>\n",
       "      <th>-</th>\n",
       "      <th>-</th>\n",
       "      <th>-</th>\n",
       "    </tr>\n",
       "  </thead>\n",
       "  <tbody>\n",
       "    <tr>\n",
       "      <th>2019-05-10 13:15:00</th>\n",
       "      <td>14.833333</td>\n",
       "      <td>12.266667</td>\n",
       "      <td>10.500000</td>\n",
       "      <td>71.543457</td>\n",
       "      <td>NaN</td>\n",
       "      <td>NaN</td>\n",
       "      <td>0.0</td>\n",
       "      <td>0.334752</td>\n",
       "      <td>1.0</td>\n",
       "    </tr>\n",
       "    <tr>\n",
       "      <th>2019-05-10 13:45:00</th>\n",
       "      <td>15.533333</td>\n",
       "      <td>12.666667</td>\n",
       "      <td>10.666667</td>\n",
       "      <td>71.380086</td>\n",
       "      <td>NaN</td>\n",
       "      <td>NaN</td>\n",
       "      <td>0.0</td>\n",
       "      <td>NaN</td>\n",
       "      <td>1.0</td>\n",
       "    </tr>\n",
       "    <tr>\n",
       "      <th>2019-05-10 14:15:00</th>\n",
       "      <td>15.900000</td>\n",
       "      <td>13.066667</td>\n",
       "      <td>10.766667</td>\n",
       "      <td>71.328927</td>\n",
       "      <td>NaN</td>\n",
       "      <td>NaN</td>\n",
       "      <td>0.0</td>\n",
       "      <td>0.382689</td>\n",
       "      <td>1.0</td>\n",
       "    </tr>\n",
       "    <tr>\n",
       "      <th>2019-05-10 14:45:00</th>\n",
       "      <td>15.966667</td>\n",
       "      <td>13.400000</td>\n",
       "      <td>10.933333</td>\n",
       "      <td>71.134272</td>\n",
       "      <td>NaN</td>\n",
       "      <td>NaN</td>\n",
       "      <td>0.0</td>\n",
       "      <td>NaN</td>\n",
       "      <td>1.0</td>\n",
       "    </tr>\n",
       "    <tr>\n",
       "      <th>2019-05-10 15:15:00</th>\n",
       "      <td>15.966667</td>\n",
       "      <td>13.666667</td>\n",
       "      <td>11.133333</td>\n",
       "      <td>70.980130</td>\n",
       "      <td>NaN</td>\n",
       "      <td>NaN</td>\n",
       "      <td>0.0</td>\n",
       "      <td>0.616896</td>\n",
       "      <td>1.0</td>\n",
       "    </tr>\n",
       "    <tr>\n",
       "      <th>...</th>\n",
       "      <td>...</td>\n",
       "      <td>...</td>\n",
       "      <td>...</td>\n",
       "      <td>...</td>\n",
       "      <td>...</td>\n",
       "      <td>...</td>\n",
       "      <td>...</td>\n",
       "      <td>...</td>\n",
       "      <td>...</td>\n",
       "    </tr>\n",
       "    <tr>\n",
       "      <th>2019-07-22 18:15:00</th>\n",
       "      <td>29.866667</td>\n",
       "      <td>27.800000</td>\n",
       "      <td>25.233333</td>\n",
       "      <td>45.447036</td>\n",
       "      <td>57.088344</td>\n",
       "      <td>45.545932</td>\n",
       "      <td>0.0</td>\n",
       "      <td>0.481939</td>\n",
       "      <td>1.0</td>\n",
       "    </tr>\n",
       "    <tr>\n",
       "      <th>2019-07-22 18:45:00</th>\n",
       "      <td>29.466667</td>\n",
       "      <td>27.766667</td>\n",
       "      <td>25.366667</td>\n",
       "      <td>45.404621</td>\n",
       "      <td>57.088344</td>\n",
       "      <td>45.517680</td>\n",
       "      <td>0.0</td>\n",
       "      <td>0.390603</td>\n",
       "      <td>1.0</td>\n",
       "    </tr>\n",
       "    <tr>\n",
       "      <th>2019-07-22 19:15:00</th>\n",
       "      <td>28.900000</td>\n",
       "      <td>27.700000</td>\n",
       "      <td>25.400000</td>\n",
       "      <td>45.163957</td>\n",
       "      <td>57.088344</td>\n",
       "      <td>45.574146</td>\n",
       "      <td>0.0</td>\n",
       "      <td>0.219903</td>\n",
       "      <td>1.0</td>\n",
       "    </tr>\n",
       "    <tr>\n",
       "      <th>2019-07-22 19:45:00</th>\n",
       "      <td>28.266667</td>\n",
       "      <td>27.633333</td>\n",
       "      <td>25.433333</td>\n",
       "      <td>45.135608</td>\n",
       "      <td>57.063506</td>\n",
       "      <td>45.602360</td>\n",
       "      <td>0.0</td>\n",
       "      <td>0.328589</td>\n",
       "      <td>1.0</td>\n",
       "    </tr>\n",
       "    <tr>\n",
       "      <th>2019-07-22 20:15:00</th>\n",
       "      <td>27.600000</td>\n",
       "      <td>27.533333</td>\n",
       "      <td>25.466667</td>\n",
       "      <td>44.894256</td>\n",
       "      <td>57.051086</td>\n",
       "      <td>45.531791</td>\n",
       "      <td>0.0</td>\n",
       "      <td>0.260072</td>\n",
       "      <td>0.0</td>\n",
       "    </tr>\n",
       "  </tbody>\n",
       "</table>\n",
       "<p>3519 rows × 9 columns</p>\n",
       "</div>"
      ],
      "text/plain": [
       "                       TS_0.05    TS_0.15    TS_0.30  WFPS_0.05  WFPS_0.15  WFPS_0.30 PREC    target .daynight\n",
       "                             -          -          -          -          -          -    -         -         -\n",
       "2019-05-10 13:15:00  14.833333  12.266667  10.500000  71.543457        NaN        NaN  0.0  0.334752       1.0\n",
       "2019-05-10 13:45:00  15.533333  12.666667  10.666667  71.380086        NaN        NaN  0.0       NaN       1.0\n",
       "2019-05-10 14:15:00  15.900000  13.066667  10.766667  71.328927        NaN        NaN  0.0  0.382689       1.0\n",
       "2019-05-10 14:45:00  15.966667  13.400000  10.933333  71.134272        NaN        NaN  0.0       NaN       1.0\n",
       "2019-05-10 15:15:00  15.966667  13.666667  11.133333  70.980130        NaN        NaN  0.0  0.616896       1.0\n",
       "...                        ...        ...        ...        ...        ...        ...  ...       ...       ...\n",
       "2019-07-22 18:15:00  29.866667  27.800000  25.233333  45.447036  57.088344  45.545932  0.0  0.481939       1.0\n",
       "2019-07-22 18:45:00  29.466667  27.766667  25.366667  45.404621  57.088344  45.517680  0.0  0.390603       1.0\n",
       "2019-07-22 19:15:00  28.900000  27.700000  25.400000  45.163957  57.088344  45.574146  0.0  0.219903       1.0\n",
       "2019-07-22 19:45:00  28.266667  27.633333  25.433333  45.135608  57.063506  45.602360  0.0  0.328589       1.0\n",
       "2019-07-22 20:15:00  27.600000  27.533333  25.466667  44.894256  57.051086  45.531791  0.0  0.260072       0.0\n",
       "\n",
       "[3519 rows x 9 columns]"
      ]
     },
     "metadata": {},
     "output_type": "display_data"
    },
    {
     "data": {
      "text/plain": [
       "[('TS_0.05', '-'),\n",
       " ('TS_0.15', '-'),\n",
       " ('TS_0.30', '-'),\n",
       " ('WFPS_0.05', '-'),\n",
       " ('WFPS_0.15', '-'),\n",
       " ('WFPS_0.30', '-'),\n",
       " ('PREC', '-'),\n",
       " ('target', '-'),\n",
       " ('.daynight', '-')]"
      ]
     },
     "execution_count": 49,
     "metadata": {},
     "output_type": "execute_result"
    }
   ],
   "source": [
    "# [print(col) for col in rfts.df.columns]\n",
    "pd.set_option('display.max_columns', 99)\n",
    "pd.set_option('display.max_rows', 99)\n",
    "display(rfts.df)\n",
    "columns_in_dataset = list(rfts.df.columns)\n",
    "# [print(col) for col in columns_in_dataset]\n",
    "columns_in_dataset"
   ]
  },
  {
   "cell_type": "markdown",
   "id": "d970321e",
   "metadata": {},
   "source": [
    "## Feature Reduction\n",
    "Identify most important features for predicting target."
   ]
  },
  {
   "cell_type": "code",
   "execution_count": 50,
   "id": "6ff11fcf",
   "metadata": {},
   "outputs": [
    {
     "name": "stdout",
     "output_type": "stream",
     "text": [
      "\n",
      "\n",
      "[FEATURE REDUCTION]    START ==============================\n",
      "[FEATURE REDUCTION]    Parameters:  {'cv': TimeSeriesSplit(max_train_size=None, n_splits=5), 'estimator__bootstrap': True, 'estimator__ccp_alpha': 0.0, 'estimator__criterion': 'mse', 'estimator__max_depth': None, 'estimator__max_features': 'auto', 'estimator__max_leaf_nodes': None, 'estimator__max_samples': None, 'estimator__min_impurity_decrease': 0.0, 'estimator__min_impurity_split': None, 'estimator__min_samples_leaf': 1, 'estimator__min_samples_split': 2, 'estimator__min_weight_fraction_leaf': 0.0, 'estimator__n_estimators': 100, 'estimator__n_jobs': -1, 'estimator__oob_score': False, 'estimator__random_state': 42, 'estimator__verbose': 0, 'estimator__warm_start': False, 'estimator': RandomForestRegressor(n_jobs=-1, random_state=42), 'min_features_to_select': 20, 'n_jobs': -1, 'scoring': 'explained_variance', 'step': 1, 'verbose': 1}\n",
      "[FEATURE REDUCTION]    Number of features *before* reduction:  8\n",
      "[FEATURE REDUCTION]    Number of features *after* reduction:  6\n",
      "[FEATURE REDUCTION]    Most important features:  [('WFPS_0.30', '-'), ('TS_0.30', '-'), ('WFPS_0.05', '-'), ('WFPS_0.15', '-'), ('TS_0.05', '-'), ('TS_0.15', '-')]\n",
      "          feature  importance\n",
      "5  (WFPS_0.30, -)    0.318360\n",
      "2    (TS_0.30, -)    0.195983\n",
      "3  (WFPS_0.05, -)    0.181000\n",
      "4  (WFPS_0.15, -)    0.156453\n",
      "0    (TS_0.05, -)    0.090722\n",
      "1    (TS_0.15, -)    0.050522\n",
      "[FEATURE REDUCTION]    ============================== END\n",
      "\n"
     ]
    }
   ],
   "source": [
    "rfts.feature_reduction()\n",
    "reduced_df, feat_reduction_results = rfts.get_reduced_dataset()"
   ]
  },
  {
   "cell_type": "code",
   "execution_count": 51,
   "id": "8c175a0f-7294-41f6-a6bc-bdc3e210aefc",
   "metadata": {},
   "outputs": [
    {
     "data": {
      "text/html": [
       "<div>\n",
       "<style scoped>\n",
       "    .dataframe tbody tr th:only-of-type {\n",
       "        vertical-align: middle;\n",
       "    }\n",
       "\n",
       "    .dataframe tbody tr th {\n",
       "        vertical-align: top;\n",
       "    }\n",
       "\n",
       "    .dataframe thead th {\n",
       "        text-align: right;\n",
       "    }\n",
       "</style>\n",
       "<table border=\"1\" class=\"dataframe\">\n",
       "  <thead>\n",
       "    <tr style=\"text-align: right;\">\n",
       "      <th></th>\n",
       "      <th>feature</th>\n",
       "      <th>importance</th>\n",
       "    </tr>\n",
       "  </thead>\n",
       "  <tbody>\n",
       "    <tr>\n",
       "      <th>5</th>\n",
       "      <td>(WFPS_0.30, -)</td>\n",
       "      <td>0.318360</td>\n",
       "    </tr>\n",
       "    <tr>\n",
       "      <th>2</th>\n",
       "      <td>(TS_0.30, -)</td>\n",
       "      <td>0.195983</td>\n",
       "    </tr>\n",
       "    <tr>\n",
       "      <th>3</th>\n",
       "      <td>(WFPS_0.05, -)</td>\n",
       "      <td>0.181000</td>\n",
       "    </tr>\n",
       "    <tr>\n",
       "      <th>4</th>\n",
       "      <td>(WFPS_0.15, -)</td>\n",
       "      <td>0.156453</td>\n",
       "    </tr>\n",
       "    <tr>\n",
       "      <th>0</th>\n",
       "      <td>(TS_0.05, -)</td>\n",
       "      <td>0.090722</td>\n",
       "    </tr>\n",
       "    <tr>\n",
       "      <th>1</th>\n",
       "      <td>(TS_0.15, -)</td>\n",
       "      <td>0.050522</td>\n",
       "    </tr>\n",
       "  </tbody>\n",
       "</table>\n",
       "</div>"
      ],
      "text/plain": [
       "          feature  importance\n",
       "5  (WFPS_0.30, -)    0.318360\n",
       "2    (TS_0.30, -)    0.195983\n",
       "3  (WFPS_0.05, -)    0.181000\n",
       "4  (WFPS_0.15, -)    0.156453\n",
       "0    (TS_0.05, -)    0.090722\n",
       "1    (TS_0.15, -)    0.050522"
      ]
     },
     "execution_count": 51,
     "metadata": {},
     "output_type": "execute_result"
    }
   ],
   "source": [
    "feat_reduction_results['feature_importances_after'].loc[feat_reduction_results['feature_importances_after']['importance'] > 0.01]"
   ]
  },
  {
   "cell_type": "markdown",
   "id": "a729863d-b656-45b6-abf1-308a8e58cef8",
   "metadata": {},
   "source": [
    "## Build Final Model"
   ]
  },
  {
   "cell_type": "code",
   "execution_count": 52,
   "id": "785922e1",
   "metadata": {},
   "outputs": [
    {
     "name": "stdout",
     "output_type": "stream",
     "text": [
      "\n",
      "\n",
      "[FINAL MODEL]    START ==============================\n",
      "[FINAL MODEL]    Target column:  ('target', '-')  (1643 values)\n",
      "[FINAL MODEL]    Number of features used in model:  6\n",
      "[FINAL MODEL]    Names of features used in model:  [('WFPS_0.30', '-'), ('TS_0.30', '-'), ('WFPS_0.05', '-'), ('WFPS_0.15', '-'), ('TS_0.05', '-'), ('TS_0.15', '-')]\n",
      "[FINAL MODEL]    Model parameters:  {'bootstrap': True, 'ccp_alpha': 0.0, 'criterion': 'mse', 'max_depth': None, 'max_features': 'auto', 'max_leaf_nodes': None, 'max_samples': None, 'min_impurity_decrease': 0.0, 'min_impurity_split': None, 'min_samples_leaf': 1, 'min_samples_split': 2, 'min_weight_fraction_leaf': 0.0, 'n_estimators': 1000, 'n_jobs': -1, 'oob_score': False, 'random_state': 42, 'verbose': 0, 'warm_start': False}\n",
      "[FINAL MODEL]    Model MAE:  0.10047165288271544\n",
      "[FINAL MODEL]    Model MAPE:  6.223%\n",
      "[FINAL MODEL]    Model R2:  0.9857769154528883\n",
      "[FINAL MODEL]    Model features:\n",
      "              Var  Importance\n",
      "0  (WFPS_0.30, -)        0.35\n",
      "1  (WFPS_0.05, -)        0.18\n",
      "2    (TS_0.30, -)        0.17\n",
      "3  (WFPS_0.15, -)        0.16\n",
      "4    (TS_0.05, -)        0.08\n",
      "5    (TS_0.15, -)        0.05\n",
      "[FINAL MODEL]    ============================== END\n",
      "\n"
     ]
    }
   ],
   "source": [
    "rfts.build_final_model()"
   ]
  },
  {
   "cell_type": "markdown",
   "id": "6b6a2df9",
   "metadata": {},
   "source": [
    "## Fill gaps\n",
    "Fill gaps in target variable, using the model with reduced features."
   ]
  },
  {
   "cell_type": "code",
   "execution_count": 53,
   "id": "c3012570",
   "metadata": {
    "tags": []
   },
   "outputs": [
    {
     "name": "stdout",
     "output_type": "stream",
     "text": [
      "\n",
      "\n",
      "[GAPFILLING]    START ==============================\n",
      "Added timestamp as columns: [('.DOY', '[day_of_year]'), ('.WEEK', '[week_of_year]'), ('.MONTH', '[month]'), ('.HOUR', '[hour]')]\n",
      "[GAPFILLING]    feature_names:  [('WFPS_0.30', '-'), ('TS_0.30', '-'), ('WFPS_0.05', '-'), ('WFPS_0.15', '-'), ('TS_0.05', '-'), ('TS_0.15', '-')]\n",
      "[GAPFILLING]    num_features:  6\n",
      "[GAPFILLING]    first_timestamp:  2019-05-10 13:15:00\n",
      "[GAPFILLING]    last_timestamp:  2019-07-22 20:15:00\n",
      "[GAPFILLING]    max_potential_vals:  3519\n",
      "[GAPFILLING]    target_numvals:  1959\n",
      "[GAPFILLING]    target_numgaps:  1560\n",
      "[GAPFILLING]    target_gapfilled_numvals:  3519\n",
      "[GAPFILLING]    target_gapfilled_numgaps:  0\n",
      "[GAPFILLING]    target_gapfilled_flag_notfilled:  1959\n",
      "[GAPFILLING]    target_gapfilled_flag_with_hq:  1387\n",
      "[GAPFILLING]    target_gapfilled_flag_with_fallback:  173\n",
      "[GAPFILLING]    predictions_hq_numvals:  3030\n",
      "[GAPFILLING]    predictions_hq_numgaps:  489\n",
      "[GAPFILLING]    predictions_fallback_numvals:  3519\n",
      "[GAPFILLING]    predictions_fallback_numgaps:  0\n",
      "[GAPFILLING]    ============================== END\n",
      "\n"
     ]
    }
   ],
   "source": [
    "rfts.gapfilling()\n",
    "gapfilled_df, gf_results = rfts.get_gapfilled_dataset()"
   ]
  },
  {
   "cell_type": "code",
   "execution_count": 54,
   "id": "01c8af47-91a6-4bb3-a236-da55ee2db049",
   "metadata": {},
   "outputs": [
    {
     "data": {
      "text/html": [
       "<div>\n",
       "<style scoped>\n",
       "    .dataframe tbody tr th:only-of-type {\n",
       "        vertical-align: middle;\n",
       "    }\n",
       "\n",
       "    .dataframe tbody tr th {\n",
       "        vertical-align: top;\n",
       "    }\n",
       "\n",
       "    .dataframe thead tr th {\n",
       "        text-align: left;\n",
       "    }\n",
       "</style>\n",
       "<table border=\"1\" class=\"dataframe\">\n",
       "  <thead>\n",
       "    <tr>\n",
       "      <th></th>\n",
       "      <th>target</th>\n",
       "      <th>.predictions</th>\n",
       "      <th>.gap_predictions</th>\n",
       "      <th>QCF_target#gfRF</th>\n",
       "      <th>target#gfRF</th>\n",
       "      <th>.predictions_fallback</th>\n",
       "      <th>.gapfilled_cumulative</th>\n",
       "    </tr>\n",
       "    <tr>\n",
       "      <th></th>\n",
       "      <th>-</th>\n",
       "      <th>[aux]</th>\n",
       "      <th>[aux]</th>\n",
       "      <th>[0=measured]</th>\n",
       "      <th>-</th>\n",
       "      <th>[aux]</th>\n",
       "      <th>[aux]</th>\n",
       "    </tr>\n",
       "  </thead>\n",
       "  <tbody>\n",
       "    <tr>\n",
       "      <th>2019-05-10 13:15:00</th>\n",
       "      <td>0.334752</td>\n",
       "      <td>NaN</td>\n",
       "      <td>NaN</td>\n",
       "      <td>0</td>\n",
       "      <td>0.334752</td>\n",
       "      <td>0.536604</td>\n",
       "      <td>0.334752</td>\n",
       "    </tr>\n",
       "    <tr>\n",
       "      <th>2019-05-10 13:45:00</th>\n",
       "      <td>NaN</td>\n",
       "      <td>NaN</td>\n",
       "      <td>NaN</td>\n",
       "      <td>2</td>\n",
       "      <td>0.536604</td>\n",
       "      <td>0.536604</td>\n",
       "      <td>0.871356</td>\n",
       "    </tr>\n",
       "    <tr>\n",
       "      <th>2019-05-10 14:15:00</th>\n",
       "      <td>0.382689</td>\n",
       "      <td>NaN</td>\n",
       "      <td>NaN</td>\n",
       "      <td>0</td>\n",
       "      <td>0.382689</td>\n",
       "      <td>0.308428</td>\n",
       "      <td>1.254045</td>\n",
       "    </tr>\n",
       "    <tr>\n",
       "      <th>2019-05-10 14:45:00</th>\n",
       "      <td>NaN</td>\n",
       "      <td>NaN</td>\n",
       "      <td>NaN</td>\n",
       "      <td>2</td>\n",
       "      <td>0.308428</td>\n",
       "      <td>0.308428</td>\n",
       "      <td>1.562472</td>\n",
       "    </tr>\n",
       "    <tr>\n",
       "      <th>2019-05-10 15:15:00</th>\n",
       "      <td>0.616896</td>\n",
       "      <td>NaN</td>\n",
       "      <td>NaN</td>\n",
       "      <td>0</td>\n",
       "      <td>0.616896</td>\n",
       "      <td>0.498489</td>\n",
       "      <td>2.179368</td>\n",
       "    </tr>\n",
       "    <tr>\n",
       "      <th>...</th>\n",
       "      <td>...</td>\n",
       "      <td>...</td>\n",
       "      <td>...</td>\n",
       "      <td>...</td>\n",
       "      <td>...</td>\n",
       "      <td>...</td>\n",
       "      <td>...</td>\n",
       "    </tr>\n",
       "    <tr>\n",
       "      <th>2019-07-22 18:15:00</th>\n",
       "      <td>0.481939</td>\n",
       "      <td>0.430891</td>\n",
       "      <td>NaN</td>\n",
       "      <td>0</td>\n",
       "      <td>0.481939</td>\n",
       "      <td>0.426721</td>\n",
       "      <td>2489.664578</td>\n",
       "    </tr>\n",
       "    <tr>\n",
       "      <th>2019-07-22 18:45:00</th>\n",
       "      <td>0.390603</td>\n",
       "      <td>0.378454</td>\n",
       "      <td>NaN</td>\n",
       "      <td>0</td>\n",
       "      <td>0.390603</td>\n",
       "      <td>0.426721</td>\n",
       "      <td>2490.055181</td>\n",
       "    </tr>\n",
       "    <tr>\n",
       "      <th>2019-07-22 19:15:00</th>\n",
       "      <td>0.219903</td>\n",
       "      <td>0.272118</td>\n",
       "      <td>NaN</td>\n",
       "      <td>0</td>\n",
       "      <td>0.219903</td>\n",
       "      <td>0.282960</td>\n",
       "      <td>2490.275084</td>\n",
       "    </tr>\n",
       "    <tr>\n",
       "      <th>2019-07-22 19:45:00</th>\n",
       "      <td>0.328589</td>\n",
       "      <td>0.305745</td>\n",
       "      <td>NaN</td>\n",
       "      <td>0</td>\n",
       "      <td>0.328589</td>\n",
       "      <td>0.282960</td>\n",
       "      <td>2490.603673</td>\n",
       "    </tr>\n",
       "    <tr>\n",
       "      <th>2019-07-22 20:15:00</th>\n",
       "      <td>0.260072</td>\n",
       "      <td>0.280011</td>\n",
       "      <td>NaN</td>\n",
       "      <td>0</td>\n",
       "      <td>0.260072</td>\n",
       "      <td>0.270774</td>\n",
       "      <td>2490.863745</td>\n",
       "    </tr>\n",
       "  </tbody>\n",
       "</table>\n",
       "<p>3519 rows × 7 columns</p>\n",
       "</div>"
      ],
      "text/plain": [
       "                       target .predictions .gap_predictions QCF_target#gfRF target#gfRF .predictions_fallback .gapfilled_cumulative\n",
       "                            -        [aux]            [aux]    [0=measured]           -                 [aux]                 [aux]\n",
       "2019-05-10 13:15:00  0.334752          NaN              NaN               0    0.334752              0.536604              0.334752\n",
       "2019-05-10 13:45:00       NaN          NaN              NaN               2    0.536604              0.536604              0.871356\n",
       "2019-05-10 14:15:00  0.382689          NaN              NaN               0    0.382689              0.308428              1.254045\n",
       "2019-05-10 14:45:00       NaN          NaN              NaN               2    0.308428              0.308428              1.562472\n",
       "2019-05-10 15:15:00  0.616896          NaN              NaN               0    0.616896              0.498489              2.179368\n",
       "...                       ...          ...              ...             ...         ...                   ...                   ...\n",
       "2019-07-22 18:15:00  0.481939     0.430891              NaN               0    0.481939              0.426721           2489.664578\n",
       "2019-07-22 18:45:00  0.390603     0.378454              NaN               0    0.390603              0.426721           2490.055181\n",
       "2019-07-22 19:15:00  0.219903     0.272118              NaN               0    0.219903              0.282960           2490.275084\n",
       "2019-07-22 19:45:00  0.328589     0.305745              NaN               0    0.328589              0.282960           2490.603673\n",
       "2019-07-22 20:15:00  0.260072     0.280011              NaN               0    0.260072              0.270774           2490.863745\n",
       "\n",
       "[3519 rows x 7 columns]"
      ]
     },
     "execution_count": 54,
     "metadata": {},
     "output_type": "execute_result"
    }
   ],
   "source": [
    "gapfilled_df"
   ]
  },
  {
   "cell_type": "markdown",
   "id": "dfc4cb26-63e6-4c5d-b3e1-d4778cc39c35",
   "metadata": {},
   "source": [
    "## Save To File"
   ]
  },
  {
   "cell_type": "code",
   "execution_count": 55,
   "id": "7c401c72",
   "metadata": {},
   "outputs": [],
   "source": [
    "gapfilled_df.to_csv(OUTFILE)"
   ]
  },
  {
   "cell_type": "markdown",
   "id": "dea0ccae-a44a-4bd7-9fb1-0a4b2d8de5e5",
   "metadata": {},
   "source": [
    "## Summary"
   ]
  },
  {
   "cell_type": "code",
   "execution_count": 56,
   "id": "a0e53c3d-9c5d-40e2-9707-75e507499382",
   "metadata": {},
   "outputs": [
    {
     "data": {
      "text/plain": [
       "{'feature_names': [('WFPS_0.30', '-'),\n",
       "  ('TS_0.30', '-'),\n",
       "  ('WFPS_0.05', '-'),\n",
       "  ('WFPS_0.15', '-'),\n",
       "  ('TS_0.05', '-'),\n",
       "  ('TS_0.15', '-')],\n",
       " 'num_features': 6,\n",
       " 'first_timestamp': Timestamp('2019-05-10 13:15:00'),\n",
       " 'last_timestamp': Timestamp('2019-07-22 20:15:00'),\n",
       " 'max_potential_vals': 3519,\n",
       " 'target_numvals': 1959,\n",
       " 'target_numgaps': 1560,\n",
       " 'target_gapfilled_numvals': 3519,\n",
       " 'target_gapfilled_numgaps': 0,\n",
       " 'target_gapfilled_flag_notfilled': 1959,\n",
       " 'target_gapfilled_flag_with_hq': 1387,\n",
       " 'target_gapfilled_flag_with_fallback': 173,\n",
       " 'predictions_hq_numvals': 3030,\n",
       " 'predictions_hq_numgaps': 489,\n",
       " 'predictions_fallback_numvals': 3519,\n",
       " 'predictions_fallback_numgaps': 0}"
      ]
     },
     "execution_count": 56,
     "metadata": {},
     "output_type": "execute_result"
    }
   ],
   "source": [
    "gf_results"
   ]
  },
  {
   "cell_type": "code",
   "execution_count": 57,
   "id": "ee2ed7a3",
   "metadata": {},
   "outputs": [
    {
     "data": {
      "text/plain": [
       "0    1959\n",
       "1    1387\n",
       "2     173\n",
       "Name: (QCF_target#gfRF, [0=measured]), dtype: int64"
      ]
     },
     "execution_count": 57,
     "metadata": {},
     "output_type": "execute_result"
    }
   ],
   "source": [
    "# Flag info\n",
    "_flag = gapfilled_df[('QCF_target#gfRF', '[0=measured]')]\n",
    "_unique_values = pd.unique(_flag.values.ravel())\n",
    "_counts_series = pd.Series(index=_unique_values, dtype=int)\n",
    "_counts_series = _flag.value_counts(dropna=False)\n",
    "_counts_series"
   ]
  },
  {
   "cell_type": "code",
   "execution_count": 58,
   "id": "7e15e399-3c47-464f-b197-d71dc8abca1f",
   "metadata": {},
   "outputs": [
    {
     "data": {
      "text/plain": [
       "[('target', '-'),\n",
       " ('.predictions', '[aux]'),\n",
       " ('.gap_predictions', '[aux]'),\n",
       " ('QCF_target#gfRF', '[0=measured]'),\n",
       " ('target#gfRF', '-'),\n",
       " ('.predictions_fallback', '[aux]'),\n",
       " ('.gapfilled_cumulative', '[aux]')]"
      ]
     },
     "execution_count": 58,
     "metadata": {},
     "output_type": "execute_result"
    }
   ],
   "source": [
    "list(gapfilled_df.columns)"
   ]
  },
  {
   "cell_type": "markdown",
   "id": "c281c79c",
   "metadata": {},
   "source": [
    "### Plot: Overview"
   ]
  },
  {
   "cell_type": "code",
   "execution_count": 59,
   "id": "d21471c1",
   "metadata": {},
   "outputs": [
    {
     "data": {
      "image/png": "[encoded data removed]",
      "text/plain": [
       "<Figure size 1584x648 with 7 Axes>"
      ]
     },
     "metadata": {
      "needs_background": "light"
     },
     "output_type": "display_data"
    }
   ],
   "source": [
    "gapfilled_df.plot(subplots=True, figsize=(22, 9));"
   ]
  },
  {
   "cell_type": "markdown",
   "id": "89eb14a6",
   "metadata": {},
   "source": [
    "### Plot: Predictions vs. Target"
   ]
  },
  {
   "cell_type": "code",
   "execution_count": 60,
   "id": "04126e68",
   "metadata": {},
   "outputs": [
    {
     "data": {
      "image/png": "[encoded data removed]",
      "text/plain": [
       "<Figure size 648x648 with 1 Axes>"
      ]
     },
     "metadata": {
      "needs_background": "light"
     },
     "output_type": "display_data"
    }
   ],
   "source": [
    "# Plot all targets vs. predictions\n",
    "x_col = ('target', '-')\n",
    "y_col = ('.predictions', '[aux]')\n",
    "plt.figure(figsize=(9, 9))\n",
    "plt.scatter(gapfilled_df[x_col], gapfilled_df[y_col])\n",
    "plt.title(\"Predicted (random forest) vs. measured with 1:1 line\")\n",
    "plt.axhline(0, color='black', lw=1)\n",
    "plt.plot([-2,20],[-2,20], 'black', linewidth=3, label=\"1:1 line\", ls=\"-\")\n",
    "plt.xlabel(\"measured\")\n",
    "plt.ylabel(\"predicted\")\n",
    "plt.xlim(-2, 20)\n",
    "plt.ylim(-2, 20)\n",
    "plt.grid()\n",
    "plt.legend();"
   ]
  },
  {
   "cell_type": "markdown",
   "id": "d9a7c60c",
   "metadata": {},
   "source": [
    "### Plot: Measured And Gap-filled Values"
   ]
  },
  {
   "cell_type": "code",
   "execution_count": 61,
   "id": "f8e209eb",
   "metadata": {},
   "outputs": [
    {
     "data": {
      "image/png": "[encoded data removed]",
      "text/plain": [
       "<Figure size 1728x648 with 1 Axes>"
      ]
     },
     "metadata": {
      "needs_background": "light"
     },
     "output_type": "display_data"
    }
   ],
   "source": [
    "# Plot all targets and predictions\n",
    "x_col = ('target', '-')\n",
    "y_col = ('.gap_predictions', '[aux]')\n",
    "plt.figure(figsize=(24, 9))\n",
    "plt.title(\"Measured And Gap-filled Values\")\n",
    "plt.plot(gapfilled_df[x_col], label=f\"measured {x_col}\")\n",
    "plt.plot(gapfilled_df[y_col], label=f\"gap predictions {y_col}\", lw=2)\n",
    "plt.legend()\n",
    "plt.show()"
   ]
  },
  {
   "cell_type": "markdown",
   "id": "aa6dedd0",
   "metadata": {},
   "source": [
    "### Plot: Gap-filled Time Series"
   ]
  },
  {
   "cell_type": "code",
   "execution_count": 62,
   "id": "24bb0cad",
   "metadata": {},
   "outputs": [
    {
     "data": {
      "image/png": "[encoded data removed]",
      "text/plain": [
       "<Figure size 1728x648 with 1 Axes>"
      ]
     },
     "metadata": {
      "needs_background": "light"
     },
     "output_type": "display_data"
    }
   ],
   "source": [
    "col = ('target#gfRF', '-')\n",
    "plt.figure(figsize=(24, 9))\n",
    "plt.title(\"Gap-filled Time Series\")\n",
    "plt.plot(gapfilled_df[col], label=f\"gap-filled time series {col}\")\n",
    "plt.legend()\n",
    "plt.show()"
   ]
  },
  {
   "cell_type": "markdown",
   "id": "ea01c385",
   "metadata": {},
   "source": [
    "### Visualize tree"
   ]
  },
  {
   "cell_type": "code",
   "execution_count": 63,
   "id": "057aaaad",
   "metadata": {
    "tags": []
   },
   "outputs": [],
   "source": [
    "# # Visualize one of the decision trees\n",
    "# from sklearn.tree import export_graphviz\n",
    "# import pydot\n",
    "# tree = rfts.model.estimators_[2]  # # Pull out one tree from the forest\n",
    "# export_graphviz(tree, out_file = 'tree.dot', feature_names=rfts.feature_names, rounded = True, precision = 1)  # Export the image to a dot file\n",
    "# (graph, ) = pydot.graph_from_dot_file('tree.dot')  # Use dot file to create a graph\n",
    "# graph.write_png('tree.png')  # Write graph to a png file"
   ]
  },
  {
   "cell_type": "code",
   "execution_count": 64,
   "id": "0ea1b01a-7830-4af0-a0a3-5007b5d37c8c",
   "metadata": {},
   "outputs": [],
   "source": [
    "# rfts.feat_reduction_results"
   ]
  }
 ],
 "metadata": {
  "kernelspec": {
   "display_name": "Python 3 (ipykernel)",
   "language": "python",
   "name": "python3"
  },
  "language_info": {
   "codemirror_mode": {
    "name": "ipython",
    "version": 3
   },
   "file_extension": ".py",
   "mimetype": "text/x-python",
   "name": "python",
   "nbconvert_exporter": "python",
   "pygments_lexer": "ipython3",
   "version": "3.9.5"
  },
  "toc-showtags": false
 },
 "nbformat": 4,
 "nbformat_minor": 5
}
