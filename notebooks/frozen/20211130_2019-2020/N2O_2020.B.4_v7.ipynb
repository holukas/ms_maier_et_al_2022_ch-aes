{
 "cells": [
  {
   "cell_type": "markdown",
   "id": "d72d77d0",
   "metadata": {},
   "source": [
    "<div class=\"alert alert-block alert-danger\">\n",
    "    <div style=\"font-size: 40px; font-weight: bold;\">N2O</div>    \n",
    "    <b>NOTE</b>: Check the variable `usecols` in `User settings` for info about variables used in this run.\n",
    "</div>\n",
    "\n",
    "**Feature Reduction and Gap-filling**\n",
    "\n",
    "This script uses a datafile containing half-hourly fluxes and meteo data from the research site CH-AES (Aeschi, Switzerland).\n",
    "\n",
    "Time Periods:\n",
    "- Measurements 2019: raw data files from `2019051011.X52` to `2019072307.X00`\n",
    "- Measurements 2020: raw data files from `2020051215.X15` to `2020110307.X00`"
   ]
  },
  {
   "cell_type": "markdown",
   "id": "ed768a47-7524-473d-9a3f-a10e3fcf3a0b",
   "metadata": {},
   "source": [
    "# User Settings\n",
    "- `target` ... column name of the variable for which feature elimination and gap-filling will be performed\n",
    "- `SELECT_YEAR` ... define year for analyses\n",
    "- `DATAFILE` ... input, contains the source data\n",
    "- `OUTFILE` ... output, will contain gap-filled data\n",
    "- `usecols` ... column names of variables that will be ignored\n",
    "- `keep_mgmt` ... options: `all` keeps all management, `bulk` keeps combined .MGMT column, `none` removes all management, `combos` keeps combined e.g. Nmin+Norg and also harvest\n",
    "- `use_timesince_varsuse_timesince_vars` ... calculates e.g. the time since last management event, given as number or half-hours\n",
    "- `timestamp_as_features` ... add timestamp info as features, e.g. the month is inserted as separate column and used as feature\n",
    "- `include_rolling_variants` ... add rolling variants of variables as featuresAdd rolling variants of variables as features\n",
    "- `include_lagged_variants` ... add lagged variants of the rolling variants as features, e.g. the 3-hour average ending 6-hours ago"
   ]
  },
  {
   "cell_type": "code",
   "execution_count": 1,
   "id": "39cc1520",
   "metadata": {},
   "outputs": [],
   "source": [
    "# Year\n",
    "SELECT_YEAR = 2020\n",
    "\n",
    "# Variable of interest\n",
    "target = 'N2O_flag0_ustar'\n",
    "\n",
    "# Variables in DATAFILE that will be used, management data must be included here\n",
    "# but will only be used if `keep_mgmt` is anything other than `none`.\n",
    "usecols = [\n",
    "#     'PREC',\n",
    "#     'TA', 'RH', 'PA', 'Rg', 'VPD',\n",
    "    'TS_0.05',\n",
    "    'TS_0.15', 'TS_0.30',\n",
    "    'WFPS_0.05',\n",
    "    'WFPS_0.15', 'WFPS_0.30',    \n",
    "#     'GPP', 'Reco',\n",
    "#     'NEE_flag0_ustar',\n",
    "#     'NEE', 'NEE_flag01_ustar', 'NEE_flag0', 'NEE_flag01',\n",
    "    'N2O_flag0_ustar',\n",
    "#     'N2O_flag01', 'N2O_flag0',\n",
    "#     'CH4_flag0_ustar',\n",
    "#     'CH4_flag01', 'CH4_flag0',\n",
    "    'herb', 'harvest', 'Nmin', 'Norg', 'Nfert', 'soil', 'sow',\n",
    "#     'veg.height', 'lai'\n",
    "]\n",
    "\n",
    "# Use management info\n",
    "keep_mgmt = 'none'  \n",
    "use_timesince_vars = False\n",
    "\n",
    "# Random forest settings\n",
    "timestamp_as_features = False  \n",
    "include_rolling_variants = True\n",
    "include_lagged_variants = True\n",
    "\n",
    "# Files\n",
    "DATAFILE = \"/home/jovyan/work/ms-ch-aes/data/ch-aes-fluxes-co2-n2o-ch4-and-meteo-2019-2020/CH-AES_2019_2020_data_for_analysis_20211127.csv\"\n",
    "OUTFILE = \"_del.csv\""
   ]
  },
  {
   "cell_type": "code",
   "execution_count": 2,
   "id": "ee62aeee-0717-4607-ad10-9929067fe6e7",
   "metadata": {},
   "outputs": [],
   "source": [
    "# # Complete list of variables\n",
    "\n",
    "# usecols = [\n",
    "#     'PREC',\n",
    "#     'TA', 'RH', 'PA', 'Rg', 'VPD',\n",
    "#     'TS_0.05',\n",
    "#     'TS_0.15', 'TS_0.30',\n",
    "#     'WFPS_0.05',\n",
    "#     'WFPS_0.15', 'WFPS_0.30',    \n",
    "#     'GPP', 'Reco',\n",
    "#     'NEE_flag0_ustar',\n",
    "#     'NEE', 'NEE_flag01_ustar', 'NEE_flag0', 'NEE_flag01',\n",
    "#     'N2O_flag0_ustar',\n",
    "#     'N2O_flag01', 'N2O_flag0',\n",
    "#     'CH4_flag0_ustar',\n",
    "#     'CH4_flag01', 'CH4_flag0',\n",
    "#     'herb', 'harvest', 'Nmin', 'Norg', 'Nfert', 'soil', 'sow',\n",
    "#     'veg.height', 'lai'\n",
    "# ]"
   ]
  },
  {
   "cell_type": "markdown",
   "id": "680669a1",
   "metadata": {},
   "source": [
    "# Setup"
   ]
  },
  {
   "cell_type": "markdown",
   "id": "5223a349",
   "metadata": {},
   "source": [
    "## Imports"
   ]
  },
  {
   "cell_type": "code",
   "execution_count": 3,
   "id": "19efd9d9",
   "metadata": {
    "tags": []
   },
   "outputs": [],
   "source": [
    "import os\n",
    "import datetime as dt\n",
    "\n",
    "import numpy as np\n",
    "import matplotlib.pyplot as plt\n",
    "import pandas as pd\n",
    "pd.set_option('display.max_columns', 99)\n",
    "pd.set_option('display.max_rows', 99)\n",
    "\n",
    "import warnings\n",
    "warnings.filterwarnings('ignore')\n",
    "\n",
    "from pkgs.randomforest_ts import RandomForestTS  # From DIIVE"
   ]
  },
  {
   "cell_type": "code",
   "execution_count": 4,
   "id": "c65cb489",
   "metadata": {},
   "outputs": [
    {
     "name": "stdout",
     "output_type": "stream",
     "text": [
      "Working directory: /home/jovyan/work/ms-ch-aes/notebooks\n"
     ]
    }
   ],
   "source": [
    "print(f\"Working directory: {os.getcwd()}\")"
   ]
  },
  {
   "cell_type": "markdown",
   "id": "22b1f769",
   "metadata": {},
   "source": [
    "## Load data from file\n",
    "Load the original data file."
   ]
  },
  {
   "cell_type": "code",
   "execution_count": 5,
   "id": "312041de",
   "metadata": {
    "tags": []
   },
   "outputs": [
    {
     "name": "stdout",
     "output_type": "stream",
     "text": [
      "\n",
      "Loaded data from file <b>s</b>/home/jovyan/work/ms-ch-aes/data/ch-aes-fluxes-co2-n2o-ch4-and-meteo-2019-2020/CH-AES_2019_2020_data_for_analysis_20211127.csv\n",
      "\n",
      "\n",
      "Data columns with original column names:\n",
      "['TA', 'RH', 'PA', 'Rg', 'TS_0.05', 'TS_0.15', 'TS_0.30', 'WFPS_0.05', 'WFPS_0.15', 'WFPS_0.30', 'PREC', 'VPD', 'NEE', 'GPP', 'Reco', 'NEE_flag01_ustar', 'NEE_flag0_ustar', 'NEE_flag0', 'NEE_flag01', 'N2O_flag01', 'N2O_flag0', 'N2O_flag0_ustar', 'CH4_flag01', 'CH4_flag0', 'CH4_flag0_ustar', 'herb', 'harvest', 'Nmin', 'Norg', 'Nfert', 'soil', 'sow', 'veg.height', 'lai']\n",
      "\n",
      "\n"
     ]
    },
    {
     "data": {
      "text/html": [
       "<div>\n",
       "<style scoped>\n",
       "    .dataframe tbody tr th:only-of-type {\n",
       "        vertical-align: middle;\n",
       "    }\n",
       "\n",
       "    .dataframe tbody tr th {\n",
       "        vertical-align: top;\n",
       "    }\n",
       "\n",
       "    .dataframe thead th {\n",
       "        text-align: right;\n",
       "    }\n",
       "</style>\n",
       "<table border=\"1\" class=\"dataframe\">\n",
       "  <thead>\n",
       "    <tr style=\"text-align: right;\">\n",
       "      <th></th>\n",
       "      <th>TA</th>\n",
       "      <th>RH</th>\n",
       "      <th>PA</th>\n",
       "      <th>Rg</th>\n",
       "      <th>TS_0.05</th>\n",
       "      <th>TS_0.15</th>\n",
       "      <th>...</th>\n",
       "      <th>Norg</th>\n",
       "      <th>Nfert</th>\n",
       "      <th>soil</th>\n",
       "      <th>sow</th>\n",
       "      <th>veg.height</th>\n",
       "      <th>lai</th>\n",
       "    </tr>\n",
       "    <tr>\n",
       "      <th>TIMESTAMP</th>\n",
       "      <th></th>\n",
       "      <th></th>\n",
       "      <th></th>\n",
       "      <th></th>\n",
       "      <th></th>\n",
       "      <th></th>\n",
       "      <th></th>\n",
       "      <th></th>\n",
       "      <th></th>\n",
       "      <th></th>\n",
       "      <th></th>\n",
       "      <th></th>\n",
       "      <th></th>\n",
       "    </tr>\n",
       "  </thead>\n",
       "  <tbody>\n",
       "    <tr>\n",
       "      <th>2019-05-08 15:45:00</th>\n",
       "      <td>10.233333</td>\n",
       "      <td>94.266667</td>\n",
       "      <td>94.953333</td>\n",
       "      <td>45.000000</td>\n",
       "      <td>11.933333</td>\n",
       "      <td>11.800000</td>\n",
       "      <td>...</td>\n",
       "      <td>0</td>\n",
       "      <td>0</td>\n",
       "      <td>0</td>\n",
       "      <td>0</td>\n",
       "      <td>0.000000</td>\n",
       "      <td>0.000000</td>\n",
       "    </tr>\n",
       "    <tr>\n",
       "      <th>2019-05-08 16:15:00</th>\n",
       "      <td>10.100000</td>\n",
       "      <td>95.333333</td>\n",
       "      <td>94.940000</td>\n",
       "      <td>45.000000</td>\n",
       "      <td>11.900000</td>\n",
       "      <td>11.800000</td>\n",
       "      <td>...</td>\n",
       "      <td>0</td>\n",
       "      <td>0</td>\n",
       "      <td>0</td>\n",
       "      <td>0</td>\n",
       "      <td>0.011012</td>\n",
       "      <td>0.000707</td>\n",
       "    </tr>\n",
       "    <tr>\n",
       "      <th>2019-05-08 16:45:00</th>\n",
       "      <td>10.133333</td>\n",
       "      <td>96.033333</td>\n",
       "      <td>94.956667</td>\n",
       "      <td>39.666667</td>\n",
       "      <td>11.866667</td>\n",
       "      <td>11.700000</td>\n",
       "      <td>...</td>\n",
       "      <td>0</td>\n",
       "      <td>0</td>\n",
       "      <td>0</td>\n",
       "      <td>0</td>\n",
       "      <td>0.022031</td>\n",
       "      <td>0.001414</td>\n",
       "    </tr>\n",
       "    <tr>\n",
       "      <th>2019-05-08 17:15:00</th>\n",
       "      <td>10.133333</td>\n",
       "      <td>96.200000</td>\n",
       "      <td>95.003333</td>\n",
       "      <td>36.666667</td>\n",
       "      <td>11.766667</td>\n",
       "      <td>11.700000</td>\n",
       "      <td>...</td>\n",
       "      <td>0</td>\n",
       "      <td>0</td>\n",
       "      <td>0</td>\n",
       "      <td>0</td>\n",
       "      <td>0.033059</td>\n",
       "      <td>0.002120</td>\n",
       "    </tr>\n",
       "    <tr>\n",
       "      <th>2019-05-08 17:45:00</th>\n",
       "      <td>10.166667</td>\n",
       "      <td>96.000003</td>\n",
       "      <td>95.063333</td>\n",
       "      <td>21.333333</td>\n",
       "      <td>11.700000</td>\n",
       "      <td>11.633333</td>\n",
       "      <td>...</td>\n",
       "      <td>0</td>\n",
       "      <td>0</td>\n",
       "      <td>0</td>\n",
       "      <td>0</td>\n",
       "      <td>0.044094</td>\n",
       "      <td>0.002827</td>\n",
       "    </tr>\n",
       "    <tr>\n",
       "      <th>...</th>\n",
       "      <td>...</td>\n",
       "      <td>...</td>\n",
       "      <td>...</td>\n",
       "      <td>...</td>\n",
       "      <td>...</td>\n",
       "      <td>...</td>\n",
       "      <td>...</td>\n",
       "      <td>...</td>\n",
       "      <td>...</td>\n",
       "      <td>...</td>\n",
       "      <td>...</td>\n",
       "      <td>...</td>\n",
       "      <td>...</td>\n",
       "    </tr>\n",
       "    <tr>\n",
       "      <th>2020-11-03 10:45:00</th>\n",
       "      <td>NaN</td>\n",
       "      <td>NaN</td>\n",
       "      <td>NaN</td>\n",
       "      <td>NaN</td>\n",
       "      <td>NaN</td>\n",
       "      <td>NaN</td>\n",
       "      <td>...</td>\n",
       "      <td>0</td>\n",
       "      <td>0</td>\n",
       "      <td>0</td>\n",
       "      <td>0</td>\n",
       "      <td>0.000000</td>\n",
       "      <td>0.000000</td>\n",
       "    </tr>\n",
       "    <tr>\n",
       "      <th>2020-11-03 11:15:00</th>\n",
       "      <td>NaN</td>\n",
       "      <td>NaN</td>\n",
       "      <td>NaN</td>\n",
       "      <td>NaN</td>\n",
       "      <td>NaN</td>\n",
       "      <td>NaN</td>\n",
       "      <td>...</td>\n",
       "      <td>0</td>\n",
       "      <td>0</td>\n",
       "      <td>0</td>\n",
       "      <td>0</td>\n",
       "      <td>0.000000</td>\n",
       "      <td>0.000000</td>\n",
       "    </tr>\n",
       "    <tr>\n",
       "      <th>2020-11-03 11:45:00</th>\n",
       "      <td>NaN</td>\n",
       "      <td>NaN</td>\n",
       "      <td>NaN</td>\n",
       "      <td>NaN</td>\n",
       "      <td>NaN</td>\n",
       "      <td>NaN</td>\n",
       "      <td>...</td>\n",
       "      <td>0</td>\n",
       "      <td>0</td>\n",
       "      <td>0</td>\n",
       "      <td>0</td>\n",
       "      <td>0.000000</td>\n",
       "      <td>0.000000</td>\n",
       "    </tr>\n",
       "    <tr>\n",
       "      <th>2020-11-03 12:15:00</th>\n",
       "      <td>NaN</td>\n",
       "      <td>NaN</td>\n",
       "      <td>NaN</td>\n",
       "      <td>NaN</td>\n",
       "      <td>NaN</td>\n",
       "      <td>NaN</td>\n",
       "      <td>...</td>\n",
       "      <td>0</td>\n",
       "      <td>0</td>\n",
       "      <td>0</td>\n",
       "      <td>0</td>\n",
       "      <td>0.000000</td>\n",
       "      <td>0.000000</td>\n",
       "    </tr>\n",
       "    <tr>\n",
       "      <th>2020-11-03 12:45:00</th>\n",
       "      <td>NaN</td>\n",
       "      <td>NaN</td>\n",
       "      <td>NaN</td>\n",
       "      <td>NaN</td>\n",
       "      <td>NaN</td>\n",
       "      <td>NaN</td>\n",
       "      <td>...</td>\n",
       "      <td>0</td>\n",
       "      <td>0</td>\n",
       "      <td>0</td>\n",
       "      <td>0</td>\n",
       "      <td>0.000000</td>\n",
       "      <td>0.000000</td>\n",
       "    </tr>\n",
       "  </tbody>\n",
       "</table>\n",
       "<p>26155 rows × 34 columns</p>\n",
       "</div>"
      ],
      "text/plain": [
       "                            TA         RH         PA         Rg    TS_0.05    TS_0.15  ...  Norg  Nfert  soil  sow  veg.height       lai\n",
       "TIMESTAMP                                                                              ...                                              \n",
       "2019-05-08 15:45:00  10.233333  94.266667  94.953333  45.000000  11.933333  11.800000  ...     0      0     0    0    0.000000  0.000000\n",
       "2019-05-08 16:15:00  10.100000  95.333333  94.940000  45.000000  11.900000  11.800000  ...     0      0     0    0    0.011012  0.000707\n",
       "2019-05-08 16:45:00  10.133333  96.033333  94.956667  39.666667  11.866667  11.700000  ...     0      0     0    0    0.022031  0.001414\n",
       "2019-05-08 17:15:00  10.133333  96.200000  95.003333  36.666667  11.766667  11.700000  ...     0      0     0    0    0.033059  0.002120\n",
       "2019-05-08 17:45:00  10.166667  96.000003  95.063333  21.333333  11.700000  11.633333  ...     0      0     0    0    0.044094  0.002827\n",
       "...                        ...        ...        ...        ...        ...        ...  ...   ...    ...   ...  ...         ...       ...\n",
       "2020-11-03 10:45:00        NaN        NaN        NaN        NaN        NaN        NaN  ...     0      0     0    0    0.000000  0.000000\n",
       "2020-11-03 11:15:00        NaN        NaN        NaN        NaN        NaN        NaN  ...     0      0     0    0    0.000000  0.000000\n",
       "2020-11-03 11:45:00        NaN        NaN        NaN        NaN        NaN        NaN  ...     0      0     0    0    0.000000  0.000000\n",
       "2020-11-03 12:15:00        NaN        NaN        NaN        NaN        NaN        NaN  ...     0      0     0    0    0.000000  0.000000\n",
       "2020-11-03 12:45:00        NaN        NaN        NaN        NaN        NaN        NaN  ...     0      0     0    0    0.000000  0.000000\n",
       "\n",
       "[26155 rows x 34 columns]"
      ]
     },
     "metadata": {},
     "output_type": "display_data"
    }
   ],
   "source": [
    "date_parser = lambda c: pd.to_datetime(c, format='%Y-%m-%d %H:%M:%S', errors='coerce')\n",
    "source_df = pd.read_csv(DATAFILE, index_col=0, parse_dates=True, na_values=[-9999, 'NA'], date_parser=date_parser)\n",
    "print(f\"\\nLoaded data from file <b>s</b>{DATAFILE}\\n\")\n",
    "print(f\"\\nData columns with original column names:\\n{list(source_df.columns)}\\n\\n\")\n",
    "display(source_df)"
   ]
  },
  {
   "cell_type": "markdown",
   "id": "103a916a-6158-4d29-aa9e-84e418c39194",
   "metadata": {},
   "source": [
    "### Sanitize original timestamp"
   ]
  },
  {
   "cell_type": "markdown",
   "id": "91b2bdcc-83ff-46a4-8218-856d44b02bf7",
   "metadata": {},
   "source": [
    "**Check timestamp index for erroneous timestamps**:\n",
    "Timestamp is checked for duplicates and timestamp NaTs (\"not a time\")."
   ]
  },
  {
   "cell_type": "code",
   "execution_count": 6,
   "id": "996ec7bc",
   "metadata": {},
   "outputs": [
    {
     "name": "stdout",
     "output_type": "stream",
     "text": [
      "Found duplicates in index: 1\n",
      "Found duplicates in index: 1\n"
     ]
    }
   ],
   "source": [
    "# Remove duplicates, keep first\n",
    "locs_duplicates = source_df.index.duplicated(keep='first')\n",
    "print(f\"Found duplicates in index: {locs_duplicates.sum()}\")\n",
    "source_df = source_df[~locs_duplicates]\n",
    "\n",
    "# Remove NaTs\n",
    "locs_nats = source_df.index.isnull()\n",
    "print(f\"Found duplicates in index: {locs_nats.sum()}\")\n",
    "source_df = source_df[~locs_nats]"
   ]
  },
  {
   "cell_type": "markdown",
   "id": "6f5e55c0-48ea-4596-b998-74d39140ab10",
   "metadata": {},
   "source": [
    "**Sort timestamp**: ascending order"
   ]
  },
  {
   "cell_type": "code",
   "execution_count": 7,
   "id": "15666dc2",
   "metadata": {},
   "outputs": [],
   "source": [
    "# Sort timestamp index\n",
    "source_df = source_df.sort_index(ascending=True)"
   ]
  },
  {
   "cell_type": "markdown",
   "id": "5faf969b-8d4e-47a3-9220-ce71e65a5701",
   "metadata": {},
   "source": [
    "### Check data"
   ]
  },
  {
   "cell_type": "markdown",
   "id": "c06c3c47-5a45-4084-a266-510a8d52fb25",
   "metadata": {},
   "source": [
    "**Data description**:"
   ]
  },
  {
   "cell_type": "code",
   "execution_count": 8,
   "id": "c376f390",
   "metadata": {},
   "outputs": [
    {
     "data": {
      "text/html": [
       "<div>\n",
       "<style scoped>\n",
       "    .dataframe tbody tr th:only-of-type {\n",
       "        vertical-align: middle;\n",
       "    }\n",
       "\n",
       "    .dataframe tbody tr th {\n",
       "        vertical-align: top;\n",
       "    }\n",
       "\n",
       "    .dataframe thead th {\n",
       "        text-align: right;\n",
       "    }\n",
       "</style>\n",
       "<table border=\"1\" class=\"dataframe\">\n",
       "  <thead>\n",
       "    <tr style=\"text-align: right;\">\n",
       "      <th></th>\n",
       "      <th>TA</th>\n",
       "      <th>RH</th>\n",
       "      <th>PA</th>\n",
       "      <th>Rg</th>\n",
       "      <th>TS_0.05</th>\n",
       "      <th>TS_0.15</th>\n",
       "      <th>...</th>\n",
       "      <th>Norg</th>\n",
       "      <th>Nfert</th>\n",
       "      <th>soil</th>\n",
       "      <th>sow</th>\n",
       "      <th>veg.height</th>\n",
       "      <th>lai</th>\n",
       "    </tr>\n",
       "  </thead>\n",
       "  <tbody>\n",
       "    <tr>\n",
       "      <th>count</th>\n",
       "      <td>24461.000000</td>\n",
       "      <td>24475.000000</td>\n",
       "      <td>24465.000000</td>\n",
       "      <td>24513.000000</td>\n",
       "      <td>23939.000000</td>\n",
       "      <td>23939.000000</td>\n",
       "      <td>...</td>\n",
       "      <td>26153.000000</td>\n",
       "      <td>26153.000000</td>\n",
       "      <td>26153.000000</td>\n",
       "      <td>26153.000000</td>\n",
       "      <td>26153.000000</td>\n",
       "      <td>26153.000000</td>\n",
       "    </tr>\n",
       "    <tr>\n",
       "      <th>mean</th>\n",
       "      <td>12.936030</td>\n",
       "      <td>76.026378</td>\n",
       "      <td>96.175843</td>\n",
       "      <td>160.765543</td>\n",
       "      <td>15.239136</td>\n",
       "      <td>15.135057</td>\n",
       "      <td>...</td>\n",
       "      <td>0.001835</td>\n",
       "      <td>0.002753</td>\n",
       "      <td>0.003671</td>\n",
       "      <td>0.001835</td>\n",
       "      <td>45.966101</td>\n",
       "      <td>0.687314</td>\n",
       "    </tr>\n",
       "    <tr>\n",
       "      <th>std</th>\n",
       "      <td>7.459213</td>\n",
       "      <td>17.023136</td>\n",
       "      <td>0.683389</td>\n",
       "      <td>239.514489</td>\n",
       "      <td>6.817599</td>\n",
       "      <td>6.160020</td>\n",
       "      <td>...</td>\n",
       "      <td>0.042803</td>\n",
       "      <td>0.052398</td>\n",
       "      <td>0.060476</td>\n",
       "      <td>0.042803</td>\n",
       "      <td>99.785481</td>\n",
       "      <td>1.232336</td>\n",
       "    </tr>\n",
       "    <tr>\n",
       "      <th>min</th>\n",
       "      <td>-5.333333</td>\n",
       "      <td>24.966667</td>\n",
       "      <td>92.886667</td>\n",
       "      <td>0.000000</td>\n",
       "      <td>1.900000</td>\n",
       "      <td>3.002778</td>\n",
       "      <td>...</td>\n",
       "      <td>0.000000</td>\n",
       "      <td>0.000000</td>\n",
       "      <td>0.000000</td>\n",
       "      <td>0.000000</td>\n",
       "      <td>0.000000</td>\n",
       "      <td>0.000000</td>\n",
       "    </tr>\n",
       "    <tr>\n",
       "      <th>25%</th>\n",
       "      <td>7.466667</td>\n",
       "      <td>63.266667</td>\n",
       "      <td>95.846667</td>\n",
       "      <td>0.000000</td>\n",
       "      <td>10.216389</td>\n",
       "      <td>10.465834</td>\n",
       "      <td>...</td>\n",
       "      <td>0.000000</td>\n",
       "      <td>0.000000</td>\n",
       "      <td>0.000000</td>\n",
       "      <td>0.000000</td>\n",
       "      <td>0.000000</td>\n",
       "      <td>0.000000</td>\n",
       "    </tr>\n",
       "    <tr>\n",
       "      <th>50%</th>\n",
       "      <td>12.665000</td>\n",
       "      <td>81.100000</td>\n",
       "      <td>96.248277</td>\n",
       "      <td>14.333333</td>\n",
       "      <td>15.233333</td>\n",
       "      <td>15.500000</td>\n",
       "      <td>...</td>\n",
       "      <td>0.000000</td>\n",
       "      <td>0.000000</td>\n",
       "      <td>0.000000</td>\n",
       "      <td>0.000000</td>\n",
       "      <td>0.000000</td>\n",
       "      <td>0.000000</td>\n",
       "    </tr>\n",
       "    <tr>\n",
       "      <th>75%</th>\n",
       "      <td>18.017778</td>\n",
       "      <td>90.382222</td>\n",
       "      <td>96.580504</td>\n",
       "      <td>252.961103</td>\n",
       "      <td>20.100556</td>\n",
       "      <td>20.233611</td>\n",
       "      <td>...</td>\n",
       "      <td>0.000000</td>\n",
       "      <td>0.000000</td>\n",
       "      <td>0.000000</td>\n",
       "      <td>0.000000</td>\n",
       "      <td>17.732256</td>\n",
       "      <td>0.626979</td>\n",
       "    </tr>\n",
       "    <tr>\n",
       "      <th>max</th>\n",
       "      <td>36.200000</td>\n",
       "      <td>100.400000</td>\n",
       "      <td>98.096667</td>\n",
       "      <td>959.649957</td>\n",
       "      <td>38.166667</td>\n",
       "      <td>31.100000</td>\n",
       "      <td>...</td>\n",
       "      <td>1.000000</td>\n",
       "      <td>1.000000</td>\n",
       "      <td>1.000000</td>\n",
       "      <td>1.000000</td>\n",
       "      <td>323.071936</td>\n",
       "      <td>4.180000</td>\n",
       "    </tr>\n",
       "  </tbody>\n",
       "</table>\n",
       "<p>8 rows × 34 columns</p>\n",
       "</div>"
      ],
      "text/plain": [
       "                 TA            RH            PA            Rg       TS_0.05       TS_0.15  ...          Norg         Nfert          soil           sow    veg.height           lai\n",
       "count  24461.000000  24475.000000  24465.000000  24513.000000  23939.000000  23939.000000  ...  26153.000000  26153.000000  26153.000000  26153.000000  26153.000000  26153.000000\n",
       "mean      12.936030     76.026378     96.175843    160.765543     15.239136     15.135057  ...      0.001835      0.002753      0.003671      0.001835     45.966101      0.687314\n",
       "std        7.459213     17.023136      0.683389    239.514489      6.817599      6.160020  ...      0.042803      0.052398      0.060476      0.042803     99.785481      1.232336\n",
       "min       -5.333333     24.966667     92.886667      0.000000      1.900000      3.002778  ...      0.000000      0.000000      0.000000      0.000000      0.000000      0.000000\n",
       "25%        7.466667     63.266667     95.846667      0.000000     10.216389     10.465834  ...      0.000000      0.000000      0.000000      0.000000      0.000000      0.000000\n",
       "50%       12.665000     81.100000     96.248277     14.333333     15.233333     15.500000  ...      0.000000      0.000000      0.000000      0.000000      0.000000      0.000000\n",
       "75%       18.017778     90.382222     96.580504    252.961103     20.100556     20.233611  ...      0.000000      0.000000      0.000000      0.000000     17.732256      0.626979\n",
       "max       36.200000    100.400000     98.096667    959.649957     38.166667     31.100000  ...      1.000000      1.000000      1.000000      1.000000    323.071936      4.180000\n",
       "\n",
       "[8 rows x 34 columns]"
      ]
     },
     "execution_count": 8,
     "metadata": {},
     "output_type": "execute_result"
    }
   ],
   "source": [
    "source_df.describe()"
   ]
  },
  {
   "cell_type": "markdown",
   "id": "7ad8d66e-3977-4de2-a554-1dc96ea412e2",
   "metadata": {},
   "source": [
    "**Available values by year**:"
   ]
  },
  {
   "cell_type": "code",
   "execution_count": 9,
   "id": "74daff71",
   "metadata": {},
   "outputs": [
    {
     "data": {
      "text/html": [
       "<div>\n",
       "<style scoped>\n",
       "    .dataframe tbody tr th:only-of-type {\n",
       "        vertical-align: middle;\n",
       "    }\n",
       "\n",
       "    .dataframe tbody tr th {\n",
       "        vertical-align: top;\n",
       "    }\n",
       "\n",
       "    .dataframe thead th {\n",
       "        text-align: right;\n",
       "    }\n",
       "</style>\n",
       "<table border=\"1\" class=\"dataframe\">\n",
       "  <thead>\n",
       "    <tr style=\"text-align: right;\">\n",
       "      <th></th>\n",
       "      <th>TA</th>\n",
       "      <th>RH</th>\n",
       "      <th>PA</th>\n",
       "      <th>Rg</th>\n",
       "      <th>TS_0.05</th>\n",
       "      <th>TS_0.15</th>\n",
       "      <th>...</th>\n",
       "      <th>Norg</th>\n",
       "      <th>Nfert</th>\n",
       "      <th>soil</th>\n",
       "      <th>sow</th>\n",
       "      <th>veg.height</th>\n",
       "      <th>lai</th>\n",
       "    </tr>\n",
       "    <tr>\n",
       "      <th>TIMESTAMP</th>\n",
       "      <th></th>\n",
       "      <th></th>\n",
       "      <th></th>\n",
       "      <th></th>\n",
       "      <th></th>\n",
       "      <th></th>\n",
       "      <th></th>\n",
       "      <th></th>\n",
       "      <th></th>\n",
       "      <th></th>\n",
       "      <th></th>\n",
       "      <th></th>\n",
       "      <th></th>\n",
       "    </tr>\n",
       "  </thead>\n",
       "  <tbody>\n",
       "    <tr>\n",
       "      <th>2019</th>\n",
       "      <td>11305</td>\n",
       "      <td>11305</td>\n",
       "      <td>11305</td>\n",
       "      <td>11319</td>\n",
       "      <td>11246</td>\n",
       "      <td>11246</td>\n",
       "      <td>...</td>\n",
       "      <td>11393</td>\n",
       "      <td>11393</td>\n",
       "      <td>11393</td>\n",
       "      <td>11393</td>\n",
       "      <td>11393</td>\n",
       "      <td>11393</td>\n",
       "    </tr>\n",
       "    <tr>\n",
       "      <th>2020</th>\n",
       "      <td>13156</td>\n",
       "      <td>13170</td>\n",
       "      <td>13160</td>\n",
       "      <td>13194</td>\n",
       "      <td>12693</td>\n",
       "      <td>12693</td>\n",
       "      <td>...</td>\n",
       "      <td>14760</td>\n",
       "      <td>14760</td>\n",
       "      <td>14760</td>\n",
       "      <td>14760</td>\n",
       "      <td>14760</td>\n",
       "      <td>14760</td>\n",
       "    </tr>\n",
       "  </tbody>\n",
       "</table>\n",
       "<p>2 rows × 34 columns</p>\n",
       "</div>"
      ],
      "text/plain": [
       "              TA     RH     PA     Rg  TS_0.05  TS_0.15  ...   Norg  Nfert   soil    sow  veg.height    lai\n",
       "TIMESTAMP                                                ...                                               \n",
       "2019       11305  11305  11305  11319    11246    11246  ...  11393  11393  11393  11393       11393  11393\n",
       "2020       13156  13170  13160  13194    12693    12693  ...  14760  14760  14760  14760       14760  14760\n",
       "\n",
       "[2 rows x 34 columns]"
      ]
     },
     "execution_count": 9,
     "metadata": {},
     "output_type": "execute_result"
    }
   ],
   "source": [
    "source_df.groupby(source_df.index.year).count()"
   ]
  },
  {
   "cell_type": "markdown",
   "id": "539c79b4-f869-4499-a61d-ab394b7b026d",
   "metadata": {},
   "source": [
    "**Plot some columns**:"
   ]
  },
  {
   "cell_type": "code",
   "execution_count": 10,
   "id": "9d65083f-7983-4138-b84e-8ff38e3fcefc",
   "metadata": {},
   "outputs": [
    {
     "data": {
      "text/plain": [
       "array([<AxesSubplot:xlabel='TIMESTAMP'>, <AxesSubplot:xlabel='TIMESTAMP'>,\n",
       "       <AxesSubplot:xlabel='TIMESTAMP'>], dtype=object)"
      ]
     },
     "execution_count": 10,
     "metadata": {},
     "output_type": "execute_result"
    },
    {
     "data": {
      "image/png": "[encoded data removed]",
      "text/plain": [
       "<Figure size 432x288 with 3 Axes>"
      ]
     },
     "metadata": {
      "needs_background": "light"
     },
     "output_type": "display_data"
    }
   ],
   "source": [
    "source_df[['NEE_flag0_ustar', 'lai', 'veg.height']].plot(subplots=True)"
   ]
  },
  {
   "cell_type": "code",
   "execution_count": 11,
   "id": "91f18466-9ddf-4635-a87b-57a5351c0838",
   "metadata": {},
   "outputs": [
    {
     "data": {
      "text/plain": [
       "<AxesSubplot:xlabel='veg.height', ylabel='lai'>"
      ]
     },
     "execution_count": 11,
     "metadata": {},
     "output_type": "execute_result"
    },
    {
     "data": {
      "image/png": "[encoded data removed]",
      "text/plain": [
       "<Figure size 432x288 with 1 Axes>"
      ]
     },
     "metadata": {
      "needs_background": "light"
     },
     "output_type": "display_data"
    }
   ],
   "source": [
    "source_df[['lai', 'veg.height']].plot.scatter(x='veg.height', y='lai')"
   ]
  },
  {
   "cell_type": "markdown",
   "id": "b2b96c17",
   "metadata": {},
   "source": [
    "## Prepare work dataset\n",
    "Prepare dataset with reduced number of variables.  "
   ]
  },
  {
   "cell_type": "markdown",
   "id": "5cb89097-2c4a-4bad-aec1-a510e8aca936",
   "metadata": {},
   "source": [
    "**Copy**: always work on a copy, the loaded original data (`source_df`) remains untouched"
   ]
  },
  {
   "cell_type": "code",
   "execution_count": 12,
   "id": "416b4638",
   "metadata": {},
   "outputs": [],
   "source": [
    "# Make a copy\n",
    "df = source_df.copy()"
   ]
  },
  {
   "cell_type": "markdown",
   "id": "3bcb7952-eedc-4e89-9258-552f61bdc68d",
   "metadata": {},
   "source": [
    "### Select columns and range"
   ]
  },
  {
   "cell_type": "markdown",
   "id": "7f210899-ff2f-44f3-be9a-f1d1da5b3523",
   "metadata": {},
   "source": [
    "Remove unneeded columns:"
   ]
  },
  {
   "cell_type": "code",
   "execution_count": 13,
   "id": "6b2d1e78",
   "metadata": {},
   "outputs": [],
   "source": [
    "df = df[usecols].copy()\n",
    "# df.drop(dropcols, axis=1, inplace=True)"
   ]
  },
  {
   "cell_type": "markdown",
   "id": "bcaa93c2-a875-4c8d-be06-3df481fb35e5",
   "metadata": {},
   "source": [
    "Rename the target column to 'target':"
   ]
  },
  {
   "cell_type": "code",
   "execution_count": 14,
   "id": "5e0b5810",
   "metadata": {},
   "outputs": [],
   "source": [
    "# Define and rename target column\n",
    "df.rename(columns={target: 'target'}, inplace=True)"
   ]
  },
  {
   "cell_type": "markdown",
   "id": "af88cdb2-218d-45af-9478-2d57123f83d7",
   "metadata": {},
   "source": [
    "Get datetime of first and last available measurement of target:"
   ]
  },
  {
   "cell_type": "code",
   "execution_count": 15,
   "id": "5524e943",
   "metadata": {},
   "outputs": [
    {
     "name": "stdout",
     "output_type": "stream",
     "text": [
      "First measured value of target: 2019-05-10 13:15:00\n",
      "Last measured value of target: 2020-11-03 08:15:00\n",
      "Maximum value in target: 0.0184327\n",
      "Minimum value in target: -0.00771953\n"
     ]
    }
   ],
   "source": [
    "_first_target_value_dt = df['target'].dropna().index[0]\n",
    "_last_target_value_dt = df['target'].dropna().index[-1]\n",
    "print(f\"First measured value of target: {_first_target_value_dt}\")\n",
    "print(f\"Last measured value of target: {_last_target_value_dt}\")\n",
    "print(f\"Maximum value in target: {df['target'].max()}\")\n",
    "print(f\"Minimum value in target: {df['target'].min()}\")"
   ]
  },
  {
   "cell_type": "markdown",
   "id": "10d60640-3793-4c5c-926d-49359cd1fcc3",
   "metadata": {},
   "source": [
    "### Convert flux units\n",
    "- from `umol m-2 s-1` to `nmol m-2 s-1`:"
   ]
  },
  {
   "cell_type": "code",
   "execution_count": 16,
   "id": "e2c33b52",
   "metadata": {},
   "outputs": [
    {
     "name": "stdout",
     "output_type": "stream",
     "text": [
      "Multiplied N2O_flag0_ustar by 1000\n"
     ]
    }
   ],
   "source": [
    "factor = 1000\n",
    "if not 'NEE' in target:  # Do not convert for CO2 flux\n",
    "    df['target'] = df['target'].multiply(factor)  \n",
    "    print(f\"Multiplied {target} by {factor}\")\n",
    "else:\n",
    "    print(f\"No conversion for {target}\")        "
   ]
  },
  {
   "cell_type": "markdown",
   "id": "8c2d6e68",
   "metadata": {},
   "source": [
    "### Remove outliers\n",
    "Flux data were already despiked. However we need to check if there are still problematic outliers in the dataset. Let's look at the 5 lowest values in target, to spot problematic outliers:"
   ]
  },
  {
   "cell_type": "code",
   "execution_count": 17,
   "id": "95ffc6df",
   "metadata": {},
   "outputs": [
    {
     "data": {
      "text/plain": [
       "TIMESTAMP\n",
       "2019-06-01 05:15:00   -7.71953\n",
       "2020-08-11 03:45:00   -2.25100\n",
       "2020-07-23 13:45:00   -1.28848\n",
       "2020-08-26 09:45:00   -1.25867\n",
       "2020-08-12 00:15:00   -1.19992\n",
       "Name: target, dtype: float64"
      ]
     },
     "metadata": {},
     "output_type": "display_data"
    },
    {
     "data": {
      "text/plain": [
       "TIMESTAMP\n",
       "2020-05-24 11:15:00    16.1434\n",
       "2020-06-07 15:45:00    16.2841\n",
       "2020-06-07 18:15:00    16.5039\n",
       "2020-05-24 10:45:00    17.9841\n",
       "2020-05-24 11:45:00    18.4327\n",
       "Name: target, dtype: float64"
      ]
     },
     "metadata": {},
     "output_type": "display_data"
    }
   ],
   "source": [
    "display(df['target'].sort_values(ascending=True).dropna().head(5))\n",
    "display(df['target'].sort_values(ascending=True).dropna().tail(5))"
   ]
  },
  {
   "cell_type": "markdown",
   "id": "ad880438-8d6e-4a50-b370-b0c96ef0523c",
   "metadata": {},
   "source": [
    "If needed, remove still existing problematic outliers:"
   ]
  },
  {
   "cell_type": "code",
   "execution_count": 18,
   "id": "659b083a",
   "metadata": {},
   "outputs": [],
   "source": [
    "if 'N2O' in target:\n",
    "    df.loc[df['target'] < -2, ['target']] = np.nan  # For N2O, remove \n",
    "elif 'CH4' in target:\n",
    "    df.loc[df['target'] < -30, ['target']] = np.nan  # For CH4, remove     \n",
    "    df.loc[df['target'] > 100, ['target']] = np.nan  # For CH4, remove     \n",
    "else:\n",
    "    print(f\"No left-over outliers removed from {target}.\")        "
   ]
  },
  {
   "cell_type": "code",
   "execution_count": 19,
   "id": "5a3e136f",
   "metadata": {},
   "outputs": [
    {
     "data": {
      "text/plain": [
       "TIMESTAMP\n",
       "2020-07-23 13:45:00   -1.28848\n",
       "2020-08-26 09:45:00   -1.25867\n",
       "2020-08-12 00:15:00   -1.19992\n",
       "2020-07-26 14:15:00   -1.16799\n",
       "2020-07-27 14:15:00   -1.15264\n",
       "Name: target, dtype: float64"
      ]
     },
     "metadata": {},
     "output_type": "display_data"
    },
    {
     "data": {
      "text/plain": [
       "TIMESTAMP\n",
       "2020-05-24 11:15:00    16.1434\n",
       "2020-06-07 15:45:00    16.2841\n",
       "2020-06-07 18:15:00    16.5039\n",
       "2020-05-24 10:45:00    17.9841\n",
       "2020-05-24 11:45:00    18.4327\n",
       "Name: target, dtype: float64"
      ]
     },
     "metadata": {},
     "output_type": "display_data"
    }
   ],
   "source": [
    "# Check again\n",
    "display(df['target'].sort_values(ascending=True).dropna().head(5))\n",
    "display(df['target'].sort_values(ascending=True).dropna().tail(5))"
   ]
  },
  {
   "cell_type": "markdown",
   "id": "f598c668",
   "metadata": {},
   "source": [
    "### Add Management Info\n",
    "Since management was taking place before the first flux measurements, the date range  \n",
    "of the dataset is expanded and management dates are filled in. This way certain parameters  \n",
    "can be calcualted, e.g. *time since last fertilization* **before** flux measurements.\n",
    "\n",
    "<div class=\"alert alert-block alert-success\"><b>Management events:</b> On days when management events took place, the management flag is set to 1 for all half-hours during daytime between 8:15 and 19:45.</div>"
   ]
  },
  {
   "cell_type": "markdown",
   "id": "9002a753",
   "metadata": {},
   "source": [
    "#### Expand date range\n",
    "The timestamp in the data is expanded to also include management events before the first flux measurement."
   ]
  },
  {
   "cell_type": "markdown",
   "id": "97b07ba7-2c47-4974-9e2b-c9ee574e2d8b",
   "metadata": {},
   "source": [
    "Create a small, empty dataframe that is later used for expansion of the original data:"
   ]
  },
  {
   "cell_type": "code",
   "execution_count": 20,
   "id": "3044972a",
   "metadata": {},
   "outputs": [
    {
     "data": {
      "text/html": [
       "<div>\n",
       "<style scoped>\n",
       "    .dataframe tbody tr th:only-of-type {\n",
       "        vertical-align: middle;\n",
       "    }\n",
       "\n",
       "    .dataframe tbody tr th {\n",
       "        vertical-align: top;\n",
       "    }\n",
       "\n",
       "    .dataframe thead th {\n",
       "        text-align: right;\n",
       "    }\n",
       "</style>\n",
       "<table border=\"1\" class=\"dataframe\">\n",
       "  <thead>\n",
       "    <tr style=\"text-align: right;\">\n",
       "      <th></th>\n",
       "      <th>TS_0.05</th>\n",
       "      <th>TS_0.15</th>\n",
       "      <th>TS_0.30</th>\n",
       "      <th>WFPS_0.05</th>\n",
       "      <th>WFPS_0.15</th>\n",
       "      <th>WFPS_0.30</th>\n",
       "      <th>...</th>\n",
       "      <th>harvest</th>\n",
       "      <th>Nmin</th>\n",
       "      <th>Norg</th>\n",
       "      <th>Nfert</th>\n",
       "      <th>soil</th>\n",
       "      <th>sow</th>\n",
       "    </tr>\n",
       "  </thead>\n",
       "  <tbody>\n",
       "    <tr>\n",
       "      <th>2019-04-23 08:15:00</th>\n",
       "      <td>NaN</td>\n",
       "      <td>NaN</td>\n",
       "      <td>NaN</td>\n",
       "      <td>NaN</td>\n",
       "      <td>NaN</td>\n",
       "      <td>NaN</td>\n",
       "      <td>...</td>\n",
       "      <td>NaN</td>\n",
       "      <td>NaN</td>\n",
       "      <td>NaN</td>\n",
       "      <td>NaN</td>\n",
       "      <td>NaN</td>\n",
       "      <td>NaN</td>\n",
       "    </tr>\n",
       "    <tr>\n",
       "      <th>2019-04-23 08:45:00</th>\n",
       "      <td>NaN</td>\n",
       "      <td>NaN</td>\n",
       "      <td>NaN</td>\n",
       "      <td>NaN</td>\n",
       "      <td>NaN</td>\n",
       "      <td>NaN</td>\n",
       "      <td>...</td>\n",
       "      <td>NaN</td>\n",
       "      <td>NaN</td>\n",
       "      <td>NaN</td>\n",
       "      <td>NaN</td>\n",
       "      <td>NaN</td>\n",
       "      <td>NaN</td>\n",
       "    </tr>\n",
       "    <tr>\n",
       "      <th>2019-04-23 09:15:00</th>\n",
       "      <td>NaN</td>\n",
       "      <td>NaN</td>\n",
       "      <td>NaN</td>\n",
       "      <td>NaN</td>\n",
       "      <td>NaN</td>\n",
       "      <td>NaN</td>\n",
       "      <td>...</td>\n",
       "      <td>NaN</td>\n",
       "      <td>NaN</td>\n",
       "      <td>NaN</td>\n",
       "      <td>NaN</td>\n",
       "      <td>NaN</td>\n",
       "      <td>NaN</td>\n",
       "    </tr>\n",
       "    <tr>\n",
       "      <th>2019-04-23 09:45:00</th>\n",
       "      <td>NaN</td>\n",
       "      <td>NaN</td>\n",
       "      <td>NaN</td>\n",
       "      <td>NaN</td>\n",
       "      <td>NaN</td>\n",
       "      <td>NaN</td>\n",
       "      <td>...</td>\n",
       "      <td>NaN</td>\n",
       "      <td>NaN</td>\n",
       "      <td>NaN</td>\n",
       "      <td>NaN</td>\n",
       "      <td>NaN</td>\n",
       "      <td>NaN</td>\n",
       "    </tr>\n",
       "    <tr>\n",
       "      <th>2019-04-23 10:15:00</th>\n",
       "      <td>NaN</td>\n",
       "      <td>NaN</td>\n",
       "      <td>NaN</td>\n",
       "      <td>NaN</td>\n",
       "      <td>NaN</td>\n",
       "      <td>NaN</td>\n",
       "      <td>...</td>\n",
       "      <td>NaN</td>\n",
       "      <td>NaN</td>\n",
       "      <td>NaN</td>\n",
       "      <td>NaN</td>\n",
       "      <td>NaN</td>\n",
       "      <td>NaN</td>\n",
       "    </tr>\n",
       "    <tr>\n",
       "      <th>...</th>\n",
       "      <td>...</td>\n",
       "      <td>...</td>\n",
       "      <td>...</td>\n",
       "      <td>...</td>\n",
       "      <td>...</td>\n",
       "      <td>...</td>\n",
       "      <td>...</td>\n",
       "      <td>...</td>\n",
       "      <td>...</td>\n",
       "      <td>...</td>\n",
       "      <td>...</td>\n",
       "      <td>...</td>\n",
       "      <td>...</td>\n",
       "    </tr>\n",
       "    <tr>\n",
       "      <th>2019-05-08 13:15:00</th>\n",
       "      <td>NaN</td>\n",
       "      <td>NaN</td>\n",
       "      <td>NaN</td>\n",
       "      <td>NaN</td>\n",
       "      <td>NaN</td>\n",
       "      <td>NaN</td>\n",
       "      <td>...</td>\n",
       "      <td>NaN</td>\n",
       "      <td>NaN</td>\n",
       "      <td>NaN</td>\n",
       "      <td>NaN</td>\n",
       "      <td>NaN</td>\n",
       "      <td>NaN</td>\n",
       "    </tr>\n",
       "    <tr>\n",
       "      <th>2019-05-08 13:45:00</th>\n",
       "      <td>NaN</td>\n",
       "      <td>NaN</td>\n",
       "      <td>NaN</td>\n",
       "      <td>NaN</td>\n",
       "      <td>NaN</td>\n",
       "      <td>NaN</td>\n",
       "      <td>...</td>\n",
       "      <td>NaN</td>\n",
       "      <td>NaN</td>\n",
       "      <td>NaN</td>\n",
       "      <td>NaN</td>\n",
       "      <td>NaN</td>\n",
       "      <td>NaN</td>\n",
       "    </tr>\n",
       "    <tr>\n",
       "      <th>2019-05-08 14:15:00</th>\n",
       "      <td>NaN</td>\n",
       "      <td>NaN</td>\n",
       "      <td>NaN</td>\n",
       "      <td>NaN</td>\n",
       "      <td>NaN</td>\n",
       "      <td>NaN</td>\n",
       "      <td>...</td>\n",
       "      <td>NaN</td>\n",
       "      <td>NaN</td>\n",
       "      <td>NaN</td>\n",
       "      <td>NaN</td>\n",
       "      <td>NaN</td>\n",
       "      <td>NaN</td>\n",
       "    </tr>\n",
       "    <tr>\n",
       "      <th>2019-05-08 14:45:00</th>\n",
       "      <td>NaN</td>\n",
       "      <td>NaN</td>\n",
       "      <td>NaN</td>\n",
       "      <td>NaN</td>\n",
       "      <td>NaN</td>\n",
       "      <td>NaN</td>\n",
       "      <td>...</td>\n",
       "      <td>NaN</td>\n",
       "      <td>NaN</td>\n",
       "      <td>NaN</td>\n",
       "      <td>NaN</td>\n",
       "      <td>NaN</td>\n",
       "      <td>NaN</td>\n",
       "    </tr>\n",
       "    <tr>\n",
       "      <th>2019-05-08 15:15:00</th>\n",
       "      <td>NaN</td>\n",
       "      <td>NaN</td>\n",
       "      <td>NaN</td>\n",
       "      <td>NaN</td>\n",
       "      <td>NaN</td>\n",
       "      <td>NaN</td>\n",
       "      <td>...</td>\n",
       "      <td>NaN</td>\n",
       "      <td>NaN</td>\n",
       "      <td>NaN</td>\n",
       "      <td>NaN</td>\n",
       "      <td>NaN</td>\n",
       "      <td>NaN</td>\n",
       "    </tr>\n",
       "  </tbody>\n",
       "</table>\n",
       "<p>735 rows × 14 columns</p>\n",
       "</div>"
      ],
      "text/plain": [
       "                    TS_0.05 TS_0.15 TS_0.30 WFPS_0.05 WFPS_0.15 WFPS_0.30  ... harvest Nmin Norg Nfert soil  sow\n",
       "2019-04-23 08:15:00     NaN     NaN     NaN       NaN       NaN       NaN  ...     NaN  NaN  NaN   NaN  NaN  NaN\n",
       "2019-04-23 08:45:00     NaN     NaN     NaN       NaN       NaN       NaN  ...     NaN  NaN  NaN   NaN  NaN  NaN\n",
       "2019-04-23 09:15:00     NaN     NaN     NaN       NaN       NaN       NaN  ...     NaN  NaN  NaN   NaN  NaN  NaN\n",
       "2019-04-23 09:45:00     NaN     NaN     NaN       NaN       NaN       NaN  ...     NaN  NaN  NaN   NaN  NaN  NaN\n",
       "2019-04-23 10:15:00     NaN     NaN     NaN       NaN       NaN       NaN  ...     NaN  NaN  NaN   NaN  NaN  NaN\n",
       "...                     ...     ...     ...       ...       ...       ...  ...     ...  ...  ...   ...  ...  ...\n",
       "2019-05-08 13:15:00     NaN     NaN     NaN       NaN       NaN       NaN  ...     NaN  NaN  NaN   NaN  NaN  NaN\n",
       "2019-05-08 13:45:00     NaN     NaN     NaN       NaN       NaN       NaN  ...     NaN  NaN  NaN   NaN  NaN  NaN\n",
       "2019-05-08 14:15:00     NaN     NaN     NaN       NaN       NaN       NaN  ...     NaN  NaN  NaN   NaN  NaN  NaN\n",
       "2019-05-08 14:45:00     NaN     NaN     NaN       NaN       NaN       NaN  ...     NaN  NaN  NaN   NaN  NaN  NaN\n",
       "2019-05-08 15:15:00     NaN     NaN     NaN       NaN       NaN       NaN  ...     NaN  NaN  NaN   NaN  NaN  NaN\n",
       "\n",
       "[735 rows x 14 columns]"
      ]
     },
     "execution_count": 20,
     "metadata": {},
     "output_type": "execute_result"
    }
   ],
   "source": [
    "# Create date range for start of dataset\n",
    "# Date of first known management at the site:\n",
    "_start = dt.datetime(2019, 4, 23, 8, 15)  \n",
    "\n",
    "# Last day with data:\n",
    "_end = df.index[0]\n",
    "\n",
    "# Generate continuous, half-hourly timestamp index starting at the date of\n",
    "# the first known management and ending on the day when the last data were recorded:\n",
    "_index = pd.date_range(_start, _end, freq='30T')\n",
    "_index = _index[0:-1]  # Remove last entry, already in df.index\n",
    "\n",
    "# Use created date range to build an empty dataframe with the same columns as the available data\n",
    "_expansion_df = pd.DataFrame(index=_index, columns=df.columns)\n",
    "_expansion_df"
   ]
  },
  {
   "cell_type": "markdown",
   "id": "1ebe8281-e9b8-4b28-a38d-5e01cb961e78",
   "metadata": {},
   "source": [
    "Add the expansion dataframe to the measured data:"
   ]
  },
  {
   "cell_type": "code",
   "execution_count": 21,
   "id": "58a2f161",
   "metadata": {},
   "outputs": [],
   "source": [
    "df = pd.concat([df, _expansion_df], axis=0).sort_index()"
   ]
  },
  {
   "cell_type": "markdown",
   "id": "e8c97cf2-0e8e-471b-b290-5320d6920f51",
   "metadata": {},
   "source": [
    "With the exansion dataframe added, the data now starts at the date of first management, and ends with the date of last flux measurement:"
   ]
  },
  {
   "cell_type": "code",
   "execution_count": 22,
   "id": "ec9b2f97",
   "metadata": {},
   "outputs": [
    {
     "data": {
      "text/html": [
       "<div>\n",
       "<style scoped>\n",
       "    .dataframe tbody tr th:only-of-type {\n",
       "        vertical-align: middle;\n",
       "    }\n",
       "\n",
       "    .dataframe tbody tr th {\n",
       "        vertical-align: top;\n",
       "    }\n",
       "\n",
       "    .dataframe thead th {\n",
       "        text-align: right;\n",
       "    }\n",
       "</style>\n",
       "<table border=\"1\" class=\"dataframe\">\n",
       "  <thead>\n",
       "    <tr style=\"text-align: right;\">\n",
       "      <th></th>\n",
       "      <th>TS_0.05</th>\n",
       "      <th>TS_0.15</th>\n",
       "      <th>TS_0.30</th>\n",
       "      <th>WFPS_0.05</th>\n",
       "      <th>WFPS_0.15</th>\n",
       "      <th>WFPS_0.30</th>\n",
       "      <th>...</th>\n",
       "      <th>harvest</th>\n",
       "      <th>Nmin</th>\n",
       "      <th>Norg</th>\n",
       "      <th>Nfert</th>\n",
       "      <th>soil</th>\n",
       "      <th>sow</th>\n",
       "    </tr>\n",
       "  </thead>\n",
       "  <tbody>\n",
       "    <tr>\n",
       "      <th>2019-04-23 08:15:00</th>\n",
       "      <td>NaN</td>\n",
       "      <td>NaN</td>\n",
       "      <td>NaN</td>\n",
       "      <td>NaN</td>\n",
       "      <td>NaN</td>\n",
       "      <td>NaN</td>\n",
       "      <td>...</td>\n",
       "      <td>NaN</td>\n",
       "      <td>NaN</td>\n",
       "      <td>NaN</td>\n",
       "      <td>NaN</td>\n",
       "      <td>NaN</td>\n",
       "      <td>NaN</td>\n",
       "    </tr>\n",
       "    <tr>\n",
       "      <th>2019-04-23 08:45:00</th>\n",
       "      <td>NaN</td>\n",
       "      <td>NaN</td>\n",
       "      <td>NaN</td>\n",
       "      <td>NaN</td>\n",
       "      <td>NaN</td>\n",
       "      <td>NaN</td>\n",
       "      <td>...</td>\n",
       "      <td>NaN</td>\n",
       "      <td>NaN</td>\n",
       "      <td>NaN</td>\n",
       "      <td>NaN</td>\n",
       "      <td>NaN</td>\n",
       "      <td>NaN</td>\n",
       "    </tr>\n",
       "    <tr>\n",
       "      <th>2019-04-23 09:15:00</th>\n",
       "      <td>NaN</td>\n",
       "      <td>NaN</td>\n",
       "      <td>NaN</td>\n",
       "      <td>NaN</td>\n",
       "      <td>NaN</td>\n",
       "      <td>NaN</td>\n",
       "      <td>...</td>\n",
       "      <td>NaN</td>\n",
       "      <td>NaN</td>\n",
       "      <td>NaN</td>\n",
       "      <td>NaN</td>\n",
       "      <td>NaN</td>\n",
       "      <td>NaN</td>\n",
       "    </tr>\n",
       "  </tbody>\n",
       "</table>\n",
       "<p>3 rows × 14 columns</p>\n",
       "</div>"
      ],
      "text/plain": [
       "                     TS_0.05  TS_0.15  TS_0.30  WFPS_0.05  WFPS_0.15  WFPS_0.30  ...  harvest Nmin Norg Nfert soil  sow\n",
       "2019-04-23 08:15:00      NaN      NaN      NaN        NaN        NaN        NaN  ...      NaN  NaN  NaN   NaN  NaN  NaN\n",
       "2019-04-23 08:45:00      NaN      NaN      NaN        NaN        NaN        NaN  ...      NaN  NaN  NaN   NaN  NaN  NaN\n",
       "2019-04-23 09:15:00      NaN      NaN      NaN        NaN        NaN        NaN  ...      NaN  NaN  NaN   NaN  NaN  NaN\n",
       "\n",
       "[3 rows x 14 columns]"
      ]
     },
     "metadata": {},
     "output_type": "display_data"
    },
    {
     "data": {
      "text/html": [
       "<div>\n",
       "<style scoped>\n",
       "    .dataframe tbody tr th:only-of-type {\n",
       "        vertical-align: middle;\n",
       "    }\n",
       "\n",
       "    .dataframe tbody tr th {\n",
       "        vertical-align: top;\n",
       "    }\n",
       "\n",
       "    .dataframe thead th {\n",
       "        text-align: right;\n",
       "    }\n",
       "</style>\n",
       "<table border=\"1\" class=\"dataframe\">\n",
       "  <thead>\n",
       "    <tr style=\"text-align: right;\">\n",
       "      <th></th>\n",
       "      <th>TS_0.05</th>\n",
       "      <th>TS_0.15</th>\n",
       "      <th>TS_0.30</th>\n",
       "      <th>WFPS_0.05</th>\n",
       "      <th>WFPS_0.15</th>\n",
       "      <th>WFPS_0.30</th>\n",
       "      <th>...</th>\n",
       "      <th>harvest</th>\n",
       "      <th>Nmin</th>\n",
       "      <th>Norg</th>\n",
       "      <th>Nfert</th>\n",
       "      <th>soil</th>\n",
       "      <th>sow</th>\n",
       "    </tr>\n",
       "  </thead>\n",
       "  <tbody>\n",
       "    <tr>\n",
       "      <th>2020-11-03 11:45:00</th>\n",
       "      <td>NaN</td>\n",
       "      <td>NaN</td>\n",
       "      <td>NaN</td>\n",
       "      <td>NaN</td>\n",
       "      <td>NaN</td>\n",
       "      <td>NaN</td>\n",
       "      <td>...</td>\n",
       "      <td>0</td>\n",
       "      <td>0</td>\n",
       "      <td>0</td>\n",
       "      <td>0</td>\n",
       "      <td>0</td>\n",
       "      <td>0</td>\n",
       "    </tr>\n",
       "    <tr>\n",
       "      <th>2020-11-03 12:15:00</th>\n",
       "      <td>NaN</td>\n",
       "      <td>NaN</td>\n",
       "      <td>NaN</td>\n",
       "      <td>NaN</td>\n",
       "      <td>NaN</td>\n",
       "      <td>NaN</td>\n",
       "      <td>...</td>\n",
       "      <td>0</td>\n",
       "      <td>0</td>\n",
       "      <td>0</td>\n",
       "      <td>0</td>\n",
       "      <td>0</td>\n",
       "      <td>0</td>\n",
       "    </tr>\n",
       "    <tr>\n",
       "      <th>2020-11-03 12:45:00</th>\n",
       "      <td>NaN</td>\n",
       "      <td>NaN</td>\n",
       "      <td>NaN</td>\n",
       "      <td>NaN</td>\n",
       "      <td>NaN</td>\n",
       "      <td>NaN</td>\n",
       "      <td>...</td>\n",
       "      <td>0</td>\n",
       "      <td>0</td>\n",
       "      <td>0</td>\n",
       "      <td>0</td>\n",
       "      <td>0</td>\n",
       "      <td>0</td>\n",
       "    </tr>\n",
       "  </tbody>\n",
       "</table>\n",
       "<p>3 rows × 14 columns</p>\n",
       "</div>"
      ],
      "text/plain": [
       "                     TS_0.05  TS_0.15  TS_0.30  WFPS_0.05  WFPS_0.15  WFPS_0.30  ...  harvest Nmin Norg Nfert soil sow\n",
       "2020-11-03 11:45:00      NaN      NaN      NaN        NaN        NaN        NaN  ...        0    0    0     0    0   0\n",
       "2020-11-03 12:15:00      NaN      NaN      NaN        NaN        NaN        NaN  ...        0    0    0     0    0   0\n",
       "2020-11-03 12:45:00      NaN      NaN      NaN        NaN        NaN        NaN  ...        0    0    0     0    0   0\n",
       "\n",
       "[3 rows x 14 columns]"
      ]
     },
     "metadata": {},
     "output_type": "display_data"
    }
   ],
   "source": [
    "# Check\n",
    "display(df.head(3))\n",
    "display(df.tail(3))"
   ]
  },
  {
   "cell_type": "markdown",
   "id": "ea684a06",
   "metadata": {},
   "source": [
    "#### Soil Management\n",
    "- Ploughing\n",
    "- Soil preparation"
   ]
  },
  {
   "cell_type": "code",
   "execution_count": 23,
   "id": "ec91fdae",
   "metadata": {},
   "outputs": [],
   "source": [
    "# Remove current soil column\n",
    "df = df.drop(['soil'], axis=1)\n",
    "\n",
    "# Ploughing\n",
    "df['.ploughing'] = 0  # New column\n",
    "df.loc['2020-05-08 08:15:00':'2020-05-08 19:45:00', '.ploughing'] = 1  # Ploughing on 8 May 2020\n",
    "\n",
    "# Soil preparation\n",
    "df['.soilprep'] = 0  # New column\n",
    "df.loc['2019-08-03 08:15:00':'2019-08-03 19:45:00', '.soilprep'] = 1  # Soil preparation on 3 Aug 2019\n",
    "df.loc['2020-05-09 08:15:00':'2020-05-09 19:45:00', '.soilprep'] = 1  # Soil preparation on 9 May 2020\n",
    "df.loc['2020-10-21 08:15:00':'2020-10-21 19:45:00', '.soilprep'] = 1  # Soil preparation on 21 Oct 2020\n",
    "\n",
    "# Combined ploughing and soil preparation (they don't overlap)\n",
    "df['.ploughing+soilprep'] = df['.ploughing'] + df['.soilprep']"
   ]
  },
  {
   "cell_type": "markdown",
   "id": "93e2550c",
   "metadata": {},
   "source": [
    "#### Fertilization\n",
    "- Organic fertilizer\n",
    "- Mineral fertilizer"
   ]
  },
  {
   "cell_type": "code",
   "execution_count": 24,
   "id": "00c4ff8c",
   "metadata": {},
   "outputs": [],
   "source": [
    "# Remove current fertilizer columns\n",
    "df = df.drop(['Nfert'], axis=1)\n",
    "df = df.drop(['Norg'], axis=1)\n",
    "df = df.drop(['Nmin'], axis=1)\n",
    "\n",
    "# Organic fertilizer\n",
    "df['.Norg'] = 0  # New column\n",
    "df.loc['2020-05-08 08:15:00':'2020-05-08 19:45:00', '.Norg'] = 1  # Solid manure on 8 May 2020\n",
    "df.loc['2020-10-20 08:15:00':'2020-10-20 19:45:00', '.Norg'] = 1  # Liquid manure on 20 Oct 2020\n",
    "\n",
    "# Mineral fertilizer\n",
    "df['.Nmin'] = 0  # New column\n",
    "df.loc['2020-05-22 08:15:00':'2020-05-22 19:45:00', '.Nmin'] = 1  # Urea on 22 May 2020\n",
    "\n",
    "# Combined organic and mineral fertilizer (they don't overlap)\n",
    "df['.Norg+Nmin'] = df['.Norg'] + df['.Nmin']  # Overrides the column that is already in df"
   ]
  },
  {
   "cell_type": "markdown",
   "id": "3ad97ca2",
   "metadata": {},
   "source": [
    "#### Harvest"
   ]
  },
  {
   "cell_type": "code",
   "execution_count": 25,
   "id": "23907829",
   "metadata": {},
   "outputs": [],
   "source": [
    "# Remove current harvest column\n",
    "df = df.drop(['harvest'], axis=1)\n",
    "\n",
    "# Harvest\n",
    "df['.harvest'] = 0  # Sets the column that is already in df to zero\n",
    "df.loc['2019-07-03 08:15:00':'2019-07-03 19:45:00', '.harvest'] = 1  # Harvest on 3 Jul 2019\n",
    "df.loc['2019-09-15 08:15:00':'2019-09-15 19:45:00', '.harvest'] = 1  # Harvest on 15 Sep 2019\n",
    "df.loc['2019-10-30 08:15:00':'2019-10-30 19:45:00', '.harvest'] = 1  # Harvest on 30 Oct 2019\n",
    "df.loc['2020-05-06 08:15:00':'2020-05-06 19:45:00', '.harvest'] = 1  # Harvest on 6 May 2020\n",
    "df.loc['2020-09-15 08:15:00':'2020-09-16 19:45:00', '.harvest'] = 1  # Harvest on 15 and 16 Sep 2020, harvest took place over two days"
   ]
  },
  {
   "cell_type": "markdown",
   "id": "3c6ca1fe",
   "metadata": {},
   "source": [
    "#### Sowing"
   ]
  },
  {
   "cell_type": "code",
   "execution_count": 26,
   "id": "e6676bd0",
   "metadata": {},
   "outputs": [],
   "source": [
    "# Remove current sowing column\n",
    "df = df.drop(['sow'], axis=1)\n",
    "\n",
    "df['.sowing'] = 0  # New column\n",
    "df.loc['2019-04-23 08:15:00':'2019-04-23 19:45:00', '.sowing'] = 1  # Sowing on 23 Apr 2019\n",
    "df.loc['2019-08-04 08:15:00':'2019-08-04 19:45:00', '.sowing'] = 1  # Sowing on 4 Aug 2019\n",
    "df.loc['2020-05-09 08:15:00':'2020-05-09 19:45:00', '.sowing'] = 1  # Sowing on 9 May 2020"
   ]
  },
  {
   "cell_type": "markdown",
   "id": "0d33618b",
   "metadata": {},
   "source": [
    "#### Herbicide / Insecticide"
   ]
  },
  {
   "cell_type": "code",
   "execution_count": 27,
   "id": "f0fe30aa",
   "metadata": {},
   "outputs": [],
   "source": [
    "# Remove current herbicide / Insecticide column\n",
    "df = df.drop(['herb'], axis=1)\n",
    "\n",
    "# df['herb'] = 0  # Sets the column that is already in df to zero\n",
    "# df.loc['2020-05-22 08:15:00':'2020-05-22 19:45:00', 'herb'] = 1  # Herbicide/insecticide on 22 May 2020"
   ]
  },
  {
   "cell_type": "markdown",
   "id": "19f4a732",
   "metadata": {},
   "source": [
    "#### Combined Management"
   ]
  },
  {
   "cell_type": "code",
   "execution_count": 28,
   "id": "9c00d737",
   "metadata": {},
   "outputs": [],
   "source": [
    "df['.MGMT'] = df['.ploughing'] + df['.soilprep'] + df['.Norg'] + df['.Nmin'] + df['.harvest'] + df['.sowing']  # Without 'herb'"
   ]
  },
  {
   "cell_type": "markdown",
   "id": "8d80e1bc",
   "metadata": {},
   "source": [
    "#### Plot\n",
    "The plot shows all management events in the dataset. The data column for each event is set to `1` during daytime on the day of management, `0` on otherwise. The column `.MGMT` includes all managements and is simply the sum over all management events and for each half-hour (this means it can become >1 in case e.g. two different management events occurred on the same day)."
   ]
  },
  {
   "cell_type": "code",
   "execution_count": 29,
   "id": "59ba226a",
   "metadata": {},
   "outputs": [
    {
     "data": {
      "image/png": "[encoded data removed]",
      "text/plain": [
       "<Figure size 1584x648 with 7 Axes>"
      ]
     },
     "metadata": {
      "needs_background": "light"
     },
     "output_type": "display_data"
    }
   ],
   "source": [
    "df[['.MGMT', '.ploughing',  '.soilprep', '.Norg', '.Nmin', '.harvest', '.sowing']].plot(figsize=(22,9), subplots=True, title=\"Management Activities\");"
   ]
  },
  {
   "cell_type": "markdown",
   "id": "2ebddb6d-eaf8-4b74-988b-0d74e54d1bd7",
   "metadata": {},
   "source": [
    "#### Keep Management?"
   ]
  },
  {
   "cell_type": "code",
   "execution_count": 30,
   "id": "85e1b7b6-a26c-4c83-a2b5-c379a9c28cca",
   "metadata": {},
   "outputs": [
    {
     "name": "stdout",
     "output_type": "stream",
     "text": [
      "Removing all management from dataset.\n"
     ]
    }
   ],
   "source": [
    "# List of management columns:\n",
    "# ['.MGMT', '.ploughing',  '.soilprep', '.Norg', '.Nmin', '.harvest', '.sowing', '.ploughing+soilprep', '.Norg+Nmin']\n",
    "\n",
    "if keep_mgmt == 'all':\n",
    "    print(\"Keeping all management in dataset.\")\n",
    "    pass\n",
    "\n",
    "elif keep_mgmt == 'bulk':  # Keep .MGMT only\n",
    "    print(\"Keeping .MGMT column only.\")\n",
    "    df.drop(['.ploughing',  '.soilprep', '.Norg', '.Nmin', '.harvest', '.sowing', '.ploughing+soilprep', '.Norg+Nmin'], axis=1, inplace=True)\n",
    "\n",
    "elif keep_mgmt == 'none':\n",
    "    print(\"Removing all management from dataset.\")\n",
    "    df.drop(['.MGMT', '.ploughing',  '.soilprep', '.Norg', '.Nmin', '.harvest', '.sowing', '.ploughing+soilprep', '.Norg+Nmin'], axis=1, inplace=True)\n",
    "\n",
    "elif keep_mgmt == 'combos':\n",
    "    print(\"Keeping combos.\")\n",
    "    df.drop(['.MGMT', '.ploughing',  '.soilprep', '.Norg', '.Nmin', '.sowing'], axis=1, inplace=True)    "
   ]
  },
  {
   "cell_type": "markdown",
   "id": "32cc4641-d307-4e91-bf4b-a36cb6e9c8de",
   "metadata": {},
   "source": [
    "#### Check variables in work dataset"
   ]
  },
  {
   "cell_type": "code",
   "execution_count": 31,
   "id": "b19886db",
   "metadata": {},
   "outputs": [
    {
     "data": {
      "text/plain": [
       "Index(['TS_0.05', 'TS_0.15', 'TS_0.30', 'WFPS_0.05', 'WFPS_0.15', 'WFPS_0.30', 'target'], dtype='object')"
      ]
     },
     "execution_count": 31,
     "metadata": {},
     "output_type": "execute_result"
    }
   ],
   "source": [
    "df.columns"
   ]
  },
  {
   "cell_type": "markdown",
   "id": "0fc530bd",
   "metadata": {},
   "source": [
    "### Calculate Additional Variables"
   ]
  },
  {
   "cell_type": "markdown",
   "id": "611ccc58",
   "metadata": {},
   "source": [
    "#### Add Day/Night Groups\n",
    "\n",
    "<div class=\"alert alert-block alert-success\">\n",
    "    <b>NOTE</b>: To make sure each day and night have the same amount of potential values:</br>\n",
    "    <ul>\n",
    "        <li><b>Daytime</b> is defined as the time between 08:15 and 19:45.</li>\n",
    "        <li><b>Nighttime</b> is defined as the time between 20:15 and 07:45 the following day.</li>\n",
    "    </ul>\n",
    "</div>\n",
    "\n",
    "Accordingly, each day has 24 half-hourly values, and each night has 24 half-hourly values.\n",
    "\n",
    "This step also calcualted the `.grp` variables, assigns a unique number to each daytime and to each nighttime. For example, the first daytime has id `1`, the following nighttime id `2`, the following daytime id `3`, the following nighttime id `4`, etc..."
   ]
  },
  {
   "cell_type": "code",
   "execution_count": 32,
   "id": "04cd0bf3",
   "metadata": {
    "tags": []
   },
   "outputs": [],
   "source": [
    "# New df to assemble day/night info, will be merged with main data later\n",
    "_daynight_grps_df = pd.DataFrame(index=df.index)\n",
    "\n",
    "# Determine day and night (1=day, 0=night)\n",
    "_mask_daytime_rows = (df.index.hour >= 8) & (df.index.hour <= 19)\n",
    "_daynight_grps_df.loc[_mask_daytime_rows, '.daynight'] = 1\n",
    "_daynight_grps_df.loc[~_mask_daytime_rows, '.daynight'] = 0\n",
    "\n",
    "# Consecutive days/nights\n",
    "_daynight_grps_df['.grp'] = (_daynight_grps_df['.daynight'].diff(1) != 0).astype('int').cumsum()\n",
    "\n",
    "# # One Hot Encoding\n",
    "# _daynight_grps_df = pd.get_dummies(_daynight_grps_df, columns=[\"_daynight\"], prefix=\"_daynight\")"
   ]
  },
  {
   "cell_type": "code",
   "execution_count": 33,
   "id": "9632a413",
   "metadata": {},
   "outputs": [
    {
     "data": {
      "image/png": "[encoded data removed]",
      "text/plain": [
       "<Figure size 1584x648 with 2 Axes>"
      ]
     },
     "metadata": {
      "needs_background": "light"
     },
     "output_type": "display_data"
    }
   ],
   "source": [
    "_daynight_grps_df.iloc[0:1000].plot(subplots=True, figsize=(22,9), title=\"Day/night info: first 1000 records\");"
   ]
  },
  {
   "cell_type": "markdown",
   "id": "123ca7d8",
   "metadata": {
    "tags": []
   },
   "source": [
    "#### Add Group Start Times\n",
    "Add starting datetime, month and week for each `.grp` group."
   ]
  },
  {
   "cell_type": "markdown",
   "id": "2904d860-7b86-4fe0-9228-796f48798fb8",
   "metadata": {},
   "source": [
    "Create new df to assemble time info, will be merged with main data later:"
   ]
  },
  {
   "cell_type": "code",
   "execution_count": 34,
   "id": "35971580-e8e3-4e0b-9887-9eec6ce092ea",
   "metadata": {},
   "outputs": [],
   "source": [
    "_timeinfo_df = pd.DataFrame(index=df.index)"
   ]
  },
  {
   "cell_type": "markdown",
   "id": "7759e89d-140e-4a09-b4a6-a4d578381efc",
   "metadata": {},
   "source": [
    "Add timestamp index and `.grp` as data columns:"
   ]
  },
  {
   "cell_type": "code",
   "execution_count": 35,
   "id": "545ad803",
   "metadata": {},
   "outputs": [],
   "source": [
    "_timeinfo_df['.TIMESTAMP'] = _timeinfo_df.index\n",
    "_timeinfo_df['.grp'] = _daynight_grps_df['.grp'].copy()"
   ]
  },
  {
   "cell_type": "markdown",
   "id": "eafe1d3b-a916-45b6-b9cd-60b28cacf0dd",
   "metadata": {},
   "source": [
    "For each `.grp`, get its starting datetime and store as dict:"
   ]
  },
  {
   "cell_type": "code",
   "execution_count": 36,
   "id": "b5c24969-7e7e-444e-852a-8beeddf11644",
   "metadata": {},
   "outputs": [
    {
     "name": "stdout",
     "output_type": "stream",
     "text": [
      "First 3 entries in dict:\n",
      ".grp: 1, start datetime: 2019-04-23 08:15:00\n",
      ".grp: 2, start datetime: 2019-04-23 20:15:00\n",
      ".grp: 3, start datetime: 2019-04-24 08:15:00\n"
     ]
    }
   ],
   "source": [
    "_grp_start = _timeinfo_df.groupby('.grp')['.TIMESTAMP'].idxmin()\n",
    "_map_grp_start = _grp_start.to_dict()\n",
    "print(\"First 3 entries in dict:\")\n",
    "for x in list(_map_grp_start)[0:3]:\n",
    "    print(f\".grp: {x}, start datetime: {_map_grp_start[x]}\")"
   ]
  },
  {
   "cell_type": "markdown",
   "id": "e585db05-42c8-47dc-a1de-2bc2b2bb3d4f",
   "metadata": {},
   "source": [
    "The dict can now be used as a lookup table to assign the start datetime to each `.grp`:"
   ]
  },
  {
   "cell_type": "code",
   "execution_count": 37,
   "id": "2678d5c7",
   "metadata": {
    "tags": []
   },
   "outputs": [],
   "source": [
    "_timeinfo_df['.grp_start'] = _timeinfo_df['.grp'].map(_map_grp_start)"
   ]
  },
  {
   "cell_type": "markdown",
   "id": "be82dcbd-e424-4c4c-bbc9-6ec074dea7b0",
   "metadata": {},
   "source": [
    "Also add start month and week for each `.grp`:"
   ]
  },
  {
   "cell_type": "code",
   "execution_count": 38,
   "id": "07419435-1011-477b-9898-74a66715d041",
   "metadata": {},
   "outputs": [],
   "source": [
    "_timeinfo_df['.grp_start_month'] = _timeinfo_df['.grp_start'].dt.month\n",
    "_timeinfo_df['.grp_start_week'] = _timeinfo_df['.grp_start'].dt.isocalendar()['week']"
   ]
  },
  {
   "cell_type": "markdown",
   "id": "f4d554d5-a904-4983-9fc0-332e7ff20e73",
   "metadata": {},
   "source": [
    "Plot:"
   ]
  },
  {
   "cell_type": "code",
   "execution_count": 39,
   "id": "836b3bdb",
   "metadata": {},
   "outputs": [
    {
     "data": {
      "image/png": "[encoded data removed]",
      "text/plain": [
       "<Figure size 1584x648 with 5 Axes>"
      ]
     },
     "metadata": {
      "needs_background": "light"
     },
     "output_type": "display_data"
    }
   ],
   "source": [
    "_timeinfo_df.iloc[0:1000].plot(subplots=True, figsize=(22,9), title=\"Group time info: first 1000 records\");"
   ]
  },
  {
   "cell_type": "markdown",
   "id": "a114ad09",
   "metadata": {
    "tags": []
   },
   "source": [
    "#### Add Time Since\n",
    "Count time (records) since last occurrence, e.g. time since last precipitation."
   ]
  },
  {
   "cell_type": "markdown",
   "id": "99997692-f07e-42c0-8b0f-460aa76eadde",
   "metadata": {},
   "source": [
    "Variables for which timesince will be calculated:"
   ]
  },
  {
   "cell_type": "code",
   "execution_count": 40,
   "id": "9b794c6d-89b9-4ed5-843c-94f6048ad4ea",
   "metadata": {},
   "outputs": [],
   "source": [
    "_list_timesince_vars = ['PREC', '.MGMT', '.ploughing',  '.soilprep', '.Norg', '.Nmin', '.harvest', '.sowing', '.ploughing+soilprep', '.Norg+Nmin']"
   ]
  },
  {
   "cell_type": "markdown",
   "id": "e9f10f84-15ad-467c-a158-8316633b0d82",
   "metadata": {},
   "source": [
    "New df to assemble timesince, will be merged with main data later"
   ]
  },
  {
   "cell_type": "code",
   "execution_count": 41,
   "id": "4ddc397e-9411-4c0d-a254-ca57af5a2c88",
   "metadata": {},
   "outputs": [],
   "source": [
    "_timesince_df = pd.DataFrame()"
   ]
  },
  {
   "cell_type": "markdown",
   "id": "e19a1dc0-83b4-4bc0-895d-0fb7a68c9578",
   "metadata": {},
   "source": [
    "Function to calculate timesince:"
   ]
  },
  {
   "cell_type": "code",
   "execution_count": 42,
   "id": "9b1aa051-47a1-4278-9f2b-d0efb09d1938",
   "metadata": {},
   "outputs": [],
   "source": [
    "def timesince(series):\n",
    "    flag = series.copy()\n",
    "    flag.loc[series > 0] = 0  # Set flag to zero where series > 0, for correct timesince counting\n",
    "    flag.loc[series == 0] = 1  # Set flag to one where series = 0\n",
    "    flag.loc[series.isnull()] = 1  # Set flag to one where series is missing\n",
    "    # kudos, fantastic: https://stackoverflow.com/questions/27626542/counting-consecutive-positive-value-in-python-array\n",
    "    timesince = flag * (flag.groupby((flag != flag.shift()).cumsum()).cumcount() + 1)\n",
    "    return timesince"
   ]
  },
  {
   "cell_type": "markdown",
   "id": "102e1f0e-eeff-4027-b887-42296d3d14e9",
   "metadata": {},
   "source": [
    "Calculate timesince variables:"
   ]
  },
  {
   "cell_type": "code",
   "execution_count": 43,
   "id": "d41f05d1-d572-45a9-8aaf-b0a44f8e8ceb",
   "metadata": {},
   "outputs": [
    {
     "name": "stdout",
     "output_type": "stream",
     "text": [
      "No timesince variables calculated.\n"
     ]
    }
   ],
   "source": [
    "if use_timesince_vars:\n",
    "    for v in _list_timesince_vars:\n",
    "        if v in df.columns:\n",
    "            print(v)\n",
    "            _timesince_df[v] = df[v].copy()        \n",
    "\n",
    "    # Calculate timesince for selected vars\n",
    "    for v in _timesince_df.columns:\n",
    "        var_timesince = f'.timesince_{v}'\n",
    "        _timesince_df[var_timesince] = timesince(series=_timesince_df[v])    \n",
    "\n",
    "    # Get list of timesince vars\n",
    "    _timesince_cols = [x for x in _timesince_df.columns if '.timesince_' in x]    \n",
    "    print(_timesince_cols)\n",
    "\n",
    "    # Plot\n",
    "    plt.figure(figsize=(24, 9))\n",
    "    plt.title(\"Timesince Variables\")\n",
    "    for col in _timesince_cols:\n",
    "        label = col.replace('_', '')  # Matplotlib legend cannot show variables starting with an _underscore\n",
    "        plt.plot_date(_timesince_df.index, _timesince_df[col], label=label)\n",
    "    plt.legend();\n",
    "else:\n",
    "    print(\"No timesince variables calculated.\")\n",
    "        "
   ]
  },
  {
   "cell_type": "markdown",
   "id": "5fd1446f",
   "metadata": {},
   "source": [
    "#### Add To Subset\n",
    "Add created additional variables to subset."
   ]
  },
  {
   "cell_type": "code",
   "execution_count": 44,
   "id": "a5ed2147",
   "metadata": {},
   "outputs": [],
   "source": [
    "# Add to main data\n",
    "df = pd.concat([df, _daynight_grps_df, _timeinfo_df, _timesince_df], axis=1)\n",
    "df = df.loc[:,~df.columns.duplicated()]  # Some columns are now duplicated due to the merging, remove them\n",
    "df = df.drop(['.TIMESTAMP', '.grp_start', '.grp', '.grp_start_month', '.grp_start_week'], axis=1)  # Remove for now"
   ]
  },
  {
   "cell_type": "markdown",
   "id": "0d169a98-d138-45da-9c61-0b5eb3ca7dd7",
   "metadata": {},
   "source": [
    "### Check work dataset contents"
   ]
  },
  {
   "cell_type": "code",
   "execution_count": 45,
   "id": "91dfbfe4",
   "metadata": {},
   "outputs": [
    {
     "data": {
      "text/html": [
       "<div>\n",
       "<style scoped>\n",
       "    .dataframe tbody tr th:only-of-type {\n",
       "        vertical-align: middle;\n",
       "    }\n",
       "\n",
       "    .dataframe tbody tr th {\n",
       "        vertical-align: top;\n",
       "    }\n",
       "\n",
       "    .dataframe thead th {\n",
       "        text-align: right;\n",
       "    }\n",
       "</style>\n",
       "<table border=\"1\" class=\"dataframe\">\n",
       "  <thead>\n",
       "    <tr style=\"text-align: right;\">\n",
       "      <th></th>\n",
       "      <th>TS_0.05</th>\n",
       "      <th>TS_0.15</th>\n",
       "      <th>TS_0.30</th>\n",
       "      <th>WFPS_0.05</th>\n",
       "      <th>WFPS_0.15</th>\n",
       "      <th>WFPS_0.30</th>\n",
       "      <th>target</th>\n",
       "      <th>.daynight</th>\n",
       "    </tr>\n",
       "  </thead>\n",
       "  <tbody>\n",
       "    <tr>\n",
       "      <th>2019-04-23 08:15:00</th>\n",
       "      <td>NaN</td>\n",
       "      <td>NaN</td>\n",
       "      <td>NaN</td>\n",
       "      <td>NaN</td>\n",
       "      <td>NaN</td>\n",
       "      <td>NaN</td>\n",
       "      <td>NaN</td>\n",
       "      <td>1.0</td>\n",
       "    </tr>\n",
       "    <tr>\n",
       "      <th>2019-04-23 08:45:00</th>\n",
       "      <td>NaN</td>\n",
       "      <td>NaN</td>\n",
       "      <td>NaN</td>\n",
       "      <td>NaN</td>\n",
       "      <td>NaN</td>\n",
       "      <td>NaN</td>\n",
       "      <td>NaN</td>\n",
       "      <td>1.0</td>\n",
       "    </tr>\n",
       "    <tr>\n",
       "      <th>2019-04-23 09:15:00</th>\n",
       "      <td>NaN</td>\n",
       "      <td>NaN</td>\n",
       "      <td>NaN</td>\n",
       "      <td>NaN</td>\n",
       "      <td>NaN</td>\n",
       "      <td>NaN</td>\n",
       "      <td>NaN</td>\n",
       "      <td>1.0</td>\n",
       "    </tr>\n",
       "  </tbody>\n",
       "</table>\n",
       "</div>"
      ],
      "text/plain": [
       "                     TS_0.05  TS_0.15  TS_0.30  WFPS_0.05  WFPS_0.15  WFPS_0.30  target  .daynight\n",
       "2019-04-23 08:15:00      NaN      NaN      NaN        NaN        NaN        NaN     NaN        1.0\n",
       "2019-04-23 08:45:00      NaN      NaN      NaN        NaN        NaN        NaN     NaN        1.0\n",
       "2019-04-23 09:15:00      NaN      NaN      NaN        NaN        NaN        NaN     NaN        1.0"
      ]
     },
     "metadata": {},
     "output_type": "display_data"
    },
    {
     "data": {
      "text/plain": [
       "Index(['TS_0.05', 'TS_0.15', 'TS_0.30', 'WFPS_0.05', 'WFPS_0.15', 'WFPS_0.30', 'target', '.daynight'], dtype='object')"
      ]
     },
     "metadata": {},
     "output_type": "display_data"
    }
   ],
   "source": [
    "pd.set_option('display.max_columns', 99)\n",
    "pd.set_option('display.max_rows', 99)\n",
    "display(df.head(3))\n",
    "display(df.columns)"
   ]
  },
  {
   "cell_type": "code",
   "execution_count": 46,
   "id": "ab63d1be-2d35-4052-a0ca-b3b8ae943507",
   "metadata": {},
   "outputs": [
    {
     "data": {
      "image/png": "[encoded data removed]",
      "text/plain": [
       "<Figure size 432x288 with 1 Axes>"
      ]
     },
     "metadata": {
      "needs_background": "light"
     },
     "output_type": "display_data"
    }
   ],
   "source": [
    "df[['target']].plot(title=f\"Target variable: {target}\");"
   ]
  },
  {
   "cell_type": "markdown",
   "id": "dbbba365",
   "metadata": {},
   "source": [
    "# Random Forest"
   ]
  },
  {
   "cell_type": "markdown",
   "id": "689d760d",
   "metadata": {},
   "source": [
    "## Prepare Data Subset\n",
    "Make subset of data that is used in RF."
   ]
  },
  {
   "cell_type": "code",
   "execution_count": 47,
   "id": "47e008d9",
   "metadata": {},
   "outputs": [],
   "source": [
    "# Make copy to work with\n",
    "subset_df = df.copy()"
   ]
  },
  {
   "cell_type": "code",
   "execution_count": 48,
   "id": "0793d322",
   "metadata": {},
   "outputs": [
    {
     "name": "stdout",
     "output_type": "stream",
     "text": [
      "First measured value of target: 2020-05-12 17:15:00\n",
      "Last measured value of target: 2020-09-14 14:45:00\n"
     ]
    }
   ],
   "source": [
    "# Select year\n",
    "subset_df = subset_df.loc[subset_df.index.year == SELECT_YEAR]\n",
    "  \n",
    "if SELECT_YEAR == 2020:\n",
    "    start_date = pd.to_datetime('2020-01-01 00:15:00')\n",
    "    end_date = pd.to_datetime('2020-09-15 00:15')  # new in v7, stops on day of harvest for this analysis\n",
    "elif SELECT_YEAR == 2019:\n",
    "    start_date = pd.to_datetime('2019-01-01 00:15:00')\n",
    "    end_date = pd.to_datetime('2019-07-03 00:15') # new in v7, stops on day of harvest for this analysis\n",
    "\n",
    "subset_df['temp_datetime_col'] = subset_df.index\n",
    "subset_df.loc[(subset_df['temp_datetime_col'] > start_date) & (subset_df['temp_datetime_col'] < end_date)]  \n",
    "subset_df = subset_df[subset_df['temp_datetime_col'].between(start_date, end_date)]\n",
    "subset_df = subset_df.drop('temp_datetime_col', axis=1)\n",
    "\n",
    "# Datetime of first and last available measurement of target\n",
    "_first_target_value_dt = subset_df['target'].dropna().index[0]\n",
    "_last_target_value_dt = subset_df['target'].dropna().index[-1]\n",
    "print(f\"First measured value of target: {_first_target_value_dt}\")\n",
    "print(f\"Last measured value of target: {_last_target_value_dt}\")\n",
    "\n",
    "# Restrict time range to first and last available data point of target\n",
    "subset_df = subset_df.loc[_first_target_value_dt:_last_target_value_dt]"
   ]
  },
  {
   "cell_type": "code",
   "execution_count": 49,
   "id": "cd545ad1",
   "metadata": {},
   "outputs": [],
   "source": [
    "# Add second header row, needed for RandomForestTS class\n",
    "lst_for_empty_units = []\n",
    "for e in range(len(subset_df.columns)):  ## generate entry for all cols in df\n",
    "    lst_for_empty_units.append('-')\n",
    "subset_df.columns = [subset_df.columns, lst_for_empty_units]  ## conv column index to multiindex"
   ]
  },
  {
   "cell_type": "code",
   "execution_count": 50,
   "id": "a0b0c1b3-fda4-4c60-84e0-02b168a10e90",
   "metadata": {},
   "outputs": [],
   "source": [
    "# # subset_df.to_csv(\"test.csv\")\n",
    "# DAY_df = subset_df.copy()\n",
    "# daynight_col = ('.daynight', '-')\n",
    "# DAY_df = DAY_df.loc[DAY_df[daynight_col] == 0, :]\n",
    "# DAY_df\n",
    "# subset_df = DAY_df.copy()"
   ]
  },
  {
   "cell_type": "markdown",
   "id": "fa444b89",
   "metadata": {},
   "source": [
    "## Model setup"
   ]
  },
  {
   "cell_type": "code",
   "execution_count": 51,
   "id": "ed762c28",
   "metadata": {},
   "outputs": [],
   "source": [
    "target_col = ('target', '-')\n",
    "rfts = RandomForestTS(df=subset_df,\n",
    "                      target_col=target_col,\n",
    "                      verbose=1,\n",
    "                      random_state=42,\n",
    "                      rfecv_step=1,\n",
    "                      rfecv_min_features_to_select=20,\n",
    "                      rf_rfecv_n_estimators=100,\n",
    "                      rf_n_estimators=1000,\n",
    "                      bootstrap=True)"
   ]
  },
  {
   "cell_type": "markdown",
   "id": "d3ba3c45-1f49-455a-bbf8-81db556300d1",
   "metadata": {},
   "source": [
    "## Rolling Variants"
   ]
  },
  {
   "cell_type": "code",
   "execution_count": 52,
   "id": "08de6f18-db79-4647-88e2-29b4d0dedef4",
   "metadata": {},
   "outputs": [],
   "source": [
    "if include_rolling_variants:\n",
    "    \n",
    "    # No rolling variants for some vars\n",
    "    _donotroll_ids = ['.timesince', '.MGMT', '.ploughing',  '.soilprep', '.Norg', '.Nmin', '.harvest', '.sowing', '.daynight', 'veg.height', 'lai']\n",
    "    donotroll_cols = [target_col]\n",
    "    for col in rfts.df.columns:\n",
    "        if any(_donotroll_id in col[0] for _donotroll_id in _donotroll_ids):\n",
    "            donotroll_cols.append(col)\n",
    "    \n",
    "    rfts.rolling_variants(records=6,\n",
    "                          aggtypes=['mean'],\n",
    "                          exclude_cols=donotroll_cols)    \n",
    "else:\n",
    "    print(\"No rolling variants calculated.\")"
   ]
  },
  {
   "cell_type": "code",
   "execution_count": 53,
   "id": "9a149190-3cc5-4ad6-9309-ee6805c86903",
   "metadata": {},
   "outputs": [
    {
     "data": {
      "text/plain": [
       "MultiIndex([(           'TS_0.05', '-'),\n",
       "            (           'TS_0.15', '-'),\n",
       "            (           'TS_0.30', '-'),\n",
       "            (         'WFPS_0.05', '-'),\n",
       "            (         'WFPS_0.15', '-'),\n",
       "            (         'WFPS_0.30', '-'),\n",
       "            (            'target', '-'),\n",
       "            (         '.daynight', '-'),\n",
       "            (  '.TS_0.05.r-mean6', '-'),\n",
       "            (  '.TS_0.15.r-mean6', '-'),\n",
       "            (  '.TS_0.30.r-mean6', '-'),\n",
       "            ('.WFPS_0.05.r-mean6', '-'),\n",
       "            ('.WFPS_0.15.r-mean6', '-'),\n",
       "            ('.WFPS_0.30.r-mean6', '-')],\n",
       "           )"
      ]
     },
     "execution_count": 53,
     "metadata": {},
     "output_type": "execute_result"
    }
   ],
   "source": [
    "rfts.df.columns"
   ]
  },
  {
   "cell_type": "markdown",
   "id": "c266dda1-38d1-46c1-b293-9985a09e24b6",
   "metadata": {},
   "source": [
    "## Lagged Variants"
   ]
  },
  {
   "cell_type": "code",
   "execution_count": 54,
   "id": "b78afaf9-e308-4a57-82c2-cd39da549578",
   "metadata": {},
   "outputs": [
    {
     "name": "stdout",
     "output_type": "stream",
     "text": [
      "No lagged variants will be created for the following columns:[('TS_0.05', '-'), ('TS_0.15', '-'), ('TS_0.30', '-'), ('WFPS_0.05', '-'), ('WFPS_0.15', '-'), ('WFPS_0.30', '-'), ('target', '-'), ('.daynight', '-'), ['veg.height', 'lai']]\n",
      "\n",
      "Created step-lagged variants for: [('.TS_0.05.r-mean6', '-'), ('.TS_0.15.r-mean6', '-'), ('.TS_0.30.r-mean6', '-'), ('.WFPS_0.05.r-mean6', '-'), ('.WFPS_0.15.r-mean6', '-'), ('.WFPS_0.30.r-mean6', '-')]\n",
      "No step-lagged variants for: [('TS_0.05', '-'), ('TS_0.15', '-'), ('TS_0.30', '-'), ('WFPS_0.05', '-'), ('WFPS_0.15', '-'), ('WFPS_0.30', '-'), ('target', '-'), ('.daynight', '-')]\n"
     ]
    }
   ],
   "source": [
    "if include_lagged_variants:       \n",
    "    \n",
    "    if include_rolling_variants:\n",
    "        # Create lagged variants for rolling variants only\n",
    "        exclude_cols = []\n",
    "        [exclude_cols.append(col) for col in rfts.df.columns if 'r-' not in col[0]]\n",
    "        exclude_cols.append(['veg.height', 'lai'])\n",
    "        print(f\"No lagged variants will be created for the following columns:{exclude_cols}\\n\")\n",
    "    \n",
    "    rfts.steplagged_variants(stepsize=6,\n",
    "                             stepmax=24,\n",
    "                             exclude_cols=exclude_cols)\n",
    "else:\n",
    "    print(\"No lagged variants calculated.\")"
   ]
  },
  {
   "cell_type": "code",
   "execution_count": 55,
   "id": "eee698e9-2574-462a-b161-1c123cb5c32d",
   "metadata": {},
   "outputs": [
    {
     "data": {
      "text/plain": [
       "[('TS_0.05', '-'),\n",
       " ('TS_0.15', '-'),\n",
       " ('TS_0.30', '-'),\n",
       " ('WFPS_0.05', '-'),\n",
       " ('WFPS_0.15', '-'),\n",
       " ('WFPS_0.30', '-'),\n",
       " ('target', '-'),\n",
       " ('.daynight', '-'),\n",
       " ('.TS_0.05.r-mean6', '-'),\n",
       " ('.TS_0.15.r-mean6', '-'),\n",
       " ('.TS_0.30.r-mean6', '-'),\n",
       " ('.WFPS_0.05.r-mean6', '-'),\n",
       " ('.WFPS_0.15.r-mean6', '-'),\n",
       " ('.WFPS_0.30.r-mean6', '-'),\n",
       " ('..TS_0.05.r-mean6+6', '-'),\n",
       " ('..TS_0.05.r-mean6+12', '-'),\n",
       " ('..TS_0.05.r-mean6+18', '-'),\n",
       " ('..TS_0.05.r-mean6+24', '-'),\n",
       " ('..TS_0.15.r-mean6+6', '-'),\n",
       " ('..TS_0.15.r-mean6+12', '-'),\n",
       " ('..TS_0.15.r-mean6+18', '-'),\n",
       " ('..TS_0.15.r-mean6+24', '-'),\n",
       " ('..TS_0.30.r-mean6+6', '-'),\n",
       " ('..TS_0.30.r-mean6+12', '-'),\n",
       " ('..TS_0.30.r-mean6+18', '-'),\n",
       " ('..TS_0.30.r-mean6+24', '-'),\n",
       " ('..WFPS_0.05.r-mean6+6', '-'),\n",
       " ('..WFPS_0.05.r-mean6+12', '-'),\n",
       " ('..WFPS_0.05.r-mean6+18', '-'),\n",
       " ('..WFPS_0.05.r-mean6+24', '-'),\n",
       " ('..WFPS_0.15.r-mean6+6', '-'),\n",
       " ('..WFPS_0.15.r-mean6+12', '-'),\n",
       " ('..WFPS_0.15.r-mean6+18', '-'),\n",
       " ('..WFPS_0.15.r-mean6+24', '-'),\n",
       " ('..WFPS_0.30.r-mean6+6', '-'),\n",
       " ('..WFPS_0.30.r-mean6+12', '-'),\n",
       " ('..WFPS_0.30.r-mean6+18', '-'),\n",
       " ('..WFPS_0.30.r-mean6+24', '-')]"
      ]
     },
     "execution_count": 55,
     "metadata": {},
     "output_type": "execute_result"
    }
   ],
   "source": [
    "list(rfts.df.columns)"
   ]
  },
  {
   "cell_type": "markdown",
   "id": "c0bd689a-d64d-457b-871a-698faf57c5e1",
   "metadata": {},
   "source": [
    "## Add Timestamp As Features"
   ]
  },
  {
   "cell_type": "code",
   "execution_count": 56,
   "id": "2020b765-f7d6-41d0-8b3d-b44585458913",
   "metadata": {},
   "outputs": [],
   "source": [
    "if timestamp_as_features:\n",
    "    rfts.include_timestamp_as_features(doy_as_feature=True,\n",
    "                                       week_as_feature=True,\n",
    "                                       month_as_feature=True,\n",
    "                                       hour_as_feature=True)"
   ]
  },
  {
   "cell_type": "markdown",
   "id": "95d37701-cb9f-4775-a60b-8c734fb7d84b",
   "metadata": {},
   "source": [
    "## Check"
   ]
  },
  {
   "cell_type": "code",
   "execution_count": 57,
   "id": "2429ee79-59a8-4805-8012-151cb28573d4",
   "metadata": {
    "tags": []
   },
   "outputs": [
    {
     "data": {
      "text/html": [
       "<div>\n",
       "<style scoped>\n",
       "    .dataframe tbody tr th:only-of-type {\n",
       "        vertical-align: middle;\n",
       "    }\n",
       "\n",
       "    .dataframe tbody tr th {\n",
       "        vertical-align: top;\n",
       "    }\n",
       "\n",
       "    .dataframe thead tr th {\n",
       "        text-align: left;\n",
       "    }\n",
       "</style>\n",
       "<table border=\"1\" class=\"dataframe\">\n",
       "  <thead>\n",
       "    <tr>\n",
       "      <th></th>\n",
       "      <th>TS_0.05</th>\n",
       "      <th>TS_0.15</th>\n",
       "      <th>TS_0.30</th>\n",
       "      <th>WFPS_0.05</th>\n",
       "      <th>WFPS_0.15</th>\n",
       "      <th>WFPS_0.30</th>\n",
       "      <th>target</th>\n",
       "      <th>.daynight</th>\n",
       "      <th>.TS_0.05.r-mean6</th>\n",
       "      <th>.TS_0.15.r-mean6</th>\n",
       "      <th>.TS_0.30.r-mean6</th>\n",
       "      <th>.WFPS_0.05.r-mean6</th>\n",
       "      <th>.WFPS_0.15.r-mean6</th>\n",
       "      <th>.WFPS_0.30.r-mean6</th>\n",
       "      <th>..TS_0.05.r-mean6+6</th>\n",
       "      <th>..TS_0.05.r-mean6+12</th>\n",
       "      <th>..TS_0.05.r-mean6+18</th>\n",
       "      <th>..TS_0.05.r-mean6+24</th>\n",
       "      <th>..TS_0.15.r-mean6+6</th>\n",
       "      <th>..TS_0.15.r-mean6+12</th>\n",
       "      <th>..TS_0.15.r-mean6+18</th>\n",
       "      <th>..TS_0.15.r-mean6+24</th>\n",
       "      <th>..TS_0.30.r-mean6+6</th>\n",
       "      <th>..TS_0.30.r-mean6+12</th>\n",
       "      <th>..TS_0.30.r-mean6+18</th>\n",
       "      <th>..TS_0.30.r-mean6+24</th>\n",
       "      <th>..WFPS_0.05.r-mean6+6</th>\n",
       "      <th>..WFPS_0.05.r-mean6+12</th>\n",
       "      <th>..WFPS_0.05.r-mean6+18</th>\n",
       "      <th>..WFPS_0.05.r-mean6+24</th>\n",
       "      <th>..WFPS_0.15.r-mean6+6</th>\n",
       "      <th>..WFPS_0.15.r-mean6+12</th>\n",
       "      <th>..WFPS_0.15.r-mean6+18</th>\n",
       "      <th>..WFPS_0.15.r-mean6+24</th>\n",
       "      <th>..WFPS_0.30.r-mean6+6</th>\n",
       "      <th>..WFPS_0.30.r-mean6+12</th>\n",
       "      <th>..WFPS_0.30.r-mean6+18</th>\n",
       "      <th>..WFPS_0.30.r-mean6+24</th>\n",
       "    </tr>\n",
       "    <tr>\n",
       "      <th></th>\n",
       "      <th>-</th>\n",
       "      <th>-</th>\n",
       "      <th>-</th>\n",
       "      <th>-</th>\n",
       "      <th>-</th>\n",
       "      <th>-</th>\n",
       "      <th>-</th>\n",
       "      <th>-</th>\n",
       "      <th>-</th>\n",
       "      <th>-</th>\n",
       "      <th>-</th>\n",
       "      <th>-</th>\n",
       "      <th>-</th>\n",
       "      <th>-</th>\n",
       "      <th>-</th>\n",
       "      <th>-</th>\n",
       "      <th>-</th>\n",
       "      <th>-</th>\n",
       "      <th>-</th>\n",
       "      <th>-</th>\n",
       "      <th>-</th>\n",
       "      <th>-</th>\n",
       "      <th>-</th>\n",
       "      <th>-</th>\n",
       "      <th>-</th>\n",
       "      <th>-</th>\n",
       "      <th>-</th>\n",
       "      <th>-</th>\n",
       "      <th>-</th>\n",
       "      <th>-</th>\n",
       "      <th>-</th>\n",
       "      <th>-</th>\n",
       "      <th>-</th>\n",
       "      <th>-</th>\n",
       "      <th>-</th>\n",
       "      <th>-</th>\n",
       "      <th>-</th>\n",
       "      <th>-</th>\n",
       "    </tr>\n",
       "  </thead>\n",
       "  <tbody>\n",
       "    <tr>\n",
       "      <th>2020-05-12 17:15:00</th>\n",
       "      <td>15.033333</td>\n",
       "      <td>13.565556</td>\n",
       "      <td>13.718889</td>\n",
       "      <td>65.663301</td>\n",
       "      <td>46.537560</td>\n",
       "      <td>52.461937</td>\n",
       "      <td>3.632010</td>\n",
       "      <td>1.0</td>\n",
       "      <td>NaN</td>\n",
       "      <td>NaN</td>\n",
       "      <td>NaN</td>\n",
       "      <td>NaN</td>\n",
       "      <td>NaN</td>\n",
       "      <td>NaN</td>\n",
       "      <td>NaN</td>\n",
       "      <td>NaN</td>\n",
       "      <td>NaN</td>\n",
       "      <td>NaN</td>\n",
       "      <td>NaN</td>\n",
       "      <td>NaN</td>\n",
       "      <td>NaN</td>\n",
       "      <td>NaN</td>\n",
       "      <td>NaN</td>\n",
       "      <td>NaN</td>\n",
       "      <td>NaN</td>\n",
       "      <td>NaN</td>\n",
       "      <td>NaN</td>\n",
       "      <td>NaN</td>\n",
       "      <td>NaN</td>\n",
       "      <td>NaN</td>\n",
       "      <td>NaN</td>\n",
       "      <td>NaN</td>\n",
       "      <td>NaN</td>\n",
       "      <td>NaN</td>\n",
       "      <td>NaN</td>\n",
       "      <td>NaN</td>\n",
       "      <td>NaN</td>\n",
       "      <td>NaN</td>\n",
       "    </tr>\n",
       "    <tr>\n",
       "      <th>2020-05-12 17:45:00</th>\n",
       "      <td>14.873889</td>\n",
       "      <td>13.656667</td>\n",
       "      <td>13.764445</td>\n",
       "      <td>65.612506</td>\n",
       "      <td>46.535422</td>\n",
       "      <td>52.466265</td>\n",
       "      <td>3.460010</td>\n",
       "      <td>1.0</td>\n",
       "      <td>NaN</td>\n",
       "      <td>NaN</td>\n",
       "      <td>NaN</td>\n",
       "      <td>NaN</td>\n",
       "      <td>NaN</td>\n",
       "      <td>NaN</td>\n",
       "      <td>NaN</td>\n",
       "      <td>NaN</td>\n",
       "      <td>NaN</td>\n",
       "      <td>NaN</td>\n",
       "      <td>NaN</td>\n",
       "      <td>NaN</td>\n",
       "      <td>NaN</td>\n",
       "      <td>NaN</td>\n",
       "      <td>NaN</td>\n",
       "      <td>NaN</td>\n",
       "      <td>NaN</td>\n",
       "      <td>NaN</td>\n",
       "      <td>NaN</td>\n",
       "      <td>NaN</td>\n",
       "      <td>NaN</td>\n",
       "      <td>NaN</td>\n",
       "      <td>NaN</td>\n",
       "      <td>NaN</td>\n",
       "      <td>NaN</td>\n",
       "      <td>NaN</td>\n",
       "      <td>NaN</td>\n",
       "      <td>NaN</td>\n",
       "      <td>NaN</td>\n",
       "      <td>NaN</td>\n",
       "    </tr>\n",
       "    <tr>\n",
       "      <th>2020-05-12 18:15:00</th>\n",
       "      <td>14.684444</td>\n",
       "      <td>13.716667</td>\n",
       "      <td>13.799444</td>\n",
       "      <td>65.597785</td>\n",
       "      <td>46.529839</td>\n",
       "      <td>52.468355</td>\n",
       "      <td>3.316740</td>\n",
       "      <td>1.0</td>\n",
       "      <td>14.863889</td>\n",
       "      <td>13.646297</td>\n",
       "      <td>13.760926</td>\n",
       "      <td>65.624530</td>\n",
       "      <td>46.534273</td>\n",
       "      <td>52.465519</td>\n",
       "      <td>NaN</td>\n",
       "      <td>NaN</td>\n",
       "      <td>NaN</td>\n",
       "      <td>NaN</td>\n",
       "      <td>NaN</td>\n",
       "      <td>NaN</td>\n",
       "      <td>NaN</td>\n",
       "      <td>NaN</td>\n",
       "      <td>NaN</td>\n",
       "      <td>NaN</td>\n",
       "      <td>NaN</td>\n",
       "      <td>NaN</td>\n",
       "      <td>NaN</td>\n",
       "      <td>NaN</td>\n",
       "      <td>NaN</td>\n",
       "      <td>NaN</td>\n",
       "      <td>NaN</td>\n",
       "      <td>NaN</td>\n",
       "      <td>NaN</td>\n",
       "      <td>NaN</td>\n",
       "      <td>NaN</td>\n",
       "      <td>NaN</td>\n",
       "      <td>NaN</td>\n",
       "      <td>NaN</td>\n",
       "    </tr>\n",
       "    <tr>\n",
       "      <th>2020-05-12 18:45:00</th>\n",
       "      <td>14.414445</td>\n",
       "      <td>13.795555</td>\n",
       "      <td>13.822223</td>\n",
       "      <td>65.589275</td>\n",
       "      <td>46.518010</td>\n",
       "      <td>52.466118</td>\n",
       "      <td>2.983400</td>\n",
       "      <td>1.0</td>\n",
       "      <td>14.751528</td>\n",
       "      <td>13.683611</td>\n",
       "      <td>13.776250</td>\n",
       "      <td>65.615717</td>\n",
       "      <td>46.530208</td>\n",
       "      <td>52.465669</td>\n",
       "      <td>NaN</td>\n",
       "      <td>NaN</td>\n",
       "      <td>NaN</td>\n",
       "      <td>NaN</td>\n",
       "      <td>NaN</td>\n",
       "      <td>NaN</td>\n",
       "      <td>NaN</td>\n",
       "      <td>NaN</td>\n",
       "      <td>NaN</td>\n",
       "      <td>NaN</td>\n",
       "      <td>NaN</td>\n",
       "      <td>NaN</td>\n",
       "      <td>NaN</td>\n",
       "      <td>NaN</td>\n",
       "      <td>NaN</td>\n",
       "      <td>NaN</td>\n",
       "      <td>NaN</td>\n",
       "      <td>NaN</td>\n",
       "      <td>NaN</td>\n",
       "      <td>NaN</td>\n",
       "      <td>NaN</td>\n",
       "      <td>NaN</td>\n",
       "      <td>NaN</td>\n",
       "      <td>NaN</td>\n",
       "    </tr>\n",
       "    <tr>\n",
       "      <th>2020-05-12 19:15:00</th>\n",
       "      <td>14.197222</td>\n",
       "      <td>13.800556</td>\n",
       "      <td>13.857777</td>\n",
       "      <td>65.586169</td>\n",
       "      <td>46.512585</td>\n",
       "      <td>52.464174</td>\n",
       "      <td>3.217090</td>\n",
       "      <td>1.0</td>\n",
       "      <td>14.640667</td>\n",
       "      <td>13.707000</td>\n",
       "      <td>13.792556</td>\n",
       "      <td>65.609807</td>\n",
       "      <td>46.526683</td>\n",
       "      <td>52.465370</td>\n",
       "      <td>NaN</td>\n",
       "      <td>NaN</td>\n",
       "      <td>NaN</td>\n",
       "      <td>NaN</td>\n",
       "      <td>NaN</td>\n",
       "      <td>NaN</td>\n",
       "      <td>NaN</td>\n",
       "      <td>NaN</td>\n",
       "      <td>NaN</td>\n",
       "      <td>NaN</td>\n",
       "      <td>NaN</td>\n",
       "      <td>NaN</td>\n",
       "      <td>NaN</td>\n",
       "      <td>NaN</td>\n",
       "      <td>NaN</td>\n",
       "      <td>NaN</td>\n",
       "      <td>NaN</td>\n",
       "      <td>NaN</td>\n",
       "      <td>NaN</td>\n",
       "      <td>NaN</td>\n",
       "      <td>NaN</td>\n",
       "      <td>NaN</td>\n",
       "      <td>NaN</td>\n",
       "      <td>NaN</td>\n",
       "    </tr>\n",
       "    <tr>\n",
       "      <th>...</th>\n",
       "      <td>...</td>\n",
       "      <td>...</td>\n",
       "      <td>...</td>\n",
       "      <td>...</td>\n",
       "      <td>...</td>\n",
       "      <td>...</td>\n",
       "      <td>...</td>\n",
       "      <td>...</td>\n",
       "      <td>...</td>\n",
       "      <td>...</td>\n",
       "      <td>...</td>\n",
       "      <td>...</td>\n",
       "      <td>...</td>\n",
       "      <td>...</td>\n",
       "      <td>...</td>\n",
       "      <td>...</td>\n",
       "      <td>...</td>\n",
       "      <td>...</td>\n",
       "      <td>...</td>\n",
       "      <td>...</td>\n",
       "      <td>...</td>\n",
       "      <td>...</td>\n",
       "      <td>...</td>\n",
       "      <td>...</td>\n",
       "      <td>...</td>\n",
       "      <td>...</td>\n",
       "      <td>...</td>\n",
       "      <td>...</td>\n",
       "      <td>...</td>\n",
       "      <td>...</td>\n",
       "      <td>...</td>\n",
       "      <td>...</td>\n",
       "      <td>...</td>\n",
       "      <td>...</td>\n",
       "      <td>...</td>\n",
       "      <td>...</td>\n",
       "      <td>...</td>\n",
       "      <td>...</td>\n",
       "    </tr>\n",
       "    <tr>\n",
       "      <th>2020-09-14 12:45:00</th>\n",
       "      <td>22.236111</td>\n",
       "      <td>18.966667</td>\n",
       "      <td>19.267777</td>\n",
       "      <td>42.371253</td>\n",
       "      <td>34.664840</td>\n",
       "      <td>50.532755</td>\n",
       "      <td>NaN</td>\n",
       "      <td>1.0</td>\n",
       "      <td>19.549815</td>\n",
       "      <td>18.629444</td>\n",
       "      <td>19.335740</td>\n",
       "      <td>42.019070</td>\n",
       "      <td>34.526365</td>\n",
       "      <td>50.574880</td>\n",
       "      <td>17.288241</td>\n",
       "      <td>17.405093</td>\n",
       "      <td>18.454445</td>\n",
       "      <td>19.873426</td>\n",
       "      <td>18.632593</td>\n",
       "      <td>19.266389</td>\n",
       "      <td>20.109815</td>\n",
       "      <td>21.038426</td>\n",
       "      <td>19.622222</td>\n",
       "      <td>19.986667</td>\n",
       "      <td>20.310185</td>\n",
       "      <td>20.505185</td>\n",
       "      <td>41.631201</td>\n",
       "      <td>41.510278</td>\n",
       "      <td>41.714914</td>\n",
       "      <td>41.980119</td>\n",
       "      <td>34.417045</td>\n",
       "      <td>34.452318</td>\n",
       "      <td>34.652830</td>\n",
       "      <td>34.847096</td>\n",
       "      <td>50.622729</td>\n",
       "      <td>50.623833</td>\n",
       "      <td>50.636404</td>\n",
       "      <td>50.638125</td>\n",
       "    </tr>\n",
       "    <tr>\n",
       "      <th>2020-09-14 13:15:00</th>\n",
       "      <td>23.731112</td>\n",
       "      <td>19.304445</td>\n",
       "      <td>19.268888</td>\n",
       "      <td>42.586290</td>\n",
       "      <td>34.679545</td>\n",
       "      <td>50.511786</td>\n",
       "      <td>-0.287597</td>\n",
       "      <td>1.0</td>\n",
       "      <td>20.511111</td>\n",
       "      <td>18.767778</td>\n",
       "      <td>19.308981</td>\n",
       "      <td>42.149717</td>\n",
       "      <td>34.569214</td>\n",
       "      <td>50.557775</td>\n",
       "      <td>17.441852</td>\n",
       "      <td>17.277315</td>\n",
       "      <td>18.264074</td>\n",
       "      <td>19.592593</td>\n",
       "      <td>18.571296</td>\n",
       "      <td>19.134907</td>\n",
       "      <td>19.970555</td>\n",
       "      <td>20.873518</td>\n",
       "      <td>19.570371</td>\n",
       "      <td>19.920185</td>\n",
       "      <td>20.266018</td>\n",
       "      <td>20.483704</td>\n",
       "      <td>41.675067</td>\n",
       "      <td>41.503796</td>\n",
       "      <td>41.677559</td>\n",
       "      <td>41.930630</td>\n",
       "      <td>34.416592</td>\n",
       "      <td>34.438746</td>\n",
       "      <td>34.622427</td>\n",
       "      <td>34.802301</td>\n",
       "      <td>50.616111</td>\n",
       "      <td>50.627963</td>\n",
       "      <td>50.634788</td>\n",
       "      <td>50.638766</td>\n",
       "    </tr>\n",
       "    <tr>\n",
       "      <th>2020-09-14 13:45:00</th>\n",
       "      <td>25.012222</td>\n",
       "      <td>19.791111</td>\n",
       "      <td>19.283333</td>\n",
       "      <td>42.788869</td>\n",
       "      <td>34.680512</td>\n",
       "      <td>50.478312</td>\n",
       "      <td>-0.266890</td>\n",
       "      <td>1.0</td>\n",
       "      <td>21.630092</td>\n",
       "      <td>18.983148</td>\n",
       "      <td>19.292037</td>\n",
       "      <td>42.304477</td>\n",
       "      <td>34.610154</td>\n",
       "      <td>50.538658</td>\n",
       "      <td>17.642037</td>\n",
       "      <td>17.190926</td>\n",
       "      <td>18.075741</td>\n",
       "      <td>19.336574</td>\n",
       "      <td>18.533981</td>\n",
       "      <td>19.010371</td>\n",
       "      <td>19.826759</td>\n",
       "      <td>20.714537</td>\n",
       "      <td>19.518148</td>\n",
       "      <td>19.855278</td>\n",
       "      <td>20.215555</td>\n",
       "      <td>20.458240</td>\n",
       "      <td>41.723575</td>\n",
       "      <td>41.502647</td>\n",
       "      <td>41.645955</td>\n",
       "      <td>41.885941</td>\n",
       "      <td>34.419017</td>\n",
       "      <td>34.430309</td>\n",
       "      <td>34.587465</td>\n",
       "      <td>34.757665</td>\n",
       "      <td>50.608003</td>\n",
       "      <td>50.631041</td>\n",
       "      <td>50.632863</td>\n",
       "      <td>50.638767</td>\n",
       "    </tr>\n",
       "    <tr>\n",
       "      <th>2020-09-14 14:15:00</th>\n",
       "      <td>26.025556</td>\n",
       "      <td>20.262778</td>\n",
       "      <td>19.331667</td>\n",
       "      <td>42.943064</td>\n",
       "      <td>34.711057</td>\n",
       "      <td>50.448827</td>\n",
       "      <td>-0.303607</td>\n",
       "      <td>1.0</td>\n",
       "      <td>22.852963</td>\n",
       "      <td>19.276019</td>\n",
       "      <td>19.290370</td>\n",
       "      <td>42.475001</td>\n",
       "      <td>34.650272</td>\n",
       "      <td>50.516578</td>\n",
       "      <td>17.894907</td>\n",
       "      <td>17.145278</td>\n",
       "      <td>17.893611</td>\n",
       "      <td>19.094722</td>\n",
       "      <td>18.508889</td>\n",
       "      <td>18.902778</td>\n",
       "      <td>19.683981</td>\n",
       "      <td>20.553056</td>\n",
       "      <td>19.465648</td>\n",
       "      <td>19.795185</td>\n",
       "      <td>20.160833</td>\n",
       "      <td>20.428148</td>\n",
       "      <td>41.777161</td>\n",
       "      <td>41.513130</td>\n",
       "      <td>41.615271</td>\n",
       "      <td>41.838034</td>\n",
       "      <td>34.428101</td>\n",
       "      <td>34.425233</td>\n",
       "      <td>34.548560</td>\n",
       "      <td>34.721642</td>\n",
       "      <td>50.602997</td>\n",
       "      <td>50.630528</td>\n",
       "      <td>50.629425</td>\n",
       "      <td>50.638613</td>\n",
       "    </tr>\n",
       "    <tr>\n",
       "      <th>2020-09-14 14:45:00</th>\n",
       "      <td>26.849445</td>\n",
       "      <td>20.754444</td>\n",
       "      <td>19.394444</td>\n",
       "      <td>43.036039</td>\n",
       "      <td>34.800325</td>\n",
       "      <td>50.410526</td>\n",
       "      <td>-0.247803</td>\n",
       "      <td>1.0</td>\n",
       "      <td>24.091296</td>\n",
       "      <td>19.634630</td>\n",
       "      <td>19.305092</td>\n",
       "      <td>42.646440</td>\n",
       "      <td>34.692378</td>\n",
       "      <td>50.489630</td>\n",
       "      <td>18.252037</td>\n",
       "      <td>17.143333</td>\n",
       "      <td>17.715000</td>\n",
       "      <td>18.871111</td>\n",
       "      <td>18.512870</td>\n",
       "      <td>18.802963</td>\n",
       "      <td>19.540741</td>\n",
       "      <td>20.401944</td>\n",
       "      <td>19.417037</td>\n",
       "      <td>19.733148</td>\n",
       "      <td>20.107871</td>\n",
       "      <td>20.392777</td>\n",
       "      <td>41.839412</td>\n",
       "      <td>41.537598</td>\n",
       "      <td>41.581659</td>\n",
       "      <td>41.793208</td>\n",
       "      <td>34.450561</td>\n",
       "      <td>34.421641</td>\n",
       "      <td>34.509296</td>\n",
       "      <td>34.694269</td>\n",
       "      <td>50.596502</td>\n",
       "      <td>50.630066</td>\n",
       "      <td>50.623116</td>\n",
       "      <td>50.640741</td>\n",
       "    </tr>\n",
       "  </tbody>\n",
       "</table>\n",
       "<p>5996 rows × 38 columns</p>\n",
       "</div>"
      ],
      "text/plain": [
       "                       TS_0.05    TS_0.15    TS_0.30  WFPS_0.05  WFPS_0.15  WFPS_0.30    target .daynight .TS_0.05.r-mean6 .TS_0.15.r-mean6 .TS_0.30.r-mean6 .WFPS_0.05.r-mean6 .WFPS_0.15.r-mean6 .WFPS_0.30.r-mean6 ..TS_0.05.r-mean6+6 ..TS_0.05.r-mean6+12 ..TS_0.05.r-mean6+18 ..TS_0.05.r-mean6+24 ..TS_0.15.r-mean6+6 ..TS_0.15.r-mean6+12 ..TS_0.15.r-mean6+18 ..TS_0.15.r-mean6+24 ..TS_0.30.r-mean6+6 ..TS_0.30.r-mean6+12 ..TS_0.30.r-mean6+18 ..TS_0.30.r-mean6+24 ..WFPS_0.05.r-mean6+6 ..WFPS_0.05.r-mean6+12 ..WFPS_0.05.r-mean6+18 ..WFPS_0.05.r-mean6+24 ..WFPS_0.15.r-mean6+6 ..WFPS_0.15.r-mean6+12 ..WFPS_0.15.r-mean6+18 ..WFPS_0.15.r-mean6+24 ..WFPS_0.30.r-mean6+6 ..WFPS_0.30.r-mean6+12 ..WFPS_0.30.r-mean6+18 ..WFPS_0.30.r-mean6+24\n",
       "                             -          -          -          -          -          -         -         -                -                -                -                  -                  -                  -                   -                    -                    -                    -                   -                    -                    -                    -                   -                    -                    -                    -                     -                      -                      -                      -                     -                      -                      -                      -                     -                      -                      -                      -\n",
       "2020-05-12 17:15:00  15.033333  13.565556  13.718889  65.663301  46.537560  52.461937  3.632010       1.0              NaN              NaN              NaN                NaN                NaN                NaN                 NaN                  NaN                  NaN                  NaN                 NaN                  NaN                  NaN                  NaN                 NaN                  NaN                  NaN                  NaN                   NaN                    NaN                    NaN                    NaN                   NaN                    NaN                    NaN                    NaN                   NaN                    NaN                    NaN                    NaN\n",
       "2020-05-12 17:45:00  14.873889  13.656667  13.764445  65.612506  46.535422  52.466265  3.460010       1.0              NaN              NaN              NaN                NaN                NaN                NaN                 NaN                  NaN                  NaN                  NaN                 NaN                  NaN                  NaN                  NaN                 NaN                  NaN                  NaN                  NaN                   NaN                    NaN                    NaN                    NaN                   NaN                    NaN                    NaN                    NaN                   NaN                    NaN                    NaN                    NaN\n",
       "2020-05-12 18:15:00  14.684444  13.716667  13.799444  65.597785  46.529839  52.468355  3.316740       1.0        14.863889        13.646297        13.760926          65.624530          46.534273          52.465519                 NaN                  NaN                  NaN                  NaN                 NaN                  NaN                  NaN                  NaN                 NaN                  NaN                  NaN                  NaN                   NaN                    NaN                    NaN                    NaN                   NaN                    NaN                    NaN                    NaN                   NaN                    NaN                    NaN                    NaN\n",
       "2020-05-12 18:45:00  14.414445  13.795555  13.822223  65.589275  46.518010  52.466118  2.983400       1.0        14.751528        13.683611        13.776250          65.615717          46.530208          52.465669                 NaN                  NaN                  NaN                  NaN                 NaN                  NaN                  NaN                  NaN                 NaN                  NaN                  NaN                  NaN                   NaN                    NaN                    NaN                    NaN                   NaN                    NaN                    NaN                    NaN                   NaN                    NaN                    NaN                    NaN\n",
       "2020-05-12 19:15:00  14.197222  13.800556  13.857777  65.586169  46.512585  52.464174  3.217090       1.0        14.640667        13.707000        13.792556          65.609807          46.526683          52.465370                 NaN                  NaN                  NaN                  NaN                 NaN                  NaN                  NaN                  NaN                 NaN                  NaN                  NaN                  NaN                   NaN                    NaN                    NaN                    NaN                   NaN                    NaN                    NaN                    NaN                   NaN                    NaN                    NaN                    NaN\n",
       "...                        ...        ...        ...        ...        ...        ...       ...       ...              ...              ...              ...                ...                ...                ...                 ...                  ...                  ...                  ...                 ...                  ...                  ...                  ...                 ...                  ...                  ...                  ...                   ...                    ...                    ...                    ...                   ...                    ...                    ...                    ...                   ...                    ...                    ...                    ...\n",
       "2020-09-14 12:45:00  22.236111  18.966667  19.267777  42.371253  34.664840  50.532755       NaN       1.0        19.549815        18.629444        19.335740          42.019070          34.526365          50.574880           17.288241            17.405093            18.454445            19.873426           18.632593            19.266389            20.109815            21.038426           19.622222            19.986667            20.310185            20.505185             41.631201              41.510278              41.714914              41.980119             34.417045              34.452318              34.652830              34.847096             50.622729              50.623833              50.636404              50.638125\n",
       "2020-09-14 13:15:00  23.731112  19.304445  19.268888  42.586290  34.679545  50.511786 -0.287597       1.0        20.511111        18.767778        19.308981          42.149717          34.569214          50.557775           17.441852            17.277315            18.264074            19.592593           18.571296            19.134907            19.970555            20.873518           19.570371            19.920185            20.266018            20.483704             41.675067              41.503796              41.677559              41.930630             34.416592              34.438746              34.622427              34.802301             50.616111              50.627963              50.634788              50.638766\n",
       "2020-09-14 13:45:00  25.012222  19.791111  19.283333  42.788869  34.680512  50.478312 -0.266890       1.0        21.630092        18.983148        19.292037          42.304477          34.610154          50.538658           17.642037            17.190926            18.075741            19.336574           18.533981            19.010371            19.826759            20.714537           19.518148            19.855278            20.215555            20.458240             41.723575              41.502647              41.645955              41.885941             34.419017              34.430309              34.587465              34.757665             50.608003              50.631041              50.632863              50.638767\n",
       "2020-09-14 14:15:00  26.025556  20.262778  19.331667  42.943064  34.711057  50.448827 -0.303607       1.0        22.852963        19.276019        19.290370          42.475001          34.650272          50.516578           17.894907            17.145278            17.893611            19.094722           18.508889            18.902778            19.683981            20.553056           19.465648            19.795185            20.160833            20.428148             41.777161              41.513130              41.615271              41.838034             34.428101              34.425233              34.548560              34.721642             50.602997              50.630528              50.629425              50.638613\n",
       "2020-09-14 14:45:00  26.849445  20.754444  19.394444  43.036039  34.800325  50.410526 -0.247803       1.0        24.091296        19.634630        19.305092          42.646440          34.692378          50.489630           18.252037            17.143333            17.715000            18.871111           18.512870            18.802963            19.540741            20.401944           19.417037            19.733148            20.107871            20.392777             41.839412              41.537598              41.581659              41.793208             34.450561              34.421641              34.509296              34.694269             50.596502              50.630066              50.623116              50.640741\n",
       "\n",
       "[5996 rows x 38 columns]"
      ]
     },
     "metadata": {},
     "output_type": "display_data"
    },
    {
     "data": {
      "text/plain": [
       "[('TS_0.05', '-'),\n",
       " ('TS_0.15', '-'),\n",
       " ('TS_0.30', '-'),\n",
       " ('WFPS_0.05', '-'),\n",
       " ('WFPS_0.15', '-'),\n",
       " ('WFPS_0.30', '-'),\n",
       " ('target', '-'),\n",
       " ('.daynight', '-'),\n",
       " ('.TS_0.05.r-mean6', '-'),\n",
       " ('.TS_0.15.r-mean6', '-'),\n",
       " ('.TS_0.30.r-mean6', '-'),\n",
       " ('.WFPS_0.05.r-mean6', '-'),\n",
       " ('.WFPS_0.15.r-mean6', '-'),\n",
       " ('.WFPS_0.30.r-mean6', '-'),\n",
       " ('..TS_0.05.r-mean6+6', '-'),\n",
       " ('..TS_0.05.r-mean6+12', '-'),\n",
       " ('..TS_0.05.r-mean6+18', '-'),\n",
       " ('..TS_0.05.r-mean6+24', '-'),\n",
       " ('..TS_0.15.r-mean6+6', '-'),\n",
       " ('..TS_0.15.r-mean6+12', '-'),\n",
       " ('..TS_0.15.r-mean6+18', '-'),\n",
       " ('..TS_0.15.r-mean6+24', '-'),\n",
       " ('..TS_0.30.r-mean6+6', '-'),\n",
       " ('..TS_0.30.r-mean6+12', '-'),\n",
       " ('..TS_0.30.r-mean6+18', '-'),\n",
       " ('..TS_0.30.r-mean6+24', '-'),\n",
       " ('..WFPS_0.05.r-mean6+6', '-'),\n",
       " ('..WFPS_0.05.r-mean6+12', '-'),\n",
       " ('..WFPS_0.05.r-mean6+18', '-'),\n",
       " ('..WFPS_0.05.r-mean6+24', '-'),\n",
       " ('..WFPS_0.15.r-mean6+6', '-'),\n",
       " ('..WFPS_0.15.r-mean6+12', '-'),\n",
       " ('..WFPS_0.15.r-mean6+18', '-'),\n",
       " ('..WFPS_0.15.r-mean6+24', '-'),\n",
       " ('..WFPS_0.30.r-mean6+6', '-'),\n",
       " ('..WFPS_0.30.r-mean6+12', '-'),\n",
       " ('..WFPS_0.30.r-mean6+18', '-'),\n",
       " ('..WFPS_0.30.r-mean6+24', '-')]"
      ]
     },
     "execution_count": 57,
     "metadata": {},
     "output_type": "execute_result"
    }
   ],
   "source": [
    "# [print(col) for col in rfts.df.columns]\n",
    "pd.set_option('display.max_columns', 99)\n",
    "pd.set_option('display.max_rows', 99)\n",
    "display(rfts.df)\n",
    "columns_in_dataset = list(rfts.df.columns)\n",
    "# [print(col) for col in columns_in_dataset]\n",
    "columns_in_dataset"
   ]
  },
  {
   "cell_type": "code",
   "execution_count": 58,
   "id": "e00305fc-d808-485e-94d3-19f6f5b92cd0",
   "metadata": {},
   "outputs": [],
   "source": [
    "# rfts.df.plot(figsize=(16, 9), subplots=True);"
   ]
  },
  {
   "cell_type": "markdown",
   "id": "d970321e",
   "metadata": {},
   "source": [
    "## Feature Reduction\n",
    "Identify most important features for predicting target."
   ]
  },
  {
   "cell_type": "code",
   "execution_count": 59,
   "id": "6ff11fcf",
   "metadata": {},
   "outputs": [
    {
     "name": "stdout",
     "output_type": "stream",
     "text": [
      "\n",
      "\n",
      "[FEATURE REDUCTION]    START ==============================\n",
      "Fitting estimator with 37 features.\n",
      "Fitting estimator with 36 features.\n",
      "Fitting estimator with 35 features.\n",
      "Fitting estimator with 34 features.\n",
      "Fitting estimator with 33 features.\n",
      "Fitting estimator with 32 features.\n",
      "Fitting estimator with 31 features.\n",
      "Fitting estimator with 30 features.\n",
      "[FEATURE REDUCTION]    Parameters:  {'cv': TimeSeriesSplit(max_train_size=None, n_splits=5), 'estimator__bootstrap': True, 'estimator__ccp_alpha': 0.0, 'estimator__criterion': 'mse', 'estimator__max_depth': None, 'estimator__max_features': 'auto', 'estimator__max_leaf_nodes': None, 'estimator__max_samples': None, 'estimator__min_impurity_decrease': 0.0, 'estimator__min_impurity_split': None, 'estimator__min_samples_leaf': 1, 'estimator__min_samples_split': 2, 'estimator__min_weight_fraction_leaf': 0.0, 'estimator__n_estimators': 100, 'estimator__n_jobs': -1, 'estimator__oob_score': False, 'estimator__random_state': 42, 'estimator__verbose': 0, 'estimator__warm_start': False, 'estimator': RandomForestRegressor(n_jobs=-1, random_state=42), 'min_features_to_select': 20, 'n_jobs': -1, 'scoring': 'explained_variance', 'step': 1, 'verbose': 1}\n",
      "[FEATURE REDUCTION]    Number of features *before* reduction:  37\n",
      "[FEATURE REDUCTION]    Number of features *after* reduction:  22\n",
      "[FEATURE REDUCTION]    Most important features:  [('..WFPS_0.05.r-mean6+12', '-'), ('..WFPS_0.05.r-mean6+18', '-'), ('..TS_0.30.r-mean6+24', '-'), ('..TS_0.05.r-mean6+18', '-'), ('..WFPS_0.05.r-mean6+24', '-'), ('..WFPS_0.15.r-mean6+12', '-'), ('..TS_0.30.r-mean6+12', '-'), ('..WFPS_0.15.r-mean6+18', '-'), ('..WFPS_0.15.r-mean6+6', '-'), ('TS_0.30', '-'), ('..WFPS_0.15.r-mean6+24', '-'), ('..TS_0.30.r-mean6+18', '-'), ('..TS_0.30.r-mean6+6', '-'), ('.TS_0.30.r-mean6', '-'), ('TS_0.05', '-'), ('.WFPS_0.15.r-mean6', '-'), ('WFPS_0.15', '-'), ('..WFPS_0.30.r-mean6+12', '-'), ('..WFPS_0.30.r-mean6+18', '-'), ('..WFPS_0.30.r-mean6+24', '-'), ('..TS_0.05.r-mean6+12', '-'), ('..TS_0.05.r-mean6+24', '-')]\n",
      "                        feature  importance\n",
      "18  (..WFPS_0.05.r-mean6+12, -)    0.250989\n",
      "19  (..WFPS_0.05.r-mean6+18, -)    0.137201\n",
      "16    (..TS_0.30.r-mean6+24, -)    0.135662\n",
      "10    (..TS_0.05.r-mean6+18, -)    0.052487\n",
      "20  (..WFPS_0.05.r-mean6+24, -)    0.039947\n",
      "22  (..WFPS_0.15.r-mean6+12, -)    0.032169\n",
      "14    (..TS_0.30.r-mean6+12, -)    0.030983\n",
      "23  (..WFPS_0.15.r-mean6+18, -)    0.028047\n",
      "21   (..WFPS_0.15.r-mean6+6, -)    0.025207\n",
      "1                  (TS_0.30, -)    0.021016\n",
      "24  (..WFPS_0.15.r-mean6+24, -)    0.019478\n",
      "15    (..TS_0.30.r-mean6+18, -)    0.018120\n",
      "13     (..TS_0.30.r-mean6+6, -)    0.017703\n",
      "6         (.TS_0.30.r-mean6, -)    0.017266\n",
      "0                  (TS_0.05, -)    0.016970\n",
      "7       (.WFPS_0.15.r-mean6, -)    0.016687\n",
      "3                (WFPS_0.15, -)    0.016465\n",
      "26  (..WFPS_0.30.r-mean6+12, -)    0.014469\n",
      "27  (..WFPS_0.30.r-mean6+18, -)    0.013884\n",
      "28  (..WFPS_0.30.r-mean6+24, -)    0.013431\n",
      "9     (..TS_0.05.r-mean6+12, -)    0.012866\n",
      "11    (..TS_0.05.r-mean6+24, -)    0.010324\n",
      "[FEATURE REDUCTION]    ============================== END\n",
      "\n"
     ]
    }
   ],
   "source": [
    "rfts.feature_reduction()\n",
    "reduced_df, feat_reduction_results = rfts.get_reduced_dataset()"
   ]
  },
  {
   "cell_type": "code",
   "execution_count": 60,
   "id": "8c175a0f-7294-41f6-a6bc-bdc3e210aefc",
   "metadata": {},
   "outputs": [
    {
     "data": {
      "text/html": [
       "<div>\n",
       "<style scoped>\n",
       "    .dataframe tbody tr th:only-of-type {\n",
       "        vertical-align: middle;\n",
       "    }\n",
       "\n",
       "    .dataframe tbody tr th {\n",
       "        vertical-align: top;\n",
       "    }\n",
       "\n",
       "    .dataframe thead th {\n",
       "        text-align: right;\n",
       "    }\n",
       "</style>\n",
       "<table border=\"1\" class=\"dataframe\">\n",
       "  <thead>\n",
       "    <tr style=\"text-align: right;\">\n",
       "      <th></th>\n",
       "      <th>feature</th>\n",
       "      <th>importance</th>\n",
       "    </tr>\n",
       "  </thead>\n",
       "  <tbody>\n",
       "    <tr>\n",
       "      <th>18</th>\n",
       "      <td>(..WFPS_0.05.r-mean6+12, -)</td>\n",
       "      <td>0.250989</td>\n",
       "    </tr>\n",
       "    <tr>\n",
       "      <th>19</th>\n",
       "      <td>(..WFPS_0.05.r-mean6+18, -)</td>\n",
       "      <td>0.137201</td>\n",
       "    </tr>\n",
       "    <tr>\n",
       "      <th>16</th>\n",
       "      <td>(..TS_0.30.r-mean6+24, -)</td>\n",
       "      <td>0.135662</td>\n",
       "    </tr>\n",
       "    <tr>\n",
       "      <th>10</th>\n",
       "      <td>(..TS_0.05.r-mean6+18, -)</td>\n",
       "      <td>0.052487</td>\n",
       "    </tr>\n",
       "    <tr>\n",
       "      <th>20</th>\n",
       "      <td>(..WFPS_0.05.r-mean6+24, -)</td>\n",
       "      <td>0.039947</td>\n",
       "    </tr>\n",
       "    <tr>\n",
       "      <th>22</th>\n",
       "      <td>(..WFPS_0.15.r-mean6+12, -)</td>\n",
       "      <td>0.032169</td>\n",
       "    </tr>\n",
       "    <tr>\n",
       "      <th>14</th>\n",
       "      <td>(..TS_0.30.r-mean6+12, -)</td>\n",
       "      <td>0.030983</td>\n",
       "    </tr>\n",
       "    <tr>\n",
       "      <th>23</th>\n",
       "      <td>(..WFPS_0.15.r-mean6+18, -)</td>\n",
       "      <td>0.028047</td>\n",
       "    </tr>\n",
       "    <tr>\n",
       "      <th>21</th>\n",
       "      <td>(..WFPS_0.15.r-mean6+6, -)</td>\n",
       "      <td>0.025207</td>\n",
       "    </tr>\n",
       "    <tr>\n",
       "      <th>1</th>\n",
       "      <td>(TS_0.30, -)</td>\n",
       "      <td>0.021016</td>\n",
       "    </tr>\n",
       "    <tr>\n",
       "      <th>24</th>\n",
       "      <td>(..WFPS_0.15.r-mean6+24, -)</td>\n",
       "      <td>0.019478</td>\n",
       "    </tr>\n",
       "    <tr>\n",
       "      <th>15</th>\n",
       "      <td>(..TS_0.30.r-mean6+18, -)</td>\n",
       "      <td>0.018120</td>\n",
       "    </tr>\n",
       "    <tr>\n",
       "      <th>13</th>\n",
       "      <td>(..TS_0.30.r-mean6+6, -)</td>\n",
       "      <td>0.017703</td>\n",
       "    </tr>\n",
       "    <tr>\n",
       "      <th>6</th>\n",
       "      <td>(.TS_0.30.r-mean6, -)</td>\n",
       "      <td>0.017266</td>\n",
       "    </tr>\n",
       "    <tr>\n",
       "      <th>0</th>\n",
       "      <td>(TS_0.05, -)</td>\n",
       "      <td>0.016970</td>\n",
       "    </tr>\n",
       "    <tr>\n",
       "      <th>7</th>\n",
       "      <td>(.WFPS_0.15.r-mean6, -)</td>\n",
       "      <td>0.016687</td>\n",
       "    </tr>\n",
       "    <tr>\n",
       "      <th>3</th>\n",
       "      <td>(WFPS_0.15, -)</td>\n",
       "      <td>0.016465</td>\n",
       "    </tr>\n",
       "    <tr>\n",
       "      <th>26</th>\n",
       "      <td>(..WFPS_0.30.r-mean6+12, -)</td>\n",
       "      <td>0.014469</td>\n",
       "    </tr>\n",
       "    <tr>\n",
       "      <th>27</th>\n",
       "      <td>(..WFPS_0.30.r-mean6+18, -)</td>\n",
       "      <td>0.013884</td>\n",
       "    </tr>\n",
       "    <tr>\n",
       "      <th>28</th>\n",
       "      <td>(..WFPS_0.30.r-mean6+24, -)</td>\n",
       "      <td>0.013431</td>\n",
       "    </tr>\n",
       "    <tr>\n",
       "      <th>9</th>\n",
       "      <td>(..TS_0.05.r-mean6+12, -)</td>\n",
       "      <td>0.012866</td>\n",
       "    </tr>\n",
       "    <tr>\n",
       "      <th>11</th>\n",
       "      <td>(..TS_0.05.r-mean6+24, -)</td>\n",
       "      <td>0.010324</td>\n",
       "    </tr>\n",
       "  </tbody>\n",
       "</table>\n",
       "</div>"
      ],
      "text/plain": [
       "                        feature  importance\n",
       "18  (..WFPS_0.05.r-mean6+12, -)    0.250989\n",
       "19  (..WFPS_0.05.r-mean6+18, -)    0.137201\n",
       "16    (..TS_0.30.r-mean6+24, -)    0.135662\n",
       "10    (..TS_0.05.r-mean6+18, -)    0.052487\n",
       "20  (..WFPS_0.05.r-mean6+24, -)    0.039947\n",
       "22  (..WFPS_0.15.r-mean6+12, -)    0.032169\n",
       "14    (..TS_0.30.r-mean6+12, -)    0.030983\n",
       "23  (..WFPS_0.15.r-mean6+18, -)    0.028047\n",
       "21   (..WFPS_0.15.r-mean6+6, -)    0.025207\n",
       "1                  (TS_0.30, -)    0.021016\n",
       "24  (..WFPS_0.15.r-mean6+24, -)    0.019478\n",
       "15    (..TS_0.30.r-mean6+18, -)    0.018120\n",
       "13     (..TS_0.30.r-mean6+6, -)    0.017703\n",
       "6         (.TS_0.30.r-mean6, -)    0.017266\n",
       "0                  (TS_0.05, -)    0.016970\n",
       "7       (.WFPS_0.15.r-mean6, -)    0.016687\n",
       "3                (WFPS_0.15, -)    0.016465\n",
       "26  (..WFPS_0.30.r-mean6+12, -)    0.014469\n",
       "27  (..WFPS_0.30.r-mean6+18, -)    0.013884\n",
       "28  (..WFPS_0.30.r-mean6+24, -)    0.013431\n",
       "9     (..TS_0.05.r-mean6+12, -)    0.012866\n",
       "11    (..TS_0.05.r-mean6+24, -)    0.010324"
      ]
     },
     "execution_count": 60,
     "metadata": {},
     "output_type": "execute_result"
    }
   ],
   "source": [
    "feat_reduction_results['feature_importances_after'].loc[feat_reduction_results['feature_importances_after']['importance'] > 0.01]"
   ]
  },
  {
   "cell_type": "markdown",
   "id": "a729863d-b656-45b6-abf1-308a8e58cef8",
   "metadata": {},
   "source": [
    "## Build Final Model"
   ]
  },
  {
   "cell_type": "code",
   "execution_count": 61,
   "id": "785922e1",
   "metadata": {},
   "outputs": [
    {
     "name": "stdout",
     "output_type": "stream",
     "text": [
      "\n",
      "\n",
      "[FINAL MODEL]    START ==============================\n",
      "[FINAL MODEL]    Target column:  ('target', '-')  (3457 values)\n",
      "[FINAL MODEL]    Number of features used in model:  22\n",
      "[FINAL MODEL]    Names of features used in model:  [('..WFPS_0.05.r-mean6+12', '-'), ('..WFPS_0.05.r-mean6+18', '-'), ('..TS_0.30.r-mean6+24', '-'), ('..TS_0.05.r-mean6+18', '-'), ('..WFPS_0.05.r-mean6+24', '-'), ('..WFPS_0.15.r-mean6+12', '-'), ('..TS_0.30.r-mean6+12', '-'), ('..WFPS_0.15.r-mean6+18', '-'), ('..WFPS_0.15.r-mean6+6', '-'), ('TS_0.30', '-'), ('..WFPS_0.15.r-mean6+24', '-'), ('..TS_0.30.r-mean6+18', '-'), ('..TS_0.30.r-mean6+6', '-'), ('.TS_0.30.r-mean6', '-'), ('TS_0.05', '-'), ('.WFPS_0.15.r-mean6', '-'), ('WFPS_0.15', '-'), ('..WFPS_0.30.r-mean6+12', '-'), ('..WFPS_0.30.r-mean6+18', '-'), ('..WFPS_0.30.r-mean6+24', '-'), ('..TS_0.05.r-mean6+12', '-'), ('..TS_0.05.r-mean6+24', '-')]\n",
      "[FINAL MODEL]    Model parameters:  {'bootstrap': True, 'ccp_alpha': 0.0, 'criterion': 'mse', 'max_depth': None, 'max_features': 'auto', 'max_leaf_nodes': None, 'max_samples': None, 'min_impurity_decrease': 0.0, 'min_impurity_split': None, 'min_samples_leaf': 1, 'min_samples_split': 2, 'min_weight_fraction_leaf': 0.0, 'n_estimators': 1000, 'n_jobs': -1, 'oob_score': False, 'random_state': 42, 'verbose': 0, 'warm_start': False}\n",
      "[FINAL MODEL]    Model MAE:  0.13702574405253057\n",
      "[FINAL MODEL]    Model MAPE:  4.923%\n",
      "[FINAL MODEL]    Model R2:  0.9926603374654566\n",
      "[FINAL MODEL]    Model features:\n",
      "                            Var  Importance\n",
      "0   (..WFPS_0.05.r-mean6+12, -)        0.29\n",
      "1     (..TS_0.30.r-mean6+24, -)        0.14\n",
      "2   (..WFPS_0.05.r-mean6+18, -)        0.10\n",
      "3     (..TS_0.05.r-mean6+18, -)        0.05\n",
      "4   (..WFPS_0.05.r-mean6+24, -)        0.05\n",
      "5   (..WFPS_0.15.r-mean6+12, -)        0.03\n",
      "6     (..TS_0.30.r-mean6+12, -)        0.03\n",
      "7   (..WFPS_0.15.r-mean6+18, -)        0.03\n",
      "8    (..WFPS_0.15.r-mean6+6, -)        0.03\n",
      "9                  (TS_0.30, -)        0.02\n",
      "10  (..WFPS_0.15.r-mean6+24, -)        0.02\n",
      "11    (..TS_0.30.r-mean6+18, -)        0.02\n",
      "12     (..TS_0.30.r-mean6+6, -)        0.02\n",
      "13        (.TS_0.30.r-mean6, -)        0.02\n",
      "14                 (TS_0.05, -)        0.02\n",
      "15      (.WFPS_0.15.r-mean6, -)        0.02\n",
      "16               (WFPS_0.15, -)        0.02\n",
      "17  (..WFPS_0.30.r-mean6+12, -)        0.02\n",
      "18  (..WFPS_0.30.r-mean6+18, -)        0.02\n",
      "19  (..WFPS_0.30.r-mean6+24, -)        0.02\n",
      "20    (..TS_0.05.r-mean6+24, -)        0.02\n",
      "21    (..TS_0.05.r-mean6+12, -)        0.01\n",
      "[FINAL MODEL]    ============================== END\n",
      "\n"
     ]
    }
   ],
   "source": [
    "rfts.build_final_model()"
   ]
  },
  {
   "cell_type": "markdown",
   "id": "6b6a2df9",
   "metadata": {},
   "source": [
    "## Fill gaps\n",
    "Fill gaps in target variable, using the model with reduced features."
   ]
  },
  {
   "cell_type": "code",
   "execution_count": 62,
   "id": "c3012570",
   "metadata": {
    "tags": []
   },
   "outputs": [
    {
     "name": "stdout",
     "output_type": "stream",
     "text": [
      "\n",
      "\n",
      "[GAPFILLING]    START ==============================\n",
      "Added timestamp as columns: [('.DOY', '[day_of_year]'), ('.WEEK', '[week_of_year]'), ('.MONTH', '[month]'), ('.HOUR', '[hour]')]\n",
      "[GAPFILLING]    feature_names:  [('..WFPS_0.05.r-mean6+12', '-'), ('..WFPS_0.05.r-mean6+18', '-'), ('..TS_0.30.r-mean6+24', '-'), ('..TS_0.05.r-mean6+18', '-'), ('..WFPS_0.05.r-mean6+24', '-'), ('..WFPS_0.15.r-mean6+12', '-'), ('..TS_0.30.r-mean6+12', '-'), ('..WFPS_0.15.r-mean6+18', '-'), ('..WFPS_0.15.r-mean6+6', '-'), ('TS_0.30', '-'), ('..WFPS_0.15.r-mean6+24', '-'), ('..TS_0.30.r-mean6+18', '-'), ('..TS_0.30.r-mean6+6', '-'), ('.TS_0.30.r-mean6', '-'), ('TS_0.05', '-'), ('.WFPS_0.15.r-mean6', '-'), ('WFPS_0.15', '-'), ('..WFPS_0.30.r-mean6+12', '-'), ('..WFPS_0.30.r-mean6+18', '-'), ('..WFPS_0.30.r-mean6+24', '-'), ('..TS_0.05.r-mean6+12', '-'), ('..TS_0.05.r-mean6+24', '-')]\n",
      "[GAPFILLING]    num_features:  22\n",
      "[GAPFILLING]    first_timestamp:  2020-05-12 17:15:00\n",
      "[GAPFILLING]    last_timestamp:  2020-09-14 14:45:00\n",
      "[GAPFILLING]    max_potential_vals:  5996\n",
      "[GAPFILLING]    target_numvals:  3468\n",
      "[GAPFILLING]    target_numgaps:  2528\n",
      "[GAPFILLING]    target_gapfilled_numvals:  5996\n",
      "[GAPFILLING]    target_gapfilled_numgaps:  0\n",
      "[GAPFILLING]    target_gapfilled_flag_notfilled:  3468\n",
      "[GAPFILLING]    target_gapfilled_flag_with_hq:  2513\n",
      "[GAPFILLING]    target_gapfilled_flag_with_fallback:  15\n",
      "[GAPFILLING]    predictions_hq_numvals:  5970\n",
      "[GAPFILLING]    predictions_hq_numgaps:  26\n",
      "[GAPFILLING]    predictions_fallback_numvals:  5996\n",
      "[GAPFILLING]    predictions_fallback_numgaps:  0\n",
      "[GAPFILLING]    ============================== END\n",
      "\n"
     ]
    }
   ],
   "source": [
    "rfts.gapfilling()\n",
    "gapfilled_df, gf_results = rfts.get_gapfilled_dataset()"
   ]
  },
  {
   "cell_type": "code",
   "execution_count": 63,
   "id": "01c8af47-91a6-4bb3-a236-da55ee2db049",
   "metadata": {},
   "outputs": [
    {
     "data": {
      "text/html": [
       "<div>\n",
       "<style scoped>\n",
       "    .dataframe tbody tr th:only-of-type {\n",
       "        vertical-align: middle;\n",
       "    }\n",
       "\n",
       "    .dataframe tbody tr th {\n",
       "        vertical-align: top;\n",
       "    }\n",
       "\n",
       "    .dataframe thead tr th {\n",
       "        text-align: left;\n",
       "    }\n",
       "</style>\n",
       "<table border=\"1\" class=\"dataframe\">\n",
       "  <thead>\n",
       "    <tr>\n",
       "      <th></th>\n",
       "      <th>target</th>\n",
       "      <th>.predictions</th>\n",
       "      <th>.gap_predictions</th>\n",
       "      <th>QCF_target#gfRF</th>\n",
       "      <th>target#gfRF</th>\n",
       "      <th>.predictions_fallback</th>\n",
       "      <th>.gapfilled_cumulative</th>\n",
       "    </tr>\n",
       "    <tr>\n",
       "      <th></th>\n",
       "      <th>-</th>\n",
       "      <th>[aux]</th>\n",
       "      <th>[aux]</th>\n",
       "      <th>[0=measured]</th>\n",
       "      <th>-</th>\n",
       "      <th>[aux]</th>\n",
       "      <th>[aux]</th>\n",
       "    </tr>\n",
       "  </thead>\n",
       "  <tbody>\n",
       "    <tr>\n",
       "      <th>2020-05-12 17:15:00</th>\n",
       "      <td>3.632010</td>\n",
       "      <td>NaN</td>\n",
       "      <td>NaN</td>\n",
       "      <td>0</td>\n",
       "      <td>3.632010</td>\n",
       "      <td>3.483271</td>\n",
       "      <td>3.632010</td>\n",
       "    </tr>\n",
       "    <tr>\n",
       "      <th>2020-05-12 17:45:00</th>\n",
       "      <td>3.460010</td>\n",
       "      <td>NaN</td>\n",
       "      <td>NaN</td>\n",
       "      <td>0</td>\n",
       "      <td>3.460010</td>\n",
       "      <td>3.483271</td>\n",
       "      <td>7.092020</td>\n",
       "    </tr>\n",
       "    <tr>\n",
       "      <th>2020-05-12 18:15:00</th>\n",
       "      <td>3.316740</td>\n",
       "      <td>NaN</td>\n",
       "      <td>NaN</td>\n",
       "      <td>0</td>\n",
       "      <td>3.316740</td>\n",
       "      <td>3.183314</td>\n",
       "      <td>10.408760</td>\n",
       "    </tr>\n",
       "    <tr>\n",
       "      <th>2020-05-12 18:45:00</th>\n",
       "      <td>2.983400</td>\n",
       "      <td>NaN</td>\n",
       "      <td>NaN</td>\n",
       "      <td>0</td>\n",
       "      <td>2.983400</td>\n",
       "      <td>3.183314</td>\n",
       "      <td>13.392160</td>\n",
       "    </tr>\n",
       "    <tr>\n",
       "      <th>2020-05-12 19:15:00</th>\n",
       "      <td>3.217090</td>\n",
       "      <td>NaN</td>\n",
       "      <td>NaN</td>\n",
       "      <td>0</td>\n",
       "      <td>3.217090</td>\n",
       "      <td>2.926555</td>\n",
       "      <td>16.609250</td>\n",
       "    </tr>\n",
       "    <tr>\n",
       "      <th>...</th>\n",
       "      <td>...</td>\n",
       "      <td>...</td>\n",
       "      <td>...</td>\n",
       "      <td>...</td>\n",
       "      <td>...</td>\n",
       "      <td>...</td>\n",
       "      <td>...</td>\n",
       "    </tr>\n",
       "    <tr>\n",
       "      <th>2020-09-14 12:45:00</th>\n",
       "      <td>NaN</td>\n",
       "      <td>-0.364036</td>\n",
       "      <td>-0.364036</td>\n",
       "      <td>1</td>\n",
       "      <td>-0.364036</td>\n",
       "      <td>-0.380000</td>\n",
       "      <td>8951.252552</td>\n",
       "    </tr>\n",
       "    <tr>\n",
       "      <th>2020-09-14 13:15:00</th>\n",
       "      <td>-0.287597</td>\n",
       "      <td>-0.288679</td>\n",
       "      <td>NaN</td>\n",
       "      <td>0</td>\n",
       "      <td>-0.287597</td>\n",
       "      <td>-0.308036</td>\n",
       "      <td>8950.964955</td>\n",
       "    </tr>\n",
       "    <tr>\n",
       "      <th>2020-09-14 13:45:00</th>\n",
       "      <td>-0.266890</td>\n",
       "      <td>-0.262679</td>\n",
       "      <td>NaN</td>\n",
       "      <td>0</td>\n",
       "      <td>-0.266890</td>\n",
       "      <td>-0.308036</td>\n",
       "      <td>8950.698065</td>\n",
       "    </tr>\n",
       "    <tr>\n",
       "      <th>2020-09-14 14:15:00</th>\n",
       "      <td>-0.303607</td>\n",
       "      <td>-0.320533</td>\n",
       "      <td>NaN</td>\n",
       "      <td>0</td>\n",
       "      <td>-0.303607</td>\n",
       "      <td>-0.302381</td>\n",
       "      <td>8950.394458</td>\n",
       "    </tr>\n",
       "    <tr>\n",
       "      <th>2020-09-14 14:45:00</th>\n",
       "      <td>-0.247803</td>\n",
       "      <td>-0.284260</td>\n",
       "      <td>NaN</td>\n",
       "      <td>0</td>\n",
       "      <td>-0.247803</td>\n",
       "      <td>-0.302381</td>\n",
       "      <td>8950.146655</td>\n",
       "    </tr>\n",
       "  </tbody>\n",
       "</table>\n",
       "<p>5996 rows × 7 columns</p>\n",
       "</div>"
      ],
      "text/plain": [
       "                       target .predictions .gap_predictions QCF_target#gfRF target#gfRF .predictions_fallback .gapfilled_cumulative\n",
       "                            -        [aux]            [aux]    [0=measured]           -                 [aux]                 [aux]\n",
       "2020-05-12 17:15:00  3.632010          NaN              NaN               0    3.632010              3.483271              3.632010\n",
       "2020-05-12 17:45:00  3.460010          NaN              NaN               0    3.460010              3.483271              7.092020\n",
       "2020-05-12 18:15:00  3.316740          NaN              NaN               0    3.316740              3.183314             10.408760\n",
       "2020-05-12 18:45:00  2.983400          NaN              NaN               0    2.983400              3.183314             13.392160\n",
       "2020-05-12 19:15:00  3.217090          NaN              NaN               0    3.217090              2.926555             16.609250\n",
       "...                       ...          ...              ...             ...         ...                   ...                   ...\n",
       "2020-09-14 12:45:00       NaN    -0.364036        -0.364036               1   -0.364036             -0.380000           8951.252552\n",
       "2020-09-14 13:15:00 -0.287597    -0.288679              NaN               0   -0.287597             -0.308036           8950.964955\n",
       "2020-09-14 13:45:00 -0.266890    -0.262679              NaN               0   -0.266890             -0.308036           8950.698065\n",
       "2020-09-14 14:15:00 -0.303607    -0.320533              NaN               0   -0.303607             -0.302381           8950.394458\n",
       "2020-09-14 14:45:00 -0.247803    -0.284260              NaN               0   -0.247803             -0.302381           8950.146655\n",
       "\n",
       "[5996 rows x 7 columns]"
      ]
     },
     "execution_count": 63,
     "metadata": {},
     "output_type": "execute_result"
    }
   ],
   "source": [
    "gapfilled_df"
   ]
  },
  {
   "cell_type": "markdown",
   "id": "dfc4cb26-63e6-4c5d-b3e1-d4778cc39c35",
   "metadata": {},
   "source": [
    "## Save To File"
   ]
  },
  {
   "cell_type": "code",
   "execution_count": 64,
   "id": "7c401c72",
   "metadata": {},
   "outputs": [],
   "source": [
    "gapfilled_df.to_csv(OUTFILE)"
   ]
  },
  {
   "cell_type": "markdown",
   "id": "dea0ccae-a44a-4bd7-9fb1-0a4b2d8de5e5",
   "metadata": {},
   "source": [
    "## Summary"
   ]
  },
  {
   "cell_type": "code",
   "execution_count": 65,
   "id": "a0e53c3d-9c5d-40e2-9707-75e507499382",
   "metadata": {},
   "outputs": [
    {
     "data": {
      "text/plain": [
       "{'feature_names': [('..WFPS_0.05.r-mean6+12', '-'),\n",
       "  ('..WFPS_0.05.r-mean6+18', '-'),\n",
       "  ('..TS_0.30.r-mean6+24', '-'),\n",
       "  ('..TS_0.05.r-mean6+18', '-'),\n",
       "  ('..WFPS_0.05.r-mean6+24', '-'),\n",
       "  ('..WFPS_0.15.r-mean6+12', '-'),\n",
       "  ('..TS_0.30.r-mean6+12', '-'),\n",
       "  ('..WFPS_0.15.r-mean6+18', '-'),\n",
       "  ('..WFPS_0.15.r-mean6+6', '-'),\n",
       "  ('TS_0.30', '-'),\n",
       "  ('..WFPS_0.15.r-mean6+24', '-'),\n",
       "  ('..TS_0.30.r-mean6+18', '-'),\n",
       "  ('..TS_0.30.r-mean6+6', '-'),\n",
       "  ('.TS_0.30.r-mean6', '-'),\n",
       "  ('TS_0.05', '-'),\n",
       "  ('.WFPS_0.15.r-mean6', '-'),\n",
       "  ('WFPS_0.15', '-'),\n",
       "  ('..WFPS_0.30.r-mean6+12', '-'),\n",
       "  ('..WFPS_0.30.r-mean6+18', '-'),\n",
       "  ('..WFPS_0.30.r-mean6+24', '-'),\n",
       "  ('..TS_0.05.r-mean6+12', '-'),\n",
       "  ('..TS_0.05.r-mean6+24', '-')],\n",
       " 'num_features': 22,\n",
       " 'first_timestamp': Timestamp('2020-05-12 17:15:00'),\n",
       " 'last_timestamp': Timestamp('2020-09-14 14:45:00'),\n",
       " 'max_potential_vals': 5996,\n",
       " 'target_numvals': 3468,\n",
       " 'target_numgaps': 2528,\n",
       " 'target_gapfilled_numvals': 5996,\n",
       " 'target_gapfilled_numgaps': 0,\n",
       " 'target_gapfilled_flag_notfilled': 3468,\n",
       " 'target_gapfilled_flag_with_hq': 2513,\n",
       " 'target_gapfilled_flag_with_fallback': 15,\n",
       " 'predictions_hq_numvals': 5970,\n",
       " 'predictions_hq_numgaps': 26,\n",
       " 'predictions_fallback_numvals': 5996,\n",
       " 'predictions_fallback_numgaps': 0}"
      ]
     },
     "execution_count": 65,
     "metadata": {},
     "output_type": "execute_result"
    }
   ],
   "source": [
    "gf_results"
   ]
  },
  {
   "cell_type": "code",
   "execution_count": 66,
   "id": "ee2ed7a3",
   "metadata": {},
   "outputs": [
    {
     "data": {
      "text/plain": [
       "0    3468\n",
       "1    2513\n",
       "2      15\n",
       "Name: (QCF_target#gfRF, [0=measured]), dtype: int64"
      ]
     },
     "execution_count": 66,
     "metadata": {},
     "output_type": "execute_result"
    }
   ],
   "source": [
    "# Flag info\n",
    "_flag = gapfilled_df[('QCF_target#gfRF', '[0=measured]')]\n",
    "_unique_values = pd.unique(_flag.values.ravel())\n",
    "_counts_series = pd.Series(index=_unique_values, dtype=int)\n",
    "_counts_series = _flag.value_counts(dropna=False)\n",
    "_counts_series"
   ]
  },
  {
   "cell_type": "code",
   "execution_count": 67,
   "id": "7e15e399-3c47-464f-b197-d71dc8abca1f",
   "metadata": {},
   "outputs": [
    {
     "data": {
      "text/plain": [
       "[('target', '-'),\n",
       " ('.predictions', '[aux]'),\n",
       " ('.gap_predictions', '[aux]'),\n",
       " ('QCF_target#gfRF', '[0=measured]'),\n",
       " ('target#gfRF', '-'),\n",
       " ('.predictions_fallback', '[aux]'),\n",
       " ('.gapfilled_cumulative', '[aux]')]"
      ]
     },
     "execution_count": 67,
     "metadata": {},
     "output_type": "execute_result"
    }
   ],
   "source": [
    "list(gapfilled_df.columns)"
   ]
  },
  {
   "cell_type": "markdown",
   "id": "c281c79c",
   "metadata": {},
   "source": [
    "### Plot: Overview"
   ]
  },
  {
   "cell_type": "code",
   "execution_count": 68,
   "id": "d21471c1",
   "metadata": {},
   "outputs": [
    {
     "data": {
      "image/png": "[encoded data removed]",
      "text/plain": [
       "<Figure size 1584x648 with 7 Axes>"
      ]
     },
     "metadata": {
      "needs_background": "light"
     },
     "output_type": "display_data"
    }
   ],
   "source": [
    "gapfilled_df.plot(subplots=True, figsize=(22, 9));"
   ]
  },
  {
   "cell_type": "markdown",
   "id": "89eb14a6",
   "metadata": {},
   "source": [
    "### Plot: Predictions vs. Target"
   ]
  },
  {
   "cell_type": "code",
   "execution_count": 69,
   "id": "04126e68",
   "metadata": {},
   "outputs": [
    {
     "data": {
      "image/png": "[encoded data removed]",
      "text/plain": [
       "<Figure size 648x648 with 1 Axes>"
      ]
     },
     "metadata": {
      "needs_background": "light"
     },
     "output_type": "display_data"
    }
   ],
   "source": [
    "# Plot all targets vs. predictions\n",
    "x_col = ('target', '-')\n",
    "y_col = ('.predictions', '[aux]')\n",
    "plt.figure(figsize=(9, 9))\n",
    "plt.scatter(gapfilled_df[x_col], gapfilled_df[y_col])\n",
    "plt.title(\"Predicted (random forest) vs. measured with 1:1 line\")\n",
    "plt.axhline(0, color='black', lw=1)\n",
    "plt.plot([-20,20],[-20,20], 'black', linewidth=3, label=\"1:1 line\", ls=\"-\")\n",
    "plt.xlabel(\"measured\")\n",
    "plt.ylabel(\"predicted\")\n",
    "# plt.xlim(-70, 20)\n",
    "# plt.ylim(-70, 20)\n",
    "plt.grid()\n",
    "plt.legend();"
   ]
  },
  {
   "cell_type": "markdown",
   "id": "d9a7c60c",
   "metadata": {},
   "source": [
    "### Plot: Measured And Gap-filled Values"
   ]
  },
  {
   "cell_type": "code",
   "execution_count": 70,
   "id": "f8e209eb",
   "metadata": {},
   "outputs": [
    {
     "data": {
      "image/png": "[encoded data removed]",
      "text/plain": [
       "<Figure size 1728x648 with 1 Axes>"
      ]
     },
     "metadata": {
      "needs_background": "light"
     },
     "output_type": "display_data"
    }
   ],
   "source": [
    "# Plot all targets and predictions\n",
    "x_col = ('target', '-')\n",
    "y_col = ('.gap_predictions', '[aux]')\n",
    "plt.figure(figsize=(24, 9))\n",
    "plt.title(\"Measured And Gap-filled Values\")\n",
    "plt.plot(gapfilled_df[x_col], label=f\"measured {x_col}\")\n",
    "plt.plot(gapfilled_df[y_col], label=f\"gap predictions {y_col}\", lw=2)\n",
    "plt.legend()\n",
    "plt.show()"
   ]
  },
  {
   "cell_type": "markdown",
   "id": "aa6dedd0",
   "metadata": {},
   "source": [
    "### Plot: Gap-filled Time Series"
   ]
  },
  {
   "cell_type": "code",
   "execution_count": 71,
   "id": "24bb0cad",
   "metadata": {},
   "outputs": [
    {
     "data": {
      "image/png": "[encoded data removed]",
      "text/plain": [
       "<Figure size 1728x648 with 1 Axes>"
      ]
     },
     "metadata": {
      "needs_background": "light"
     },
     "output_type": "display_data"
    }
   ],
   "source": [
    "col = ('target#gfRF', '-')\n",
    "plt.figure(figsize=(24, 9))\n",
    "plt.title(\"Gap-filled Time Series\")\n",
    "plt.plot(gapfilled_df[col], label=f\"gap-filled time series {col}\")\n",
    "plt.legend()\n",
    "plt.show()"
   ]
  },
  {
   "cell_type": "markdown",
   "id": "ea01c385",
   "metadata": {},
   "source": [
    "### Visualize tree"
   ]
  },
  {
   "cell_type": "code",
   "execution_count": 72,
   "id": "057aaaad",
   "metadata": {
    "tags": []
   },
   "outputs": [],
   "source": [
    "# # Visualize one of the decision trees\n",
    "# from sklearn.tree import export_graphviz\n",
    "# import pydot\n",
    "# tree = rfts.model.estimators_[2]  # # Pull out one tree from the forest\n",
    "# export_graphviz(tree, out_file = 'tree.dot', feature_names=rfts.feature_names, rounded = True, precision = 1)  # Export the image to a dot file\n",
    "# (graph, ) = pydot.graph_from_dot_file('tree.dot')  # Use dot file to create a graph\n",
    "# graph.write_png('tree.png')  # Write graph to a png file"
   ]
  },
  {
   "cell_type": "code",
   "execution_count": 73,
   "id": "0ea1b01a-7830-4af0-a0a3-5007b5d37c8c",
   "metadata": {},
   "outputs": [
    {
     "name": "stdout",
     "output_type": "stream",
     "text": [
      "Fitting estimator with 37 features.\n",
      "Fitting estimator with 36 features.\n",
      "Fitting estimator with 35 features.\n",
      "Fitting estimator with 34 features.\n",
      "Fitting estimator with 33 features.\n",
      "Fitting estimator with 32 features.\n",
      "Fitting estimator with 31 features.\n",
      "Fitting estimator with 30 features.\n",
      "Fitting estimator with 29 features.\n",
      "Fitting estimator with 28 features.\n",
      "Fitting estimator with 27 features.\n",
      "Fitting estimator with 26 features.\n",
      "Fitting estimator with 25 features.\n",
      "Fitting estimator with 24 features.\n",
      "Fitting estimator with 23 features.\n",
      "Fitting estimator with 22 features.\n",
      "Fitting estimator with 21 features.\n",
      "Fitting estimator with 37 features.\n",
      "Fitting estimator with 36 features.\n",
      "Fitting estimator with 35 features.\n",
      "Fitting estimator with 34 features.\n",
      "Fitting estimator with 33 features.\n",
      "Fitting estimator with 32 features.\n",
      "Fitting estimator with 31 features.\n",
      "Fitting estimator with 30 features.\n",
      "Fitting estimator with 29 features.\n",
      "Fitting estimator with 28 features.\n",
      "Fitting estimator with 27 features.\n",
      "Fitting estimator with 26 features.\n",
      "Fitting estimator with 25 features.\n",
      "Fitting estimator with 24 features.\n",
      "Fitting estimator with 23 features.\n",
      "Fitting estimator with 22 features.\n",
      "Fitting estimator with 21 features.\n",
      "Fitting estimator with 37 features.\n",
      "Fitting estimator with 36 features.\n",
      "Fitting estimator with 35 features.\n",
      "Fitting estimator with 34 features.\n",
      "Fitting estimator with 33 features.\n",
      "Fitting estimator with 32 features.\n",
      "Fitting estimator with 31 features.\n",
      "Fitting estimator with 30 features.\n",
      "Fitting estimator with 29 features.\n",
      "Fitting estimator with 28 features.\n",
      "Fitting estimator with 27 features.\n",
      "Fitting estimator with 26 features.\n",
      "Fitting estimator with 25 features.\n",
      "Fitting estimator with 24 features.\n",
      "Fitting estimator with 23 features.\n",
      "Fitting estimator with 22 features.\n",
      "Fitting estimator with 21 features.\n",
      "Fitting estimator with 37 features.\n",
      "Fitting estimator with 36 features.\n",
      "Fitting estimator with 35 features.\n",
      "Fitting estimator with 34 features.\n",
      "Fitting estimator with 33 features.\n",
      "Fitting estimator with 32 features.\n",
      "Fitting estimator with 31 features.\n",
      "Fitting estimator with 30 features.\n",
      "Fitting estimator with 29 features.\n",
      "Fitting estimator with 28 features.\n",
      "Fitting estimator with 27 features.\n",
      "Fitting estimator with 26 features.\n",
      "Fitting estimator with 25 features.\n",
      "Fitting estimator with 24 features.\n",
      "Fitting estimator with 23 features.\n",
      "Fitting estimator with 22 features.\n",
      "Fitting estimator with 21 features.\n",
      "Fitting estimator with 37 features.\n",
      "Fitting estimator with 36 features.\n",
      "Fitting estimator with 35 features.\n",
      "Fitting estimator with 34 features.\n",
      "Fitting estimator with 33 features.\n",
      "Fitting estimator with 32 features.\n",
      "Fitting estimator with 31 features.\n",
      "Fitting estimator with 30 features.\n",
      "Fitting estimator with 29 features.\n",
      "Fitting estimator with 28 features.\n",
      "Fitting estimator with 27 features.\n",
      "Fitting estimator with 26 features.\n",
      "Fitting estimator with 25 features.\n",
      "Fitting estimator with 24 features.\n",
      "Fitting estimator with 23 features.\n",
      "Fitting estimator with 22 features.\n",
      "Fitting estimator with 21 features.\n"
     ]
    }
   ],
   "source": [
    "# rfts.feat_reduction_results"
   ]
  },
  {
   "cell_type": "markdown",
   "id": "cef99536-78c8-45c4-ba3d-40e9dc500c3e",
   "metadata": {},
   "source": [
    "## Kudos"
   ]
  },
  {
   "cell_type": "markdown",
   "id": "1d992d82-1c9c-4114-9c60-d62142032357",
   "metadata": {},
   "source": [
    "- kudos: https://stackoverflow.com/questions/26911851/how-to-use-pandas-to-find-consecutive-same-data-in-time-series\n",
    "- https://bambielli.com/til/2018-02-11-one-hot-encoding/\n",
    "- https://www.educative.io/blog/one-hot-encoding#sklearn"
   ]
  }
 ],
 "metadata": {
  "kernelspec": {
   "display_name": "Python 3 (ipykernel)",
   "language": "python",
   "name": "python3"
  },
  "language_info": {
   "codemirror_mode": {
    "name": "ipython",
    "version": 3
   },
   "file_extension": ".py",
   "mimetype": "text/x-python",
   "name": "python",
   "nbconvert_exporter": "python",
   "pygments_lexer": "ipython3",
   "version": "3.9.5"
  },
  "toc-autonumbering": true,
  "toc-showtags": false
 },
 "nbformat": 4,
 "nbformat_minor": 5
}
